{
  "cells": [
    {
      "cell_type": "markdown",
      "metadata": {
        "id": "iqSEn-nk36ag"
      },
      "source": [
        "# **Homework 3** "
      ]
    },
    {
      "cell_type": "markdown",
      "metadata": {
        "id": "vB31qoQo4Aol"
      },
      "source": [
        "## Data Loading"
      ]
    },
    {
      "cell_type": "code",
      "execution_count": 1,
      "metadata": {
        "colab": {
          "base_uri": "https://localhost:8080/"
        },
        "id": "pI_7B8ZyiiGm",
        "outputId": "da058562-c2ce-4f47-8358-5c8c0c399a87"
      },
      "outputs": [
        {
          "output_type": "stream",
          "name": "stdout",
          "text": [
            "Drive already mounted at /content/drive; to attempt to forcibly remount, call drive.mount(\"/content/drive\", force_remount=True).\n"
          ]
        }
      ],
      "source": [
        "#mountig drive to colab\n",
        "from google.colab import drive\n",
        "drive.mount('/content/drive')"
      ]
    },
    {
      "cell_type": "code",
      "execution_count": 2,
      "metadata": {
        "id": "jE3z6VioyE1i"
      },
      "outputs": [],
      "source": [
        "#importing various libraries \n",
        "import tensorflow as tf\n",
        "from tensorflow.python.client import device_lib\n",
        "import tensorflow_datasets.public_api as tfds\n",
        "from tensorflow import keras\n",
        "from tensorflow.keras import layers\n",
        "from tensorflow.keras.layers import add\n",
        "from tensorflow.keras.applications import MobileNetV3Small\n",
        "from tensorflow.keras.callbacks import ModelCheckpoint\n",
        "from tensorflow.keras.models import load_model\n",
        "\n",
        "from tensorflow.keras.callbacks import LearningRateScheduler\n",
        "from tensorflow.keras.datasets import mnist\n",
        "from tensorflow.keras.layers import AveragePooling2D\n",
        "from tensorflow.keras.datasets import cifar10\n",
        "from tensorflow.keras.models import Sequential\n",
        "from tensorflow.keras.layers import Activation\n",
        "from tensorflow.keras.layers import BatchNormalization\n",
        "from tensorflow.keras.layers import Conv2D\n",
        "from tensorflow.keras.layers import Dense\n",
        "from tensorflow.keras.layers import Dropout\n",
        "from tensorflow.keras.layers import Input\n",
        "from tensorflow.keras.layers import Flatten\n",
        "from tensorflow.keras import backend\n",
        "from tensorflow.keras.layers import InputLayer\n",
        "from tensorflow.keras.layers import concatenate\n",
        "from tensorflow.keras.layers import MaxPooling2D\n",
        "from tensorflow.keras.models import Model\n",
        "from tensorflow.keras.optimizers import SGD\n",
        "from tensorflow.keras.optimizers import Adam\n",
        "from tensorflow.keras.regularizers import l2\n",
        "from tensorflow.keras.utils import to_categorical\n",
        "from tensorflow.keras.utils import image_dataset_from_directory\n",
        "from tensorflow.keras.layers import Rescaling\n",
        "from tensorflow.keras.layers import RandomFlip\n",
        "from tensorflow.keras.layers import RandomRotation\n",
        "from tensorflow.keras.layers import RandomTranslation\n",
        "from tensorflow.keras.layers import RandomZoom\n",
        "from tensorflow.keras.preprocessing.image import ImageDataGenerator\n",
        "\n",
        "\n",
        "import matplotlib.pyplot as plt\n",
        "import numpy as np\n",
        "import os\n",
        "import shutil\n",
        "\n",
        "from sklearn.model_selection import train_test_split\n",
        "from sklearn.metrics import classification_report\n",
        "from sklearn.preprocessing import LabelEncoder"
      ]
    },
    {
      "cell_type": "code",
      "execution_count": 3,
      "metadata": {
        "colab": {
          "base_uri": "https://localhost:8080/"
        },
        "id": "uuVP2o3LQt5Q",
        "outputId": "adbe4caa-8820-4dfd-9b9a-e37e59191870"
      },
      "outputs": [
        {
          "output_type": "stream",
          "name": "stdout",
          "text": [
            "/usr/local/lib/python3.7/dist-packages/gdown/cli.py:131: FutureWarning: Option `--id` was deprecated in version 4.3.1 and will be removed in 5.0. You don't need to pass it anymore to use a file ID.\n",
            "  category=FutureWarning,\n",
            "Downloading...\n",
            "From: https://drive.google.com/uc?id=1y2MhN3fc-ce9m3EsBf6xj8UUFaXB36bU\n",
            "To: /content/NWPU-RESISC45.rar\n",
            "100% 424M/424M [00:01<00:00, 271MB/s]\n"
          ]
        }
      ],
      "source": [
        "!gdown --id 1y2MhN3fc-ce9m3EsBf6xj8UUFaXB36bU\n",
        "!mkdir -p /content/drive/MyDrive/Colab\\ Notebooks\n",
        "!mv NWPU-RESISC45.rar /content/drive/MyDrive/Colab\\ Notebooks"
      ]
    },
    {
      "cell_type": "code",
      "execution_count": 4,
      "metadata": {
        "id": "siIIaAIjQvH_"
      },
      "outputs": [],
      "source": [
        "!mkdir -p /root/tensorflow_datasets/downloads/manual\n",
        "!cp /content/drive/MyDrive/Colab\\ Notebooks/NWPU-RESISC45.rar .\n",
        "!unrar x NWPU-RESISC45.rar /root/tensorflow_datasets/downloads/manual -idq -o+"
      ]
    },
    {
      "cell_type": "code",
      "execution_count": 5,
      "metadata": {
        "id": "6d7ZD5xKQxlm"
      },
      "outputs": [],
      "source": [
        "#splitting the dataset into training, validation, and test sets\n",
        "(train_ds, val_ds, test_ds), info_ds = tfds.load('resisc45', split=['train[:60%]', 'train[60%:80%]', 'train[80%:]'], as_supervised=True, with_info=True)"
      ]
    },
    {
      "cell_type": "code",
      "execution_count": 6,
      "metadata": {
        "id": "6V5tQo_sQ7BP"
      },
      "outputs": [],
      "source": [
        "#separating test dataset to x and y components and adding to a list\n",
        "test_numpy = tfds.as_numpy(test_ds)  # Convert `tf.data.Dataset` to Python generator\n",
        "\n",
        "testX = []\n",
        "testY = []\n",
        "\n",
        "for ex in test_numpy:\n",
        "  testX.append(ex[0])\n",
        "  testY.append(ex[1])"
      ]
    },
    {
      "cell_type": "code",
      "execution_count": 7,
      "metadata": {
        "id": "89f3Lkt_UFN3"
      },
      "outputs": [],
      "source": [
        "#transforming list into array\n",
        "testY = np.array(testY)\n",
        "testX = np.array(testX)"
      ]
    },
    {
      "cell_type": "code",
      "execution_count": 8,
      "metadata": {
        "id": "R1HheVJdS6aG"
      },
      "outputs": [],
      "source": [
        "#separating train dataset to x and y components and adding to a list\n",
        "train_numpy = tfds.as_numpy(train_ds)  # Convert `tf.data.Dataset` to Python generator\n",
        "\n",
        "trainX = []\n",
        "trainY = []\n",
        "\n",
        "for ex in train_numpy:\n",
        "  trainX.append(ex[0])\n",
        "  trainY.append(ex[1])"
      ]
    },
    {
      "cell_type": "code",
      "execution_count": 9,
      "metadata": {
        "id": "QP_GDRaGU0Q9"
      },
      "outputs": [],
      "source": [
        "#transforming list into array\n",
        "trainY = np.array(trainY)\n",
        "trainX = np.array(trainX)"
      ]
    },
    {
      "cell_type": "code",
      "execution_count": 10,
      "metadata": {
        "id": "oERpen_HTC1I"
      },
      "outputs": [],
      "source": [
        "#separating test dataset to x and y components and adding to a list\n",
        "val_numpy = tfds.as_numpy(val_ds)  # Convert `tf.data.Dataset` to Python generator\n",
        "\n",
        "valX = []\n",
        "valY = []\n",
        "\n",
        "for ex in val_numpy:\n",
        "  valX.append(ex[0])\n",
        "  valY.append(ex[1])"
      ]
    },
    {
      "cell_type": "code",
      "execution_count": 11,
      "metadata": {
        "id": "SJol5CAQU78N"
      },
      "outputs": [],
      "source": [
        "#transforming list into array\n",
        "valY = np.array(valY)\n",
        "valX = np.array(valX)"
      ]
    },
    {
      "cell_type": "code",
      "execution_count": 12,
      "metadata": {
        "id": "DNPI7JAgQ3Ee"
      },
      "outputs": [],
      "source": [
        "#list of target names\n",
        "feats = info_ds.features[\"label\"].names"
      ]
    },
    {
      "cell_type": "markdown",
      "metadata": {
        "id": "nj2-L_wU6FH6"
      },
      "source": [
        "### Preproccesing the Data"
      ]
    },
    {
      "cell_type": "markdown",
      "metadata": {
        "id": "bvZsaUdyfxPo"
      },
      "source": [
        "The preprocessing of the training images is built into the varioius convolutional neural network architectures."
      ]
    },
    {
      "cell_type": "markdown",
      "metadata": {
        "id": "P3WGf53p4GHd"
      },
      "source": [
        "## Model Training and Tuning"
      ]
    },
    {
      "cell_type": "markdown",
      "source": [
        "### Sandwich CNN"
      ],
      "metadata": {
        "id": "mw0VoUWcDJbK"
      }
    },
    {
      "cell_type": "code",
      "execution_count": null,
      "metadata": {
        "id": "hTYmNjfGoAm0"
      },
      "outputs": [],
      "source": [
        "class SandwichCNN:\n",
        "  def build(height, width, depth, classes, blocks, dropout = False, augment = False):\n",
        "    model = Sequential()\n",
        "\n",
        "    model.add(Rescaling(1./255, input_shape = (height, width, depth)))\n",
        "\n",
        "    if augment:\n",
        "      model.add(RandomFlip())\n",
        "      model.add(RandomRotation(0.1))\n",
        "      model.add(RandomZoom(0.1))\n",
        "\n",
        "    for i in range(blocks):\n",
        "      model.add(Conv2D(2 ** (blocks + 5), (3,3), padding = 'same'))\n",
        "      model.add(Activation('relu'))\n",
        "\n",
        "      model.add(MaxPooling2D((2,2)))\n",
        "      \n",
        "      if dropout: model.add(Dropout(dropout))\n",
        "    \n",
        "    model.add(Flatten())\n",
        "    model.add(Dense(classes))\n",
        "    model.add(Activation('softmax'))\n",
        "\n",
        "    return model\n",
        "\n"
      ]
    },
    {
      "cell_type": "code",
      "execution_count": null,
      "metadata": {
        "colab": {
          "base_uri": "https://localhost:8080/",
          "height": 1000
        },
        "id": "N_zdFpjXq9ex",
        "outputId": "81a40b8c-40a1-404d-b495-300e135e863d"
      },
      "outputs": [
        {
          "output_type": "stream",
          "name": "stdout",
          "text": [
            "Model: \"sequential\"\n",
            "_________________________________________________________________\n",
            " Layer (type)                Output Shape              Param #   \n",
            "=================================================================\n",
            " rescaling (Rescaling)       (None, 256, 256, 3)       0         \n",
            "                                                                 \n",
            " random_flip (RandomFlip)    (None, 256, 256, 3)       0         \n",
            "                                                                 \n",
            " random_rotation (RandomRota  (None, 256, 256, 3)      0         \n",
            " tion)                                                           \n",
            "                                                                 \n",
            " random_zoom (RandomZoom)    (None, 256, 256, 3)       0         \n",
            "                                                                 \n",
            " flatten (Flatten)           (None, 196608)            0         \n",
            "                                                                 \n",
            " dense (Dense)               (None, 45)                8847405   \n",
            "                                                                 \n",
            " activation (Activation)     (None, 45)                0         \n",
            "                                                                 \n",
            "=================================================================\n",
            "Total params: 8,847,405\n",
            "Trainable params: 8,847,405\n",
            "Non-trainable params: 0\n",
            "_________________________________________________________________\n",
            "None\n",
            "Epoch 1/5\n",
            "591/591 [==============================] - 20s 31ms/step - loss: 87.9772 - accuracy: 0.0632 - val_loss: 43.6850 - val_accuracy: 0.0770\n",
            "Epoch 2/5\n",
            "591/591 [==============================] - 17s 29ms/step - loss: 59.4301 - accuracy: 0.0824 - val_loss: 53.5745 - val_accuracy: 0.0740\n",
            "Epoch 3/5\n",
            "591/591 [==============================] - 17s 29ms/step - loss: 54.8316 - accuracy: 0.0913 - val_loss: 52.5319 - val_accuracy: 0.0687\n",
            "Epoch 4/5\n",
            "591/591 [==============================] - 17s 29ms/step - loss: 56.3300 - accuracy: 0.0885 - val_loss: 53.5296 - val_accuracy: 0.0922\n",
            "Epoch 5/5\n",
            "591/591 [==============================] - 17s 29ms/step - loss: 57.7978 - accuracy: 0.0898 - val_loss: 42.4735 - val_accuracy: 0.1025\n",
            "Model: \"sequential_1\"\n",
            "_________________________________________________________________\n",
            " Layer (type)                Output Shape              Param #   \n",
            "=================================================================\n",
            " rescaling_1 (Rescaling)     (None, 256, 256, 3)       0         \n",
            "                                                                 \n",
            " random_flip_1 (RandomFlip)  (None, 256, 256, 3)       0         \n",
            "                                                                 \n",
            " random_rotation_1 (RandomRo  (None, 256, 256, 3)      0         \n",
            " tation)                                                         \n",
            "                                                                 \n",
            " random_zoom_1 (RandomZoom)  (None, 256, 256, 3)       0         \n",
            "                                                                 \n",
            " conv2d (Conv2D)             (None, 256, 256, 64)      1792      \n",
            "                                                                 \n",
            " activation_1 (Activation)   (None, 256, 256, 64)      0         \n",
            "                                                                 \n",
            " max_pooling2d (MaxPooling2D  (None, 128, 128, 64)     0         \n",
            " )                                                               \n",
            "                                                                 \n",
            " dropout (Dropout)           (None, 128, 128, 64)      0         \n",
            "                                                                 \n",
            " flatten_1 (Flatten)         (None, 1048576)           0         \n",
            "                                                                 \n",
            " dense_1 (Dense)             (None, 45)                47185965  \n",
            "                                                                 \n",
            " activation_2 (Activation)   (None, 45)                0         \n",
            "                                                                 \n",
            "=================================================================\n",
            "Total params: 47,187,757\n",
            "Trainable params: 47,187,757\n",
            "Non-trainable params: 0\n",
            "_________________________________________________________________\n",
            "None\n",
            "Epoch 1/5\n",
            "591/591 [==============================] - 61s 99ms/step - loss: 4.2609 - accuracy: 0.2140 - val_loss: 2.9592 - val_accuracy: 0.2829\n",
            "Epoch 2/5\n",
            "591/591 [==============================] - 57s 97ms/step - loss: 2.5184 - accuracy: 0.3080 - val_loss: 2.8630 - val_accuracy: 0.2965\n",
            "Epoch 3/5\n",
            "591/591 [==============================] - 57s 97ms/step - loss: 2.3696 - accuracy: 0.3498 - val_loss: 2.5700 - val_accuracy: 0.3460\n",
            "Epoch 4/5\n",
            "591/591 [==============================] - 57s 97ms/step - loss: 2.2649 - accuracy: 0.3751 - val_loss: 2.7755 - val_accuracy: 0.3398\n",
            "Epoch 5/5\n",
            "591/591 [==============================] - 57s 97ms/step - loss: 2.2228 - accuracy: 0.3865 - val_loss: 2.7529 - val_accuracy: 0.3513\n"
          ]
        },
        {
          "output_type": "display_data",
          "data": {
            "text/plain": [
              "<Figure size 432x288 with 1 Axes>"
            ],
            "image/png": "[encoded data removed]"
          },
          "metadata": {}
        },
        {
          "output_type": "display_data",
          "data": {
            "text/plain": [
              "<Figure size 432x288 with 1 Axes>"
            ],
            "image/png": "[encoded data removed]"
          },
          "metadata": {}
        }
      ],
      "source": [
        "dropout = 0.2\n",
        "augment = True\n",
        "maxEpochs = 5\n",
        "batch_size = 32\n",
        "\n",
        "for i in range(2):\n",
        "  model = SandwichCNN.build(256,256,3,45,i, dropout=dropout, augment=augment)\n",
        "  model.compile(loss = 'sparse_categorical_crossentropy', optimizer = Adam(), metrics = ['accuracy'])\n",
        "  print(model.summary())\n",
        "  H = model.fit(trainX, trainY, validation_data = (valX, valY), epochs = maxEpochs, batch_size = batch_size)\n",
        "\n",
        "  # plot the training loss and accuracy\n",
        "  plt.style.use(\"ggplot\")\n",
        "  plt.figure()\n",
        "\n",
        "  plt.plot(range(maxEpochs), H.history['loss'], label = 'training loss')\n",
        "  plt.plot(range(maxEpochs), H.history['val_loss'], label = 'dev loss')\n",
        "  plt.plot(range(maxEpochs), H.history['accuracy'], label = 'training accuracy')\n",
        "  plt.plot(range(maxEpochs), H.history['val_accuracy'], label = 'dev accuracy')\n",
        "\n",
        "  plt.title(\"Training Loss and Accuracy\")\n",
        "  plt.xlabel(\"Epoch #\")\n",
        "  plt.ylabel(\"Loss/Accuracy\")\n",
        "  plt.legend()"
      ]
    },
    {
      "cell_type": "markdown",
      "source": [
        "### MiniVGGNet"
      ],
      "metadata": {
        "id": "73hO4Jf2DRBC"
      }
    },
    {
      "cell_type": "code",
      "execution_count": null,
      "metadata": {
        "id": "yEkSCQWIx_jH"
      },
      "outputs": [],
      "source": [
        "class MiniVGGNet:\n",
        "  def build(height, width, depth, classes):\n",
        "    model = Sequential(name = 'MiniVGGNet')\n",
        "\n",
        "    #rescaling layer to change image shape\n",
        "    model.add(Rescaling(1./255, input_shape = (height, width, depth)))\n",
        "\n",
        "    #data augmentation\n",
        "    model.add(RandomFlip())\n",
        "    model.add(RandomRotation(0.1))\n",
        "    model.add(RandomZoom(0.1))\n",
        "    \n",
        "    model.add(Conv2D(32, (3, 3), padding = 'same', input_shape = (height, width, depth)))\n",
        "    model.add(Activation('relu'))\n",
        "    model.add(BatchNormalization())\n",
        "\n",
        "    model.add(Conv2D(32, (3, 3), padding = 'same'))\n",
        "    model.add(Activation('relu'))\n",
        "    model.add(BatchNormalization())\n",
        "   \n",
        "    model.add(MaxPooling2D(pool_size = (2, 2), strides = (2, 2)))\n",
        "    model.add(Dropout(0.25))\n",
        "\n",
        "    model.add(Conv2D(64, (3, 3), padding = 'same'))\n",
        "    model.add(Activation('relu'))\n",
        "    model.add(BatchNormalization())\n",
        "\n",
        "    model.add(Conv2D(64, (3, 3), padding = 'same'))\n",
        "    model.add(Activation('relu'))\n",
        "    model.add(BatchNormalization())\n",
        "\n",
        "    model.add(MaxPooling2D(pool_size = (2, 2), strides = (2, 2)))\n",
        "    model.add(Dropout(0.25))\n",
        "\n",
        "    model.add(Flatten())\n",
        "\n",
        "    model.add(Dense(512))\n",
        "    model.add(Activation('relu'))\n",
        "    model.add(BatchNormalization())\n",
        "    model.add(Dropout(0.5))\n",
        "\n",
        "    model.add(Dense(classes))\n",
        "    model.add(Activation('softmax'))\n",
        "\n",
        "    return model"
      ]
    },
    {
      "cell_type": "code",
      "execution_count": null,
      "metadata": {
        "colab": {
          "base_uri": "https://localhost:8080/",
          "height": 1000
        },
        "id": "yk9WDUB44FaU",
        "outputId": "037ee101-640e-483c-8512-2dfe96f228ed"
      },
      "outputs": [
        {
          "name": "stdout",
          "output_type": "stream",
          "text": [
            "Model: \"MiniVGGNet\"\n",
            "_________________________________________________________________\n",
            " Layer (type)                Output Shape              Param #   \n",
            "=================================================================\n",
            " rescaling_9 (Rescaling)     (None, 256, 256, 3)       0         \n",
            "                                                                 \n",
            " random_flip_20 (RandomFlip)  (None, 256, 256, 3)      0         \n",
            "                                                                 \n",
            " random_rotation_20 (RandomR  (None, 256, 256, 3)      0         \n",
            " otation)                                                        \n",
            "                                                                 \n",
            " random_zoom_20 (RandomZoom)  (None, 256, 256, 3)      0         \n",
            "                                                                 \n",
            " conv2d_75 (Conv2D)          (None, 256, 256, 32)      896       \n",
            "                                                                 \n",
            " activation_115 (Activation)  (None, 256, 256, 32)     0         \n",
            "                                                                 \n",
            " batch_normalization_56 (Bat  (None, 256, 256, 32)     128       \n",
            " chNormalization)                                                \n",
            "                                                                 \n",
            " conv2d_76 (Conv2D)          (None, 256, 256, 32)      9248      \n",
            "                                                                 \n",
            " activation_116 (Activation)  (None, 256, 256, 32)     0         \n",
            "                                                                 \n",
            " batch_normalization_57 (Bat  (None, 256, 256, 32)     128       \n",
            " chNormalization)                                                \n",
            "                                                                 \n",
            " max_pooling2d_50 (MaxPoolin  (None, 128, 128, 32)     0         \n",
            " g2D)                                                            \n",
            "                                                                 \n",
            " dropout_46 (Dropout)        (None, 128, 128, 32)      0         \n",
            "                                                                 \n",
            " conv2d_77 (Conv2D)          (None, 128, 128, 64)      18496     \n",
            "                                                                 \n",
            " activation_117 (Activation)  (None, 128, 128, 64)     0         \n",
            "                                                                 \n",
            " batch_normalization_58 (Bat  (None, 128, 128, 64)     256       \n",
            " chNormalization)                                                \n",
            "                                                                 \n",
            " conv2d_78 (Conv2D)          (None, 128, 128, 64)      36928     \n",
            "                                                                 \n",
            " activation_118 (Activation)  (None, 128, 128, 64)     0         \n",
            "                                                                 \n",
            " batch_normalization_59 (Bat  (None, 128, 128, 64)     256       \n",
            " chNormalization)                                                \n",
            "                                                                 \n",
            " max_pooling2d_51 (MaxPoolin  (None, 64, 64, 64)       0         \n",
            " g2D)                                                            \n",
            "                                                                 \n",
            " dropout_47 (Dropout)        (None, 64, 64, 64)        0         \n",
            "                                                                 \n",
            " flatten_22 (Flatten)        (None, 262144)            0         \n",
            "                                                                 \n",
            " dense_40 (Dense)            (None, 512)               134218240 \n",
            "                                                                 \n",
            " activation_119 (Activation)  (None, 512)              0         \n",
            "                                                                 \n",
            " batch_normalization_60 (Bat  (None, 512)              2048      \n",
            " chNormalization)                                                \n",
            "                                                                 \n",
            " dropout_48 (Dropout)        (None, 512)               0         \n",
            "                                                                 \n",
            " dense_41 (Dense)            (None, 45)                23085     \n",
            "                                                                 \n",
            " activation_120 (Activation)  (None, 45)               0         \n",
            "                                                                 \n",
            "=================================================================\n",
            "Total params: 134,309,709\n",
            "Trainable params: 134,308,301\n",
            "Non-trainable params: 1,408\n",
            "_________________________________________________________________\n",
            "None\n",
            "Epoch 1/15\n",
            "788/788 [==============================] - 63s 78ms/step - loss: 3.0452 - accuracy: 0.2268 - val_loss: 2.7385 - val_accuracy: 0.3051\n",
            "Epoch 2/15\n",
            "788/788 [==============================] - 61s 78ms/step - loss: 2.1456 - accuracy: 0.3973 - val_loss: 16.9114 - val_accuracy: 0.0306\n",
            "Epoch 3/15\n",
            "788/788 [==============================] - 62s 78ms/step - loss: 1.8968 - accuracy: 0.4557 - val_loss: 2.7166 - val_accuracy: 0.3468\n",
            "Epoch 4/15\n",
            "788/788 [==============================] - 62s 78ms/step - loss: 1.6108 - accuracy: 0.5291 - val_loss: 1.8319 - val_accuracy: 0.4952\n",
            "Epoch 5/15\n",
            "788/788 [==============================] - 61s 78ms/step - loss: 1.4409 - accuracy: 0.5771 - val_loss: 1.7884 - val_accuracy: 0.5186\n",
            "Epoch 6/15\n",
            "788/788 [==============================] - 61s 78ms/step - loss: 1.3095 - accuracy: 0.6082 - val_loss: 1.4533 - val_accuracy: 0.5862\n",
            "Epoch 7/15\n",
            "788/788 [==============================] - 61s 78ms/step - loss: 1.2082 - accuracy: 0.6418 - val_loss: 1.3434 - val_accuracy: 0.6152\n",
            "Epoch 8/15\n",
            "788/788 [==============================] - 61s 78ms/step - loss: 1.1233 - accuracy: 0.6589 - val_loss: 1.4207 - val_accuracy: 0.6062\n",
            "Epoch 9/15\n",
            "788/788 [==============================] - 62s 78ms/step - loss: 1.0796 - accuracy: 0.6720 - val_loss: 1.2302 - val_accuracy: 0.6437\n",
            "Epoch 10/15\n",
            "788/788 [==============================] - 61s 78ms/step - loss: 1.0261 - accuracy: 0.6864 - val_loss: 4.9661 - val_accuracy: 0.3667\n",
            "Epoch 11/15\n",
            "788/788 [==============================] - 61s 78ms/step - loss: 0.9772 - accuracy: 0.7004 - val_loss: 2.8572 - val_accuracy: 0.5079\n",
            "Epoch 12/15\n",
            "788/788 [==============================] - 61s 78ms/step - loss: 0.9483 - accuracy: 0.7101 - val_loss: 1.7854 - val_accuracy: 0.5757\n",
            "Epoch 13/15\n",
            "788/788 [==============================] - 61s 78ms/step - loss: 0.9434 - accuracy: 0.7143 - val_loss: 1.2188 - val_accuracy: 0.6502\n",
            "Epoch 14/15\n",
            "788/788 [==============================] - 61s 78ms/step - loss: 0.8887 - accuracy: 0.7267 - val_loss: 1.0887 - val_accuracy: 0.6814\n",
            "Epoch 15/15\n",
            "788/788 [==============================] - 61s 78ms/step - loss: 0.8576 - accuracy: 0.7327 - val_loss: 1.1315 - val_accuracy: 0.6741\n"
          ]
        },
        {
          "data": {
            "text/plain": [
              "<matplotlib.legend.Legend at 0x7f10e446da10>"
            ]
          },
          "execution_count": 35,
          "metadata": {},
          "output_type": "execute_result"
        },
        {
          "data": {
            "image/png": "[encoded data removed]",
            "text/plain": [
              "<Figure size 432x288 with 1 Axes>"
            ]
          },
          "metadata": {},
          "output_type": "display_data"
        }
      ],
      "source": [
        "maxEpochs = 15\n",
        "batch_size = 32\n",
        "\n",
        "model = MiniVGGNet.build(256,256,3,45)\n",
        "model.compile(loss = 'sparse_categorical_crossentropy', optimizer = Adam(), metrics = ['accuracy'])\n",
        "print(model.summary())\n",
        "H = model.fit(train_dataset, validation_data = test_dataset, epochs = maxEpochs, batch_size = batch_size)\n",
        "\n",
        "# plot the training loss and accuracy\n",
        "plt.style.use(\"ggplot\")\n",
        "plt.figure()\n",
        "\n",
        "plt.plot(range(maxEpochs), H.history['loss'], label = 'training loss')\n",
        "plt.plot(range(maxEpochs), H.history['val_loss'], label = 'dev loss')\n",
        "plt.plot(range(maxEpochs), H.history['accuracy'], label = 'training accuracy')\n",
        "plt.plot(range(maxEpochs), H.history['val_accuracy'], label = 'dev accuracy')\n",
        "\n",
        "plt.title(\"Training Loss and Accuracy\")\n",
        "plt.xlabel(\"Epoch #\")\n",
        "plt.ylabel(\"Loss/Accuracy\")\n",
        "plt.legend()"
      ]
    },
    {
      "cell_type": "markdown",
      "source": [
        "### AlexNet"
      ],
      "metadata": {
        "id": "Q-fxxNFhDcxf"
      }
    },
    {
      "cell_type": "code",
      "execution_count": 13,
      "metadata": {
        "id": "PuErS3ZIJQoU"
      },
      "outputs": [],
      "source": [
        "class AlexNet:\n",
        "    def build(height, width, depth, classes, lambda2 = 0.0002):\n",
        "        model = Sequential(name = 'AlexNet')\n",
        "\n",
        "        #rescaling layer to change image shape\n",
        "        model.add(Rescaling(1./255, input_shape = (height, width, depth)))\n",
        "\n",
        "        #data augmentation\n",
        "        model.add(RandomFlip())\n",
        "        model.add(RandomRotation(0.1))\n",
        "        model.add(RandomZoom(0.1))\n",
        "        \n",
        "        model.add(Conv2D(96, (11, 11), strides = (4, 4), input_shape = (height, width, depth),\n",
        "                         padding='same', kernel_regularizer = l2(lambda2)))\n",
        "        model.add(Activation('relu'))\n",
        "        model.add(BatchNormalization())\n",
        "        model.add(MaxPooling2D(pool_size = (3,3), strides = (2,2)))\n",
        "        model.add(Dropout(0.25))\n",
        "        \n",
        "        model.add(Conv2D(256, (5, 5), padding = 'same', kernel_regularizer = l2(lambda2)))\n",
        "        model.add(Activation('relu'))\n",
        "        model.add(BatchNormalization())\n",
        "        model.add(MaxPooling2D(pool_size = (3, 3), strides = (2, 2)))\n",
        "        model.add(Dropout(0.25))\n",
        "        \n",
        "        model.add(Conv2D(384, (3, 3), padding = 'same', kernel_regularizer = l2(lambda2)))\n",
        "        model.add(Activation('relu'))\n",
        "        model.add(BatchNormalization())\n",
        "        \n",
        "        model.add(Conv2D(384, (3, 3), padding = 'same', kernel_regularizer = l2(lambda2)))\n",
        "        model.add(Activation('relu'))\n",
        "        model.add(BatchNormalization())\n",
        "        \n",
        "        model.add(Conv2D(256, (3, 3), padding = 'same', kernel_regularizer = l2(lambda2)))\n",
        "        model.add(Activation('relu'))\n",
        "        model.add(BatchNormalization())\n",
        "        model.add(MaxPooling2D(pool_size = (3, 3), strides = (2, 2)))\n",
        "        model.add(Dropout(0.25))\n",
        "        \n",
        "        model.add(Flatten())\n",
        "        \n",
        "        model.add(Dense(4096, kernel_regularizer = l2(lambda2)))\n",
        "        model.add(Activation('relu'))\n",
        "        model.add(BatchNormalization())\n",
        "        model.add(Dropout(0.5))\n",
        "        \n",
        "        model.add(Dense(4096, kernel_regularizer = l2(lambda2)))\n",
        "        model.add(Activation('relu'))\n",
        "        model.add(BatchNormalization())\n",
        "        model.add(Dropout(0.5))\n",
        "        \n",
        "        model.add(Dense(classes, kernel_regularizer = l2(lambda2)))\n",
        "        model.add(Activation('softmax'))\n",
        "        \n",
        "        return model"
      ]
    },
    {
      "cell_type": "code",
      "execution_count": 14,
      "metadata": {
        "colab": {
          "base_uri": "https://localhost:8080/",
          "height": 1000
        },
        "id": "2521sWnuJVMP",
        "outputId": "0a19b77c-a1d4-4e12-fa8f-c783256b3ef8"
      },
      "outputs": [
        {
          "output_type": "stream",
          "name": "stdout",
          "text": [
            "Model: \"AlexNet\"\n",
            "_________________________________________________________________\n",
            " Layer (type)                Output Shape              Param #   \n",
            "=================================================================\n",
            " rescaling (Rescaling)       (None, 256, 256, 3)       0         \n",
            "                                                                 \n",
            " random_flip (RandomFlip)    (None, 256, 256, 3)       0         \n",
            "                                                                 \n",
            " random_rotation (RandomRota  (None, 256, 256, 3)      0         \n",
            " tion)                                                           \n",
            "                                                                 \n",
            " random_zoom (RandomZoom)    (None, 256, 256, 3)       0         \n",
            "                                                                 \n",
            " conv2d (Conv2D)             (None, 64, 64, 96)        34944     \n",
            "                                                                 \n",
            " activation (Activation)     (None, 64, 64, 96)        0         \n",
            "                                                                 \n",
            " batch_normalization (BatchN  (None, 64, 64, 96)       384       \n",
            " ormalization)                                                   \n",
            "                                                                 \n",
            " max_pooling2d (MaxPooling2D  (None, 31, 31, 96)       0         \n",
            " )                                                               \n",
            "                                                                 \n",
            " dropout (Dropout)           (None, 31, 31, 96)        0         \n",
            "                                                                 \n",
            " conv2d_1 (Conv2D)           (None, 31, 31, 256)       614656    \n",
            "                                                                 \n",
            " activation_1 (Activation)   (None, 31, 31, 256)       0         \n",
            "                                                                 \n",
            " batch_normalization_1 (Batc  (None, 31, 31, 256)      1024      \n",
            " hNormalization)                                                 \n",
            "                                                                 \n",
            " max_pooling2d_1 (MaxPooling  (None, 15, 15, 256)      0         \n",
            " 2D)                                                             \n",
            "                                                                 \n",
            " dropout_1 (Dropout)         (None, 15, 15, 256)       0         \n",
            "                                                                 \n",
            " conv2d_2 (Conv2D)           (None, 15, 15, 384)       885120    \n",
            "                                                                 \n",
            " activation_2 (Activation)   (None, 15, 15, 384)       0         \n",
            "                                                                 \n",
            " batch_normalization_2 (Batc  (None, 15, 15, 384)      1536      \n",
            " hNormalization)                                                 \n",
            "                                                                 \n",
            " conv2d_3 (Conv2D)           (None, 15, 15, 384)       1327488   \n",
            "                                                                 \n",
            " activation_3 (Activation)   (None, 15, 15, 384)       0         \n",
            "                                                                 \n",
            " batch_normalization_3 (Batc  (None, 15, 15, 384)      1536      \n",
            " hNormalization)                                                 \n",
            "                                                                 \n",
            " conv2d_4 (Conv2D)           (None, 15, 15, 256)       884992    \n",
            "                                                                 \n",
            " activation_4 (Activation)   (None, 15, 15, 256)       0         \n",
            "                                                                 \n",
            " batch_normalization_4 (Batc  (None, 15, 15, 256)      1024      \n",
            " hNormalization)                                                 \n",
            "                                                                 \n",
            " max_pooling2d_2 (MaxPooling  (None, 7, 7, 256)        0         \n",
            " 2D)                                                             \n",
            "                                                                 \n",
            " dropout_2 (Dropout)         (None, 7, 7, 256)         0         \n",
            "                                                                 \n",
            " flatten (Flatten)           (None, 12544)             0         \n",
            "                                                                 \n",
            " dense (Dense)               (None, 4096)              51384320  \n",
            "                                                                 \n",
            " activation_5 (Activation)   (None, 4096)              0         \n",
            "                                                                 \n",
            " batch_normalization_5 (Batc  (None, 4096)             16384     \n",
            " hNormalization)                                                 \n",
            "                                                                 \n",
            " dropout_3 (Dropout)         (None, 4096)              0         \n",
            "                                                                 \n",
            " dense_1 (Dense)             (None, 4096)              16781312  \n",
            "                                                                 \n",
            " activation_6 (Activation)   (None, 4096)              0         \n",
            "                                                                 \n",
            " batch_normalization_6 (Batc  (None, 4096)             16384     \n",
            " hNormalization)                                                 \n",
            "                                                                 \n",
            " dropout_4 (Dropout)         (None, 4096)              0         \n",
            "                                                                 \n",
            " dense_2 (Dense)             (None, 45)                184365    \n",
            "                                                                 \n",
            " activation_7 (Activation)   (None, 45)                0         \n",
            "                                                                 \n",
            "=================================================================\n",
            "Total params: 72,135,469\n",
            "Trainable params: 72,116,333\n",
            "Non-trainable params: 19,136\n",
            "_________________________________________________________________\n",
            "None\n",
            "Epoch 1/25\n",
            "591/591 [==============================] - 68s 107ms/step - loss: 7.4724 - accuracy: 0.1383 - val_loss: 18.6763 - val_accuracy: 0.0765\n",
            "Epoch 2/25\n",
            "591/591 [==============================] - 59s 100ms/step - loss: 6.7882 - accuracy: 0.2258 - val_loss: 12.3697 - val_accuracy: 0.1138\n",
            "Epoch 3/25\n",
            "591/591 [==============================] - 59s 100ms/step - loss: 6.8823 - accuracy: 0.2517 - val_loss: 8.7067 - val_accuracy: 0.1459\n",
            "Epoch 4/25\n",
            "591/591 [==============================] - 59s 100ms/step - loss: 7.4357 - accuracy: 0.2547 - val_loss: 10.2305 - val_accuracy: 0.1478\n",
            "Epoch 5/25\n",
            "591/591 [==============================] - 59s 100ms/step - loss: 7.6060 - accuracy: 0.2768 - val_loss: 7.6138 - val_accuracy: 0.2497\n",
            "Epoch 6/25\n",
            "591/591 [==============================] - 59s 100ms/step - loss: 8.0875 - accuracy: 0.2865 - val_loss: 14.1471 - val_accuracy: 0.2213\n",
            "Epoch 7/25\n",
            "591/591 [==============================] - 59s 100ms/step - loss: 7.6620 - accuracy: 0.3168 - val_loss: 7.2935 - val_accuracy: 0.2283\n",
            "Epoch 8/25\n",
            "591/591 [==============================] - 59s 100ms/step - loss: 8.1590 - accuracy: 0.3040 - val_loss: 8.4297 - val_accuracy: 0.2681\n",
            "Epoch 9/25\n",
            "591/591 [==============================] - 59s 100ms/step - loss: 7.8351 - accuracy: 0.3318 - val_loss: 10.2825 - val_accuracy: 0.1829\n",
            "Epoch 10/25\n",
            "591/591 [==============================] - 59s 100ms/step - loss: 8.4848 - accuracy: 0.3131 - val_loss: 10.4758 - val_accuracy: 0.1314\n",
            "Epoch 11/25\n",
            "591/591 [==============================] - 59s 100ms/step - loss: 8.5164 - accuracy: 0.3354 - val_loss: 8.7162 - val_accuracy: 0.2860\n",
            "Epoch 12/25\n",
            "591/591 [==============================] - 59s 99ms/step - loss: 7.8286 - accuracy: 0.3612 - val_loss: 7.8577 - val_accuracy: 0.2232\n",
            "Epoch 13/25\n",
            "591/591 [==============================] - 59s 100ms/step - loss: 7.0695 - accuracy: 0.3814 - val_loss: 7.5790 - val_accuracy: 0.2625\n",
            "Epoch 14/25\n",
            "591/591 [==============================] - 59s 100ms/step - loss: 6.7471 - accuracy: 0.4012 - val_loss: 6.5628 - val_accuracy: 0.3325\n",
            "Epoch 15/25\n",
            "591/591 [==============================] - 59s 99ms/step - loss: 6.4550 - accuracy: 0.4226 - val_loss: 6.4846 - val_accuracy: 0.4154\n",
            "Epoch 16/25\n",
            "591/591 [==============================] - 59s 99ms/step - loss: 6.4181 - accuracy: 0.4411 - val_loss: 6.2898 - val_accuracy: 0.4152\n",
            "Epoch 17/25\n",
            "591/591 [==============================] - 59s 100ms/step - loss: 6.3194 - accuracy: 0.4528 - val_loss: 6.7201 - val_accuracy: 0.3262\n",
            "Epoch 18/25\n",
            "591/591 [==============================] - 59s 100ms/step - loss: 6.1420 - accuracy: 0.4616 - val_loss: 6.7252 - val_accuracy: 0.3514\n",
            "Epoch 19/25\n",
            "591/591 [==============================] - 59s 99ms/step - loss: 6.1413 - accuracy: 0.4805 - val_loss: 7.0707 - val_accuracy: 0.3387\n",
            "Epoch 20/25\n",
            "591/591 [==============================] - 59s 100ms/step - loss: 5.9398 - accuracy: 0.5017 - val_loss: 6.4995 - val_accuracy: 0.3838\n",
            "Epoch 21/25\n",
            "591/591 [==============================] - 59s 99ms/step - loss: 5.6485 - accuracy: 0.5162 - val_loss: 6.0382 - val_accuracy: 0.4379\n",
            "Epoch 22/25\n",
            "591/591 [==============================] - 59s 100ms/step - loss: 5.2904 - accuracy: 0.5451 - val_loss: 5.4295 - val_accuracy: 0.4849\n",
            "Epoch 23/25\n",
            "591/591 [==============================] - 59s 100ms/step - loss: 5.1090 - accuracy: 0.5506 - val_loss: 8.9274 - val_accuracy: 0.1402\n",
            "Epoch 24/25\n",
            "591/591 [==============================] - 59s 100ms/step - loss: 4.7762 - accuracy: 0.5731 - val_loss: 6.1651 - val_accuracy: 0.3470\n",
            "Epoch 25/25\n",
            "591/591 [==============================] - 59s 100ms/step - loss: 4.4008 - accuracy: 0.5897 - val_loss: 4.4445 - val_accuracy: 0.5533\n"
          ]
        },
        {
          "output_type": "execute_result",
          "data": {
            "text/plain": [
              "<matplotlib.legend.Legend at 0x7fe98c3972d0>"
            ]
          },
          "metadata": {},
          "execution_count": 14
        },
        {
          "output_type": "display_data",
          "data": {
            "text/plain": [
              "<Figure size 432x288 with 1 Axes>"
            ],
            "image/png": "[encoded data removed]"
          },
          "metadata": {}
        }
      ],
      "source": [
        "maxEpochs = 25\n",
        "batch_size = 32\n",
        "\n",
        "model = AlexNet.build(256,256,3,45)\n",
        "model.compile(loss = 'sparse_categorical_crossentropy', optimizer = Adam(), metrics = ['accuracy'])\n",
        "print(model.summary())\n",
        "H = model.fit(trainX, trainY, validation_data = (valX, valY), epochs = maxEpochs, batch_size = batch_size)\n",
        "\n",
        "# plot the training loss and accuracy\n",
        "plt.style.use(\"ggplot\")\n",
        "plt.figure()\n",
        "\n",
        "plt.plot(range(maxEpochs), H.history['loss'], label = 'training loss')\n",
        "plt.plot(range(maxEpochs), H.history['val_loss'], label = 'dev loss')\n",
        "plt.plot(range(maxEpochs), H.history['accuracy'], label = 'training accuracy')\n",
        "plt.plot(range(maxEpochs), H.history['val_accuracy'], label = 'dev accuracy')\n",
        "\n",
        "plt.title(\"Training Loss and Accuracy\")\n",
        "plt.xlabel(\"Epoch #\")\n",
        "plt.ylabel(\"Loss/Accuracy\")\n",
        "plt.legend()"
      ]
    },
    {
      "cell_type": "markdown",
      "source": [
        "### LeNet"
      ],
      "metadata": {
        "id": "jm6fRsl_DgRL"
      }
    },
    {
      "cell_type": "code",
      "execution_count": 13,
      "metadata": {
        "id": "wvE60kERPDk-"
      },
      "outputs": [],
      "source": [
        "class LeNet:\n",
        "    # create the architecture\n",
        "    def build(height, width, depth, classes):\n",
        "        # create a feedforward neural net\n",
        "        model = Sequential()\n",
        "\n",
        "        #rescaling layer to change image shape\n",
        "        model.add(Rescaling(1./255, input_shape = (height, width, depth)))\n",
        "\n",
        "        #data augmentation\n",
        "        model.add(RandomFlip())\n",
        "        model.add(RandomRotation(0.1))\n",
        "        model.add(RandomZoom(0.1))\n",
        "        \n",
        "        # add a convolutional layer with 20 5x5 filters and a 2x2 max pooling layer\n",
        "        model.add(Conv2D(32, (5, 5), padding = 'same', input_shape = (height, width, depth)))\n",
        "        model.add(Activation('relu'))\n",
        "        model.add(MaxPooling2D(pool_size = (2, 2), strides = (2, 2)))\n",
        "        \n",
        "        # add another convolutional layer with 50 5x5 filters and a 2x2 max pooling layer\n",
        "        model.add(Conv2D(64, (5, 5), padding= 'same'))\n",
        "        model.add(Activation('relu'))\n",
        "        model.add(MaxPooling2D(pool_size = (2, 2), strides = (2, 2)))\n",
        "        \n",
        "        # add another convolutional layer\n",
        "        model.add(Conv2D(128, (5, 5), padding = 'same'))\n",
        "        model.add(Activation('relu'))\n",
        "        \n",
        "        # add a fully-connected layer\n",
        "        model.add(Flatten())\n",
        "        model.add(Dense(500))\n",
        "        model.add(Activation('relu'))\n",
        "        \n",
        "        # add a softmax classifier\n",
        "        model.add(Dense(classes))\n",
        "        model.add(Activation('softmax'))\n",
        "        \n",
        "        # return the constructed model\n",
        "        return model"
      ]
    },
    {
      "cell_type": "code",
      "execution_count": 14,
      "metadata": {
        "colab": {
          "base_uri": "https://localhost:8080/",
          "height": 1000
        },
        "id": "kkdPBNmnPNTF",
        "outputId": "d04323d6-9565-4f52-b205-d782e384e955"
      },
      "outputs": [
        {
          "output_type": "stream",
          "name": "stdout",
          "text": [
            "Model: \"sequential\"\n",
            "_________________________________________________________________\n",
            " Layer (type)                Output Shape              Param #   \n",
            "=================================================================\n",
            " rescaling (Rescaling)       (None, 256, 256, 3)       0         \n",
            "                                                                 \n",
            " random_flip (RandomFlip)    (None, 256, 256, 3)       0         \n",
            "                                                                 \n",
            " random_rotation (RandomRota  (None, 256, 256, 3)      0         \n",
            " tion)                                                           \n",
            "                                                                 \n",
            " random_zoom (RandomZoom)    (None, 256, 256, 3)       0         \n",
            "                                                                 \n",
            " conv2d (Conv2D)             (None, 256, 256, 32)      2432      \n",
            "                                                                 \n",
            " activation (Activation)     (None, 256, 256, 32)      0         \n",
            "                                                                 \n",
            " max_pooling2d (MaxPooling2D  (None, 128, 128, 32)     0         \n",
            " )                                                               \n",
            "                                                                 \n",
            " conv2d_1 (Conv2D)           (None, 128, 128, 64)      51264     \n",
            "                                                                 \n",
            " activation_1 (Activation)   (None, 128, 128, 64)      0         \n",
            "                                                                 \n",
            " max_pooling2d_1 (MaxPooling  (None, 64, 64, 64)       0         \n",
            " 2D)                                                             \n",
            "                                                                 \n",
            " conv2d_2 (Conv2D)           (None, 64, 64, 128)       204928    \n",
            "                                                                 \n",
            " activation_2 (Activation)   (None, 64, 64, 128)       0         \n",
            "                                                                 \n",
            " flatten (Flatten)           (None, 524288)            0         \n",
            "                                                                 \n",
            " dense (Dense)               (None, 500)               262144500 \n",
            "                                                                 \n",
            " activation_3 (Activation)   (None, 500)               0         \n",
            "                                                                 \n",
            " dense_1 (Dense)             (None, 45)                22545     \n",
            "                                                                 \n",
            " activation_4 (Activation)   (None, 45)                0         \n",
            "                                                                 \n",
            "=================================================================\n",
            "Total params: 262,425,669\n",
            "Trainable params: 262,425,669\n",
            "Non-trainable params: 0\n",
            "_________________________________________________________________\n",
            "None\n",
            "Epoch 1/15\n",
            "591/591 [==============================] - 108s 176ms/step - loss: 3.7207 - accuracy: 0.0838 - val_loss: 3.2220 - val_accuracy: 0.1462\n",
            "Epoch 2/15\n",
            "591/591 [==============================] - 101s 171ms/step - loss: 2.9447 - accuracy: 0.1869 - val_loss: 2.8103 - val_accuracy: 0.2332\n",
            "Epoch 3/15\n",
            "591/591 [==============================] - 101s 170ms/step - loss: 2.6056 - accuracy: 0.2708 - val_loss: 2.5492 - val_accuracy: 0.2889\n",
            "Epoch 4/15\n",
            "591/591 [==============================] - 101s 170ms/step - loss: 2.2960 - accuracy: 0.3445 - val_loss: 2.2492 - val_accuracy: 0.3592\n",
            "Epoch 5/15\n",
            "591/591 [==============================] - 101s 170ms/step - loss: 2.0679 - accuracy: 0.4057 - val_loss: 1.9151 - val_accuracy: 0.4441\n",
            "Epoch 6/15\n",
            "591/591 [==============================] - 101s 170ms/step - loss: 1.8363 - accuracy: 0.4667 - val_loss: 1.8930 - val_accuracy: 0.4578\n",
            "Epoch 7/15\n",
            "591/591 [==============================] - 100s 170ms/step - loss: 1.6509 - accuracy: 0.5105 - val_loss: 1.6855 - val_accuracy: 0.5059\n",
            "Epoch 8/15\n",
            "591/591 [==============================] - 101s 170ms/step - loss: 1.5287 - accuracy: 0.5449 - val_loss: 1.6232 - val_accuracy: 0.5225\n",
            "Epoch 9/15\n",
            "591/591 [==============================] - 100s 170ms/step - loss: 1.4510 - accuracy: 0.5683 - val_loss: 1.5752 - val_accuracy: 0.5357\n",
            "Epoch 10/15\n",
            "591/591 [==============================] - 101s 170ms/step - loss: 1.3542 - accuracy: 0.5963 - val_loss: 1.3833 - val_accuracy: 0.5995\n",
            "Epoch 11/15\n",
            "591/591 [==============================] - 100s 170ms/step - loss: 1.2785 - accuracy: 0.6192 - val_loss: 1.4002 - val_accuracy: 0.5873\n",
            "Epoch 12/15\n",
            "591/591 [==============================] - 100s 170ms/step - loss: 1.2248 - accuracy: 0.6314 - val_loss: 1.3897 - val_accuracy: 0.5957\n",
            "Epoch 13/15\n",
            "591/591 [==============================] - 101s 170ms/step - loss: 1.1660 - accuracy: 0.6495 - val_loss: 1.3165 - val_accuracy: 0.6206\n",
            "Epoch 14/15\n",
            "591/591 [==============================] - 100s 170ms/step - loss: 1.1444 - accuracy: 0.6520 - val_loss: 1.3106 - val_accuracy: 0.6254\n",
            "Epoch 15/15\n",
            "591/591 [==============================] - 101s 170ms/step - loss: 1.0763 - accuracy: 0.6723 - val_loss: 1.2072 - val_accuracy: 0.6530\n"
          ]
        },
        {
          "output_type": "execute_result",
          "data": {
            "text/plain": [
              "<matplotlib.legend.Legend at 0x7f920e5816d0>"
            ]
          },
          "metadata": {},
          "execution_count": 14
        },
        {
          "output_type": "display_data",
          "data": {
            "text/plain": [
              "<Figure size 432x288 with 1 Axes>"
            ],
            "image/png": "[encoded data removed]"
          },
          "metadata": {}
        }
      ],
      "source": [
        "maxEpochs = 15\n",
        "batch_size = 32\n",
        "\n",
        "model = LeNet.build(256,256,3,45)\n",
        "model.compile(loss = 'sparse_categorical_crossentropy', optimizer = Adam(), metrics = ['accuracy'])\n",
        "print(model.summary())\n",
        "H = model.fit(trainX, trainY, validation_data = (valX, valY), epochs = maxEpochs, batch_size = batch_size)\n",
        "\n",
        "# plot the training loss and accuracy\n",
        "plt.style.use(\"ggplot\")\n",
        "plt.figure()\n",
        "\n",
        "plt.plot(range(maxEpochs), H.history['loss'], label = 'training loss')\n",
        "plt.plot(range(maxEpochs), H.history['val_loss'], label = 'dev loss')\n",
        "plt.plot(range(maxEpochs), H.history['accuracy'], label = 'training accuracy')\n",
        "plt.plot(range(maxEpochs), H.history['val_accuracy'], label = 'dev accuracy')\n",
        "\n",
        "plt.title(\"Training Loss and Accuracy\")\n",
        "plt.xlabel(\"Epoch #\")\n",
        "plt.ylabel(\"Loss/Accuracy\")\n",
        "plt.legend()"
      ]
    },
    {
      "cell_type": "code",
      "source": [
        "model.save(\"model1\")"
      ],
      "metadata": {
        "colab": {
          "base_uri": "https://localhost:8080/"
        },
        "id": "XpvuCRNF-1wB",
        "outputId": "f0b57fbc-5a07-4f46-de41-e401972fecc3"
      },
      "execution_count": 16,
      "outputs": [
        {
          "output_type": "stream",
          "name": "stderr",
          "text": [
            "WARNING:absl:Found untraced functions such as _jit_compiled_convolution_op, _jit_compiled_convolution_op, _jit_compiled_convolution_op while saving (showing 3 of 3). These functions will not be directly callable after loading.\n"
          ]
        }
      ]
    },
    {
      "cell_type": "markdown",
      "source": [
        "### MiniGoogLeNet"
      ],
      "metadata": {
        "id": "t_ljoxH0DjTc"
      }
    },
    {
      "cell_type": "code",
      "execution_count": 15,
      "metadata": {
        "id": "NlObnCsvhuXi"
      },
      "outputs": [],
      "source": [
        "class MiniGoogLeNet:\n",
        "    def convolution_module(x, K, kX, kY, stride, channelsDim, padding=\"same\"):\n",
        "        # create a CONV -> BN -> RELU sequence\n",
        "        x = Conv2D(K, (kX, kY), strides = stride, padding = padding)(x)\n",
        "        x = BatchNormalization(axis = channelsDim)(x)\n",
        "        x = Activation('relu')(x)\n",
        "        \n",
        "        # return the output\n",
        "        return x\n",
        "    \n",
        "    def inception_module(x, numberOf1x1Kernels, numberOf3x3Kernels, channelsDim):\n",
        "        # define two \"parallel\" convolutions of size 1x1 and 3x3 concatenated across the channels dimension\n",
        "        convolution_1x1 = MiniGoogLeNet.convolution_module(x, numberOf1x1Kernels, 1, 1, (1, 1), channelsDim)\n",
        "        convolution_3x3 = MiniGoogLeNet.convolution_module(x, numberOf3x3Kernels, 3, 3, (1, 1), channelsDim)\n",
        "        x = concatenate([convolution_1x1, convolution_3x3], axis = channelsDim)\n",
        "        \n",
        "        return x\n",
        "        \n",
        "    def downsample_module(x, K, channelsDim):\n",
        "        # define a CONV and POOL and then concatenate across the channels dimension\n",
        "        convolution_3x3 = MiniGoogLeNet.convolution_module(x, K, 3, 3, (2, 2), channelsDim, padding = 'valid')\n",
        "        pool = MaxPooling2D((3, 3), strides = (2, 2))(x)\n",
        "        x = concatenate([convolution_3x3, pool], axis = channelsDim)\n",
        "        \n",
        "        return x\n",
        "    \n",
        "    def build(width, height, depth, classes):\n",
        "        inputShape = (height, width, depth)\n",
        "        channelsDim = -1\n",
        "        \n",
        "        # define the model input and first CONV module\n",
        "        inputs = Input(shape = inputShape)\n",
        "        x = MiniGoogLeNet.convolution_module(inputs, 96, 3, 3, (1, 1), channelsDim)\n",
        "        \n",
        "        # two inception modules followed by a downsample module\n",
        "        x = MiniGoogLeNet.inception_module(x, 32, 32, channelsDim)\n",
        "        x = MiniGoogLeNet.inception_module(x, 32, 48, channelsDim)\n",
        "        x = MiniGoogLeNet.downsample_module(x, 80, channelsDim)\n",
        "        \n",
        "        # four inception modules followed by a downsample module\n",
        "        x = MiniGoogLeNet.inception_module(x, 112, 48, channelsDim)\n",
        "        x = MiniGoogLeNet.inception_module(x, 96, 64, channelsDim)\n",
        "        x = MiniGoogLeNet.inception_module(x, 80, 80, channelsDim)\n",
        "        x = MiniGoogLeNet.inception_module(x, 48, 96, channelsDim)\n",
        "        x = MiniGoogLeNet.downsample_module(x, 96, channelsDim)\n",
        "        \n",
        "        # two inception modules followed by global POOL and dropout\n",
        "        x = MiniGoogLeNet.inception_module(x, 176, 160, channelsDim)\n",
        "        x = MiniGoogLeNet.inception_module(x, 176, 160, channelsDim)\n",
        "        x = AveragePooling2D((7, 7))(x)\n",
        "        x = Dropout(0.5)(x)\n",
        "        \n",
        "        # softmax classifier\n",
        "        x = Flatten()(x)\n",
        "        x = Dense(classes)(x)\n",
        "        x = Activation('softmax')(x)\n",
        "        \n",
        "        # create a model\n",
        "        model = Model(inputs, x, name='MiniGoogLeNet')\n",
        "        \n",
        "        # return the model\n",
        "        return model"
      ]
    },
    {
      "cell_type": "code",
      "execution_count": null,
      "metadata": {
        "colab": {
          "base_uri": "https://localhost:8080/",
          "height": 837
        },
        "id": "nHSLk2NJibEk",
        "outputId": "2558c39e-06a5-430d-f0a4-c5b12dd287c5"
      },
      "outputs": [
        {
          "name": "stdout",
          "output_type": "stream",
          "text": [
            "Epoch 1/15\n",
            "788/788 [==============================] - 196s 242ms/step - loss: 2.5338 - accuracy: 0.3333 - val_loss: 2.6655 - val_accuracy: 0.3179\n",
            "Epoch 2/15\n",
            "788/788 [==============================] - 188s 238ms/step - loss: 1.6817 - accuracy: 0.5157 - val_loss: 1.9505 - val_accuracy: 0.4421\n",
            "Epoch 3/15\n",
            "788/788 [==============================] - 188s 238ms/step - loss: 1.3432 - accuracy: 0.6090 - val_loss: 1.8727 - val_accuracy: 0.4875\n",
            "Epoch 4/15\n",
            "788/788 [==============================] - 188s 238ms/step - loss: 1.1157 - accuracy: 0.6690 - val_loss: 1.6395 - val_accuracy: 0.5538\n",
            "Epoch 5/15\n",
            "788/788 [==============================] - 188s 238ms/step - loss: 0.9261 - accuracy: 0.7247 - val_loss: 1.5606 - val_accuracy: 0.5692\n",
            "Epoch 6/15\n",
            "788/788 [==============================] - 188s 238ms/step - loss: 0.7769 - accuracy: 0.7647 - val_loss: 1.3964 - val_accuracy: 0.6090\n",
            "Epoch 7/15\n",
            "788/788 [==============================] - 188s 238ms/step - loss: 0.6569 - accuracy: 0.7995 - val_loss: 1.3316 - val_accuracy: 0.6295\n",
            "Epoch 8/15\n",
            "788/788 [==============================] - 188s 238ms/step - loss: 0.5596 - accuracy: 0.8238 - val_loss: 1.1864 - val_accuracy: 0.6694\n",
            "Epoch 9/15\n",
            "788/788 [==============================] - 188s 238ms/step - loss: 0.4809 - accuracy: 0.8477 - val_loss: 1.4611 - val_accuracy: 0.6271\n",
            "Epoch 10/15\n",
            "788/788 [==============================] - 188s 238ms/step - loss: 0.4171 - accuracy: 0.8665 - val_loss: 1.1375 - val_accuracy: 0.6970\n",
            "Epoch 11/15\n",
            "788/788 [==============================] - 188s 238ms/step - loss: 0.3654 - accuracy: 0.8829 - val_loss: 2.2095 - val_accuracy: 0.5624\n",
            "Epoch 12/15\n",
            "788/788 [==============================] - 188s 238ms/step - loss: 0.3220 - accuracy: 0.8965 - val_loss: 1.4460 - val_accuracy: 0.6570\n",
            "Epoch 13/15\n",
            "788/788 [==============================] - 188s 239ms/step - loss: 0.2832 - accuracy: 0.9090 - val_loss: 1.6639 - val_accuracy: 0.6362\n",
            "Epoch 14/15\n",
            "788/788 [==============================] - 188s 238ms/step - loss: 0.2467 - accuracy: 0.9199 - val_loss: 2.5994 - val_accuracy: 0.5689\n",
            "Epoch 15/15\n",
            "788/788 [==============================] - 188s 238ms/step - loss: 0.2396 - accuracy: 0.9202 - val_loss: 1.5569 - val_accuracy: 0.6687\n"
          ]
        },
        {
          "data": {
            "text/plain": [
              "<matplotlib.legend.Legend at 0x7f10e3ec88d0>"
            ]
          },
          "execution_count": 45,
          "metadata": {},
          "output_type": "execute_result"
        },
        {
          "data": {
            "image/png": "[encoded data removed]",
            "text/plain": [
              "<Figure size 432x288 with 1 Axes>"
            ]
          },
          "metadata": {},
          "output_type": "display_data"
        }
      ],
      "source": [
        "maxEpochs = 15\n",
        "batch_size = 32\n",
        "\n",
        "model = MiniGoogLeNet.build(256,256,3,45)\n",
        "model.compile(loss = 'sparse_categorical_crossentropy', optimizer = Adam(), metrics = ['accuracy'])\n",
        "#print(model.summary())\n",
        "H = model.fit(train_dataset, batch_size = batch_size, validation_data = test_dataset, epochs = maxEpochs)\n",
        "\n",
        "# plot the training loss and accuracy\n",
        "plt.style.use(\"ggplot\")\n",
        "plt.figure()\n",
        "\n",
        "plt.plot(range(maxEpochs), H.history['loss'], label = 'training loss')\n",
        "plt.plot(range(maxEpochs), H.history['val_loss'], label = 'dev loss')\n",
        "plt.plot(range(maxEpochs), H.history['accuracy'], label = 'training accuracy')\n",
        "plt.plot(range(maxEpochs), H.history['val_accuracy'], label = 'dev accuracy')\n",
        "\n",
        "plt.title(\"Training Loss and Accuracy\")\n",
        "plt.xlabel(\"Epoch #\")\n",
        "plt.ylabel(\"Loss/Accuracy\")\n",
        "plt.legend()"
      ]
    },
    {
      "cell_type": "markdown",
      "source": [
        "### ResNet"
      ],
      "metadata": {
        "id": "qY1VgUEaDnVa"
      }
    },
    {
      "cell_type": "code",
      "execution_count": null,
      "metadata": {
        "id": "fTnr0W1Pt-Ud"
      },
      "outputs": [],
      "source": [
        "class ResNet:\n",
        "    def residual_module(data, K, stride, channelsDim, reduce = False, reg = 0.0001, bnEpsilon = 0.00002, bnMomentum = 0.9):\n",
        "        shortcut = data\n",
        "        \n",
        "        # 1x1 CONVs\n",
        "        bn1 = BatchNormalization(axis = channelsDim, epsilon = bnEpsilon, momentum = bnMomentum)(data)\n",
        "        act1 = Activation('relu')(bn1)\n",
        "        conv1 = Conv2D(int(K * 0.25), (1, 1), use_bias = False, kernel_regularizer = l2(reg))(act1)\n",
        "        \n",
        "        # 3x3 CONVs\n",
        "        bn2 = BatchNormalization(axis = channelsDim, epsilon = bnEpsilon, momentum = bnMomentum)(conv1)\n",
        "        act2 = Activation('relu')(bn2)\n",
        "        conv2 = Conv2D(int(K * 0.25), (3, 3), strides = stride, padding = 'same', use_bias = False, kernel_regularizer = l2(reg))(act2)\n",
        "        \n",
        "        # 1x1 CONVs\n",
        "        bn3 = BatchNormalization(axis = channelsDim, epsilon = bnEpsilon, momentum = bnMomentum)(conv2)\n",
        "        act3 = Activation('relu')(bn3)\n",
        "        conv3 = Conv2D(K, (1, 1), use_bias = False, kernel_regularizer = l2(reg))(act3)\n",
        "        \n",
        "        # if we reduce the spatial size, apply a CONV layer to the shortcut\n",
        "        if reduce:\n",
        "            shortcut = Conv2D(K, (1, 1), strides = stride, use_bias = False, kernel_regularizer = l2(reg))(act1)\n",
        "            \n",
        "        # add the shortcut and the final CONV\n",
        "        x = add([conv3, shortcut])\n",
        "        \n",
        "        return x\n",
        "    \n",
        "    def build(width, height, depth, classes, stages, filters, reg = 0.0001, bnEpsilon = 0.00002, bnMomentum = 0.9, dataset='cifar'):\n",
        "        inputShape = (height, width, depth)\n",
        "        channelsDim = -1\n",
        "        \n",
        "        if backend.image_data_format() == 'channels_first':\n",
        "            inputShape = (depth, height, width)\n",
        "            channelsDim = 1\n",
        "            \n",
        "        # set the input and apply BN\n",
        "        inputs = Input(shape = inputShape)\n",
        "        x = BatchNormalization(axis = channelsDim, epsilon = bnEpsilon, momentum = bnMomentum)(inputs)\n",
        "        \n",
        "        if dataset == 'cifar':\n",
        "            # apply a single CONV layer\n",
        "            x = Conv2D(filters[0], (3, 3), use_bias = False, padding = 'same',\n",
        "                       kernel_regularizer = l2(reg))(x)\n",
        "        \n",
        "        # loop over the number of stages\n",
        "        for counter in range(0, len(stages)):\n",
        "            # initialize the stride\n",
        "            if counter == 0:\n",
        "                stride = (1, 1)\n",
        "            else:\n",
        "                stride = (2, 2)\n",
        "                    \n",
        "            # apply a residual module to reduce the spatial dimension of the image volume\n",
        "            x = ResNet.residual_module(x, filters[counter + 1], stride, channelsDim, reduce = True, bnEpsilon = bnEpsilon, bnMomentum = bnMomentum)\n",
        "            \n",
        "            # loop over the number of layers in the current stage\n",
        "            for j in range(0, stages[counter] - 1):\n",
        "                # apply a residual module\n",
        "                x = ResNet.residual_module(x, filters[counter + 1], (1, 1), channelsDim, bnEpsilon = bnEpsilon, bnMomentum = bnMomentum)\n",
        "                    \n",
        "        # apply BN -> ACT -> POOL\n",
        "        x = BatchNormalization(axis = channelsDim, epsilon = bnEpsilon, momentum = bnMomentum)(x)\n",
        "        x = Activation('relu')(x)\n",
        "        x = AveragePooling2D((8, 8))(x)\n",
        "        \n",
        "        # softmax classifier\n",
        "        x = Flatten()(x)\n",
        "        x = Dense(classes, kernel_regularizer = l2(reg))(x)\n",
        "        x = Activation('softmax')(x)\n",
        "        \n",
        "        # create the model\n",
        "        model = Model(inputs, x, name = 'ResNet')\n",
        "        \n",
        "        # return the model\n",
        "        return model"
      ]
    },
    {
      "cell_type": "code",
      "execution_count": null,
      "metadata": {
        "colab": {
          "base_uri": "https://localhost:8080/",
          "height": 663
        },
        "id": "9y6EzioIubkI",
        "outputId": "b0f3ed32-61f9-4291-dddf-d4045daea795"
      },
      "outputs": [
        {
          "name": "stdout",
          "output_type": "stream",
          "text": [
            "Epoch 1/10\n",
            "788/788 [==============================] - 434s 538ms/step - loss: 3.0515 - accuracy: 0.3238 - val_loss: 2.5988 - val_accuracy: 0.4251\n",
            "Epoch 2/10\n",
            "788/788 [==============================] - 421s 535ms/step - loss: 2.2251 - accuracy: 0.5077 - val_loss: 2.2021 - val_accuracy: 0.5129\n",
            "Epoch 3/10\n",
            "788/788 [==============================] - 421s 535ms/step - loss: 1.9148 - accuracy: 0.5851 - val_loss: 2.1084 - val_accuracy: 0.5487\n",
            "Epoch 4/10\n",
            "788/788 [==============================] - 422s 535ms/step - loss: 1.7051 - accuracy: 0.6373 - val_loss: 2.6878 - val_accuracy: 0.4963\n",
            "Epoch 5/10\n",
            "788/788 [==============================] - 421s 535ms/step - loss: 1.5323 - accuracy: 0.6828 - val_loss: 1.8349 - val_accuracy: 0.6094\n",
            "Epoch 6/10\n",
            "788/788 [==============================] - 421s 534ms/step - loss: 1.3904 - accuracy: 0.7218 - val_loss: 1.7932 - val_accuracy: 0.6306\n",
            "Epoch 7/10\n",
            "788/788 [==============================] - 421s 535ms/step - loss: 1.2704 - accuracy: 0.7567 - val_loss: 1.7028 - val_accuracy: 0.6437\n",
            "Epoch 8/10\n",
            "788/788 [==============================] - 421s 535ms/step - loss: 1.1657 - accuracy: 0.7811 - val_loss: 1.6891 - val_accuracy: 0.6500\n",
            "Epoch 9/10\n",
            "788/788 [==============================] - 421s 535ms/step - loss: 1.0971 - accuracy: 0.7996 - val_loss: 1.9273 - val_accuracy: 0.6213\n",
            "Epoch 10/10\n",
            "788/788 [==============================] - 421s 535ms/step - loss: 1.0320 - accuracy: 0.8196 - val_loss: 1.6199 - val_accuracy: 0.6760\n"
          ]
        },
        {
          "data": {
            "text/plain": [
              "<matplotlib.legend.Legend at 0x7f10e2f20a90>"
            ]
          },
          "execution_count": 49,
          "metadata": {},
          "output_type": "execute_result"
        },
        {
          "data": {
            "image/png": "[encoded data removed]",
            "text/plain": [
              "<Figure size 432x288 with 1 Axes>"
            ]
          },
          "metadata": {},
          "output_type": "display_data"
        }
      ],
      "source": [
        "maxEpochs = 10\n",
        "batch_size = 32\n",
        "\n",
        "model = ResNet.build(256, 256, 3, 45, (9, 9, 9), (64, 64, 128, 256), reg=0.0005)\n",
        "model.compile(loss = 'sparse_categorical_crossentropy', optimizer = Adam(), metrics = ['accuracy'])\n",
        "H = model.fit(train_dataset, batch_size = batch_size, validation_data = test_dataset, epochs = maxEpochs)\n",
        "\n",
        "# plot the training loss and accuracy\n",
        "plt.style.use(\"ggplot\")\n",
        "plt.figure()\n",
        "\n",
        "plt.plot(range(maxEpochs), H.history['loss'], label = 'training loss')\n",
        "plt.plot(range(maxEpochs), H.history['val_loss'], label = 'dev loss')\n",
        "plt.plot(range(maxEpochs), H.history['accuracy'], label = 'training accuracy')\n",
        "plt.plot(range(maxEpochs), H.history['val_accuracy'], label = 'dev accuracy')\n",
        "\n",
        "plt.title(\"Training Loss and Accuracy\")\n",
        "plt.xlabel(\"Epoch #\")\n",
        "plt.ylabel(\"Loss/Accuracy\")\n",
        "plt.legend()"
      ]
    },
    {
      "cell_type": "markdown",
      "source": [
        "### Transfer Learning using MobileNetV3Small with ImageNet Weights"
      ],
      "metadata": {
        "id": "gM4aM2_bR5HN"
      }
    },
    {
      "cell_type": "code",
      "source": [
        "base_model = keras.applications.MobileNetV3Small(\n",
        "    weights='imagenet',  # Load weights pre-trained on ImageNet.\n",
        "    input_shape=(256, 256, 3),\n",
        "    include_top=False)"
      ],
      "metadata": {
        "colab": {
          "base_uri": "https://localhost:8080/"
        },
        "id": "vidJxlLME3UY",
        "outputId": "ae8ef221-60e5-40a4-c038-d3c825d511bb"
      },
      "execution_count": 17,
      "outputs": [
        {
          "output_type": "stream",
          "name": "stderr",
          "text": [
            "WARNING:tensorflow:`input_shape` is undefined or non-square, or `rows` is not 224. Weights for input shape (224, 224) will be loaded as the default.\n"
          ]
        },
        {
          "output_type": "stream",
          "name": "stdout",
          "text": [
            "Downloading data from https://storage.googleapis.com/tensorflow/keras-applications/mobilenet_v3/weights_mobilenet_v3_small_224_1.0_float_no_top_v2.h5\n",
            "4334752/4334752 [==============================] - 1s 0us/step\n"
          ]
        }
      ]
    },
    {
      "cell_type": "code",
      "source": [
        "base_model.trainable = False"
      ],
      "metadata": {
        "id": "VmIotgYNFbbP"
      },
      "execution_count": 18,
      "outputs": []
    },
    {
      "cell_type": "code",
      "source": [
        "inputs = keras.Input(shape=(256, 256, 3))\n",
        "\n",
        "x = base_model(inputs, training=False)\n",
        "# softmax classifier\n",
        "x = Flatten()(x)\n",
        "x = Dense(45)(x)\n",
        "x = Activation('softmax')(x)\n",
        "        \n",
        "# create the model\n",
        "model = Model(inputs, x)"
      ],
      "metadata": {
        "id": "NmV4QX2dFexh"
      },
      "execution_count": 19,
      "outputs": []
    },
    {
      "cell_type": "code",
      "source": [
        "maxEpochs = 5\n",
        "batch_size = 32\n",
        "\n",
        "model.compile(loss = 'sparse_categorical_crossentropy', optimizer = Adam(), metrics = ['accuracy'])\n",
        "print(model.summary())\n",
        "H = model.fit(trainX, trainY, validation_data = (valX, valY), epochs = maxEpochs, batch_size = batch_size)\n",
        "\n",
        "# plot the training loss and accuracy\n",
        "plt.style.use(\"ggplot\")\n",
        "plt.figure()\n",
        "\n",
        "plt.plot(range(maxEpochs), H.history['loss'], label = 'training loss')\n",
        "plt.plot(range(maxEpochs), H.history['val_loss'], label = 'dev loss')\n",
        "plt.plot(range(maxEpochs), H.history['accuracy'], label = 'training accuracy')\n",
        "plt.plot(range(maxEpochs), H.history['val_accuracy'], label = 'dev accuracy')\n",
        "\n",
        "plt.title(\"Training Loss and Accuracy\")\n",
        "plt.xlabel(\"Epoch #\")\n",
        "plt.ylabel(\"Loss/Accuracy\")\n",
        "plt.legend()"
      ],
      "metadata": {
        "colab": {
          "base_uri": "https://localhost:8080/",
          "height": 854
        },
        "id": "P59UIvlxFjq1",
        "outputId": "ef1f0a40-1e00-49ce-d82e-e2f98d63a694"
      },
      "execution_count": 20,
      "outputs": [
        {
          "output_type": "stream",
          "name": "stdout",
          "text": [
            "Model: \"model\"\n",
            "_________________________________________________________________\n",
            " Layer (type)                Output Shape              Param #   \n",
            "=================================================================\n",
            " input_2 (InputLayer)        [(None, 256, 256, 3)]     0         \n",
            "                                                                 \n",
            " MobilenetV3small (Functiona  (None, 8, 8, 576)        939120    \n",
            " l)                                                              \n",
            "                                                                 \n",
            " flatten_1 (Flatten)         (None, 36864)             0         \n",
            "                                                                 \n",
            " dense_2 (Dense)             (None, 45)                1658925   \n",
            "                                                                 \n",
            " activation_5 (Activation)   (None, 45)                0         \n",
            "                                                                 \n",
            "=================================================================\n",
            "Total params: 2,598,045\n",
            "Trainable params: 1,658,925\n",
            "Non-trainable params: 939,120\n",
            "_________________________________________________________________\n",
            "None\n",
            "Epoch 1/5\n",
            "591/591 [==============================] - 21s 30ms/step - loss: 4.3254 - accuracy: 0.6671 - val_loss: 4.6758 - val_accuracy: 0.7368\n",
            "Epoch 2/5\n",
            "591/591 [==============================] - 16s 27ms/step - loss: 0.7334 - accuracy: 0.9341 - val_loss: 4.6536 - val_accuracy: 0.7654\n",
            "Epoch 3/5\n",
            "591/591 [==============================] - 16s 27ms/step - loss: 0.4651 - accuracy: 0.9573 - val_loss: 6.4293 - val_accuracy: 0.7297\n",
            "Epoch 4/5\n",
            "591/591 [==============================] - 16s 27ms/step - loss: 0.3839 - accuracy: 0.9657 - val_loss: 6.7052 - val_accuracy: 0.7527\n",
            "Epoch 5/5\n",
            "591/591 [==============================] - 16s 26ms/step - loss: 0.3752 - accuracy: 0.9684 - val_loss: 7.0292 - val_accuracy: 0.7559\n"
          ]
        },
        {
          "output_type": "execute_result",
          "data": {
            "text/plain": [
              "<matplotlib.legend.Legend at 0x7f90ca15ab10>"
            ]
          },
          "metadata": {},
          "execution_count": 20
        },
        {
          "output_type": "display_data",
          "data": {
            "text/plain": [
              "<Figure size 432x288 with 1 Axes>"
            ],
            "image/png": "[encoded data removed]"
          },
          "metadata": {}
        }
      ]
    },
    {
      "cell_type": "code",
      "source": [
        "model.save(\"model2\")"
      ],
      "metadata": {
        "colab": {
          "base_uri": "https://localhost:8080/"
        },
        "id": "yAS5Ix3MAP_q",
        "outputId": "9b7778d9-f927-4ee3-8f64-def6698f7293"
      },
      "execution_count": 21,
      "outputs": [
        {
          "output_type": "stream",
          "name": "stderr",
          "text": [
            "WARNING:absl:Found untraced functions such as _jit_compiled_convolution_op, _jit_compiled_convolution_op, _jit_compiled_convolution_op, _jit_compiled_convolution_op, _jit_compiled_convolution_op while saving (showing 5 of 52). These functions will not be directly callable after loading.\n"
          ]
        }
      ]
    },
    {
      "cell_type": "markdown",
      "source": [
        "### Basic Ensemble Learning with Two ShallowNets"
      ],
      "metadata": {
        "id": "OqsEx3ePDCFq"
      }
    },
    {
      "cell_type": "code",
      "source": [
        "class ShallowNet:\n",
        "    # create the architecture\n",
        "    def build(height, width, depth, numFilters, classes):\n",
        "        # create a feedforward neural net\n",
        "        model = Sequential()\n",
        "        \n",
        "        # add a convolutional layer with numFilters number of 3x3 filters\n",
        "        model.add(Conv2D(numFilters, (3, 3), padding='same', input_shape = (height, width, depth)))\n",
        "        model.add(Activation('relu'))\n",
        "        \n",
        "        # add a softmax classifier\n",
        "        model.add(Flatten())\n",
        "        model.add(Dense(classes))\n",
        "        model.add(Activation('softmax'))\n",
        "        \n",
        "        return model"
      ],
      "metadata": {
        "id": "rmlN3XT29JGy"
      },
      "execution_count": 13,
      "outputs": []
    },
    {
      "cell_type": "code",
      "execution_count": 14,
      "metadata": {
        "colab": {
          "base_uri": "https://localhost:8080/"
        },
        "id": "_PzFLtYdXTBL",
        "outputId": "4e5f69db-b779-4c62-cee3-2b51ec19757c"
      },
      "outputs": [
        {
          "output_type": "stream",
          "name": "stdout",
          "text": [
            "Net 0 is being trained...\n",
            "Epoch 1/2\n",
            "591/591 [==============================] - 26s 40ms/step - loss: 134.4830 - accuracy: 0.0692 - val_loss: 8.0929 - val_accuracy: 0.0852\n",
            "Epoch 2/2\n",
            "591/591 [==============================] - 22s 37ms/step - loss: 2.1652 - accuracy: 0.5654 - val_loss: 11.2407 - val_accuracy: 0.1049\n"
          ]
        },
        {
          "output_type": "stream",
          "name": "stderr",
          "text": [
            "WARNING:absl:Found untraced functions such as _jit_compiled_convolution_op while saving (showing 1 of 1). These functions will not be directly callable after loading.\n"
          ]
        },
        {
          "output_type": "stream",
          "name": "stdout",
          "text": [
            "197/197 [==============================] - 1s 6ms/step\n",
            "                       precision    recall  f1-score   support\n",
            "\n",
            "             airplane       0.04      0.02      0.03       140\n",
            "              airport       0.11      0.14      0.12       132\n",
            "     baseball_diamond       0.00      0.00      0.00       145\n",
            "     basketball_court       0.03      0.01      0.02       149\n",
            "                beach       0.05      0.05      0.05       141\n",
            "               bridge       0.09      0.04      0.05       133\n",
            "            chaparral       0.11      0.08      0.09       149\n",
            "               church       0.06      0.11      0.08       152\n",
            "    circular_farmland       0.09      0.14      0.11       126\n",
            "                cloud       0.06      0.07      0.06       137\n",
            "      commercial_area       0.06      0.06      0.06       151\n",
            "    dense_residential       0.06      0.11      0.08       140\n",
            "               desert       0.50      0.65      0.56       143\n",
            "               forest       0.15      0.27      0.19       131\n",
            "              freeway       0.07      0.05      0.06       128\n",
            "          golf_course       0.01      0.01      0.01       121\n",
            "   ground_track_field       0.09      0.06      0.07       133\n",
            "               harbor       0.10      0.37      0.16       122\n",
            "      industrial_area       0.04      0.02      0.02       124\n",
            "         intersection       0.08      0.14      0.10       132\n",
            "               island       0.33      0.69      0.45       137\n",
            "                 lake       0.04      0.03      0.04       137\n",
            "               meadow       0.25      0.17      0.20       141\n",
            "   medium_residential       0.04      0.03      0.04       151\n",
            "     mobile_home_park       0.09      0.09      0.09       159\n",
            "             mountain       0.05      0.13      0.07       130\n",
            "             overpass       0.10      0.07      0.08       131\n",
            "               palace       0.03      0.04      0.04       140\n",
            "          parking_lot       0.14      0.22      0.17       144\n",
            "              railway       0.03      0.03      0.03       137\n",
            "      railway_station       0.16      0.16      0.16       146\n",
            " rectangular_farmland       0.00      0.00      0.00       147\n",
            "                river       0.08      0.01      0.01       131\n",
            "           roundabout       0.08      0.04      0.05       134\n",
            "               runway       0.08      0.12      0.10       140\n",
            "              sea_ice       0.22      0.07      0.11       152\n",
            "                 ship       0.09      0.03      0.05       146\n",
            "             snowberg       0.03      0.03      0.03       138\n",
            "   sparse_residential       0.13      0.07      0.09       152\n",
            "              stadium       0.02      0.01      0.02       144\n",
            "         storage_tank       0.04      0.05      0.04       147\n",
            "         tennis_court       0.02      0.01      0.01       163\n",
            "              terrace       0.06      0.05      0.06       164\n",
            "thermal_power_station       0.05      0.08      0.06       123\n",
            "              wetland       0.07      0.04      0.05       137\n",
            "\n",
            "             accuracy                           0.10      6300\n",
            "            macro avg       0.09      0.10      0.09      6300\n",
            "         weighted avg       0.09      0.10      0.09      6300\n",
            "\n",
            "Net 1 is being trained...\n",
            "Epoch 1/2\n",
            "591/591 [==============================] - 23s 39ms/step - loss: 356.2357 - accuracy: 0.0589 - val_loss: 6.1683 - val_accuracy: 0.0846\n",
            "Epoch 2/2\n",
            "591/591 [==============================] - 22s 38ms/step - loss: 2.0059 - accuracy: 0.5595 - val_loss: 8.8227 - val_accuracy: 0.1119\n"
          ]
        },
        {
          "output_type": "stream",
          "name": "stderr",
          "text": [
            "WARNING:absl:Found untraced functions such as _jit_compiled_convolution_op while saving (showing 1 of 1). These functions will not be directly callable after loading.\n"
          ]
        },
        {
          "output_type": "stream",
          "name": "stdout",
          "text": [
            "197/197 [==============================] - 1s 6ms/step\n",
            "                       precision    recall  f1-score   support\n",
            "\n",
            "             airplane       0.00      0.00      0.00       140\n",
            "              airport       0.07      0.17      0.10       132\n",
            "     baseball_diamond       0.13      0.06      0.08       145\n",
            "     basketball_court       0.01      0.01      0.01       149\n",
            "                beach       0.10      0.08      0.09       141\n",
            "               bridge       0.09      0.02      0.04       133\n",
            "            chaparral       0.12      0.17      0.14       149\n",
            "               church       0.07      0.15      0.10       152\n",
            "    circular_farmland       0.12      0.15      0.13       126\n",
            "                cloud       0.06      0.09      0.07       137\n",
            "      commercial_area       0.04      0.02      0.03       151\n",
            "    dense_residential       0.05      0.06      0.06       140\n",
            "               desert       0.21      0.87      0.34       143\n",
            "               forest       0.12      0.45      0.18       131\n",
            "              freeway       0.04      0.02      0.03       128\n",
            "          golf_course       0.08      0.07      0.08       121\n",
            "   ground_track_field       0.10      0.07      0.08       133\n",
            "               harbor       0.12      0.17      0.14       122\n",
            "      industrial_area       0.06      0.03      0.04       124\n",
            "         intersection       0.10      0.06      0.07       132\n",
            "               island       0.20      0.67      0.30       137\n",
            "                 lake       0.06      0.01      0.01       137\n",
            "               meadow       0.25      0.49      0.33       141\n",
            "   medium_residential       0.04      0.05      0.04       151\n",
            "     mobile_home_park       0.03      0.03      0.03       159\n",
            "             mountain       0.03      0.03      0.03       130\n",
            "             overpass       0.06      0.08      0.07       131\n",
            "               palace       0.06      0.04      0.05       140\n",
            "          parking_lot       0.15      0.06      0.08       144\n",
            "              railway       0.02      0.03      0.03       137\n",
            "      railway_station       0.27      0.12      0.16       146\n",
            " rectangular_farmland       0.01      0.01      0.01       147\n",
            "                river       0.13      0.10      0.11       131\n",
            "           roundabout       0.02      0.01      0.01       134\n",
            "               runway       0.05      0.01      0.01       140\n",
            "              sea_ice       0.17      0.07      0.10       152\n",
            "                 ship       0.06      0.01      0.01       146\n",
            "             snowberg       0.02      0.01      0.01       138\n",
            "   sparse_residential       0.14      0.07      0.09       152\n",
            "              stadium       0.04      0.01      0.02       144\n",
            "         storage_tank       0.08      0.02      0.03       147\n",
            "         tennis_court       0.08      0.04      0.05       163\n",
            "              terrace       0.07      0.01      0.02       164\n",
            "thermal_power_station       0.02      0.02      0.02       123\n",
            "              wetland       0.03      0.01      0.02       137\n",
            "\n",
            "             accuracy                           0.10      6300\n",
            "            macro avg       0.08      0.11      0.08      6300\n",
            "         weighted avg       0.08      0.10      0.08      6300\n",
            "\n"
          ]
        }
      ],
      "source": [
        "numberOfModels = 2\n",
        "epochs = 5\n",
        "\n",
        "for i in range(numberOfModels):\n",
        "    print('Net', i, 'is being trained...')\n",
        "    \n",
        "    # choose the optimizer\n",
        "    opt = Adam()\n",
        "    \n",
        "    # compile the model\n",
        "    model = ShallowNet.build(256, 256, 3, 3, 45)\n",
        "    \n",
        "    model.compile(loss = 'sparse_categorical_crossentropy', optimizer = opt, metrics = ['accuracy'])\n",
        "    \n",
        "    # train the model\n",
        "    H = model.fit(trainX, trainY, validation_data = (valX, valY), epochs = epochs, batch_size = 32)\n",
        "    \n",
        "    # save the model\n",
        "    model.save(\"model\" + str(i))\n",
        "\n",
        "    \n",
        "    # evaluate the network\n",
        "    predictions = model.predict(testX, batch_size=32)\n",
        "    report = classification_report(testY,predictions.argmax(axis=1), target_names=feats)\n",
        "    print(report)    \n",
        "\n",
        "    "
      ]
    },
    {
      "cell_type": "code",
      "execution_count": 16,
      "metadata": {
        "colab": {
          "base_uri": "https://localhost:8080/"
        },
        "id": "vRcR8XRnYYty",
        "outputId": "08e41c84-6b75-48b1-b02f-8bcff19320a3"
      },
      "outputs": [
        {
          "output_type": "stream",
          "name": "stdout",
          "text": [
            "Evaluating ensemble...\n",
            "197/197 [==============================] - 1s 6ms/step\n",
            "197/197 [==============================] - 1s 6ms/step\n",
            "              precision    recall  f1-score   support\n",
            "\n",
            "           0       0.07      0.02      0.03       140\n",
            "           1       0.10      0.19      0.13       132\n",
            "           2       0.16      0.06      0.09       145\n",
            "           3       0.02      0.01      0.02       149\n",
            "           4       0.06      0.06      0.06       141\n",
            "           5       0.08      0.02      0.04       133\n",
            "           6       0.14      0.14      0.14       149\n",
            "           7       0.07      0.14      0.09       152\n",
            "           8       0.10      0.15      0.12       126\n",
            "           9       0.05      0.07      0.06       137\n",
            "          10       0.07      0.05      0.06       151\n",
            "          11       0.08      0.14      0.10       140\n",
            "          12       0.33      0.77      0.46       143\n",
            "          13       0.15      0.43      0.23       131\n",
            "          14       0.07      0.04      0.05       128\n",
            "          15       0.06      0.03      0.04       121\n",
            "          16       0.10      0.06      0.07       133\n",
            "          17       0.12      0.37      0.18       122\n",
            "          18       0.03      0.01      0.01       124\n",
            "          19       0.09      0.12      0.10       132\n",
            "          20       0.29      0.69      0.41       137\n",
            "          21       0.07      0.03      0.04       137\n",
            "          22       0.28      0.46      0.34       141\n",
            "          23       0.05      0.04      0.04       151\n",
            "          24       0.08      0.09      0.08       159\n",
            "          25       0.06      0.12      0.08       130\n",
            "          26       0.08      0.07      0.07       131\n",
            "          27       0.02      0.02      0.02       140\n",
            "          28       0.12      0.15      0.13       144\n",
            "          29       0.04      0.04      0.04       137\n",
            "          30       0.21      0.16      0.19       146\n",
            "          31       0.02      0.01      0.01       147\n",
            "          32       0.17      0.05      0.08       131\n",
            "          33       0.04      0.01      0.02       134\n",
            "          34       0.10      0.09      0.09       140\n",
            "          35       0.28      0.09      0.13       152\n",
            "          36       0.09      0.03      0.04       146\n",
            "          37       0.03      0.02      0.03       138\n",
            "          38       0.15      0.07      0.10       152\n",
            "          39       0.05      0.02      0.03       144\n",
            "          40       0.06      0.05      0.05       147\n",
            "          41       0.09      0.04      0.05       163\n",
            "          42       0.06      0.04      0.05       164\n",
            "          43       0.03      0.04      0.03       123\n",
            "          44       0.06      0.04      0.05       137\n",
            "\n",
            "    accuracy                           0.12      6300\n",
            "   macro avg       0.10      0.12      0.10      6300\n",
            "weighted avg       0.10      0.12      0.10      6300\n",
            "\n"
          ]
        }
      ],
      "source": [
        "models = []\n",
        "model0 = keras.models.load_model(\"model0\")\n",
        "model1 = keras.models.load_model(\"model1\")\n",
        "models.append(model0)\n",
        "models.append(model1)\n",
        "\n",
        "\n",
        "# initialize the list of predictions\n",
        "print('Evaluating ensemble...')\n",
        "predictions = []\n",
        "\n",
        "# loop over the models\n",
        "for model in models:\n",
        "    # use the current model to make predictions on the testing data, then store these predictions in the aggregate predictions list\n",
        "    predictions.append(model.predict(testX, batch_size=32))\n",
        "\n",
        "# average the probabilities across all model predictions\n",
        "predictions = np.average(predictions, axis=0)\n",
        "\n",
        "\n",
        "# show a classification report\n",
        "print(classification_report(testY, predictions.argmax(axis=1)))"
      ]
    },
    {
      "cell_type": "markdown",
      "source": [
        "### Transfer Learning using Xception Model with ImageNet Weights"
      ],
      "metadata": {
        "id": "gBDPlbo2C8wx"
      }
    },
    {
      "cell_type": "code",
      "source": [
        "base_model = keras.applications.Xception(\n",
        "    weights='imagenet',  # Load weights pre-trained on ImageNet.\n",
        "    input_shape=(256, 256, 3),\n",
        "    include_top=False)"
      ],
      "metadata": {
        "id": "SrIbpMv_WPN6"
      },
      "execution_count": null,
      "outputs": []
    },
    {
      "cell_type": "code",
      "source": [
        "base_model.trainable = False"
      ],
      "metadata": {
        "id": "aFFmGyr3WVBx"
      },
      "execution_count": null,
      "outputs": []
    },
    {
      "cell_type": "code",
      "source": [
        "inputs = keras.Input(shape=(256, 256, 3))\n",
        "\n",
        "x = base_model(inputs, training=False)\n",
        "# softmax classifier\n",
        "x = Flatten()(x)\n",
        "x = Dense(45)(x)\n",
        "x = Activation('softmax')(x)\n",
        "        \n",
        "# create the model\n",
        "model = Model(inputs, x)"
      ],
      "metadata": {
        "id": "esjWIwdDWWF7"
      },
      "execution_count": null,
      "outputs": []
    },
    {
      "cell_type": "code",
      "source": [
        "maxEpochs = 5\n",
        "batch_size = 32\n",
        "\n",
        "model.compile(loss = 'sparse_categorical_crossentropy', optimizer = Adam(), metrics = ['accuracy'])\n",
        "print(model.summary())\n",
        "H = model.fit(trainX, trainY, validation_data = (valX, valY), epochs = maxEpochs, batch_size = batch_size)\n",
        "\n",
        "# plot the training loss and accuracy\n",
        "plt.style.use(\"ggplot\")\n",
        "plt.figure()\n",
        "\n",
        "plt.plot(range(maxEpochs), H.history['loss'], label = 'training loss')\n",
        "plt.plot(range(maxEpochs), H.history['val_loss'], label = 'dev loss')\n",
        "plt.plot(range(maxEpochs), H.history['accuracy'], label = 'training accuracy')\n",
        "plt.plot(range(maxEpochs), H.history['val_accuracy'], label = 'dev accuracy')\n",
        "\n",
        "plt.title(\"Training Loss and Accuracy\")\n",
        "plt.xlabel(\"Epoch #\")\n",
        "plt.ylabel(\"Loss/Accuracy\")\n",
        "plt.legend()"
      ],
      "metadata": {
        "colab": {
          "base_uri": "https://localhost:8080/",
          "height": 837
        },
        "id": "O1MkiCjEWrLg",
        "outputId": "6f403cad-5a14-4c53-eccd-ee0e46fc28a5"
      },
      "execution_count": null,
      "outputs": [
        {
          "output_type": "stream",
          "name": "stdout",
          "text": [
            "Model: \"model_4\"\n",
            "_________________________________________________________________\n",
            " Layer (type)                Output Shape              Param #   \n",
            "=================================================================\n",
            " input_7 (InputLayer)        [(None, 256, 256, 3)]     0         \n",
            "                                                                 \n",
            " xception (Functional)       (None, 8, 8, 2048)        20861480  \n",
            "                                                                 \n",
            " flatten_2 (Flatten)         (None, 131072)            0         \n",
            "                                                                 \n",
            " dense_4 (Dense)             (None, 45)                5898285   \n",
            "                                                                 \n",
            " activation_3 (Activation)   (None, 45)                0         \n",
            "                                                                 \n",
            "=================================================================\n",
            "Total params: 26,759,765\n",
            "Trainable params: 5,898,285\n",
            "Non-trainable params: 20,861,480\n",
            "_________________________________________________________________\n",
            "None\n",
            "Epoch 1/5\n",
            "591/591 [==============================] - 127s 212ms/step - loss: 170.9825 - accuracy: 0.2123 - val_loss: 143.9257 - val_accuracy: 0.2748\n",
            "Epoch 2/5\n",
            "591/591 [==============================] - 124s 210ms/step - loss: 116.3992 - accuracy: 0.3949 - val_loss: 166.5910 - val_accuracy: 0.2919\n",
            "Epoch 3/5\n",
            "591/591 [==============================] - 124s 209ms/step - loss: 88.2878 - accuracy: 0.4996 - val_loss: 161.4037 - val_accuracy: 0.3316\n",
            "Epoch 4/5\n",
            "591/591 [==============================] - 123s 209ms/step - loss: 75.2792 - accuracy: 0.5665 - val_loss: 180.3966 - val_accuracy: 0.3117\n",
            "Epoch 5/5\n",
            "591/591 [==============================] - 124s 209ms/step - loss: 64.3721 - accuracy: 0.6266 - val_loss: 187.8392 - val_accuracy: 0.3394\n"
          ]
        },
        {
          "output_type": "execute_result",
          "data": {
            "text/plain": [
              "<matplotlib.legend.Legend at 0x7f0186436ed0>"
            ]
          },
          "metadata": {},
          "execution_count": 23
        },
        {
          "output_type": "display_data",
          "data": {
            "text/plain": [
              "<Figure size 432x288 with 1 Axes>"
            ],
            "image/png": "[encoded data removed]"
          },
          "metadata": {}
        }
      ]
    },
    {
      "cell_type": "markdown",
      "source": [
        "### Ensemble Training using MobileNetV3Small and LeNet"
      ],
      "metadata": {
        "id": "-bJsjSy2ENkk"
      }
    },
    {
      "cell_type": "code",
      "source": [
        "models = []\n",
        "model1 = keras.models.load_model(\"model1\")\n",
        "model2 = keras.models.load_model(\"model2\")\n",
        "models.append(model1)\n",
        "models.append(model2)\n",
        "\n",
        "\n",
        "# initialize the list of predictions\n",
        "print('Evaluating ensemble...')\n",
        "predictions = []\n",
        "\n",
        "# loop over the models\n",
        "for model in models:\n",
        "    # use the current model to make predictions on the testing data, then store these predictions in the aggregate predictions list\n",
        "    predictions.append(model.predict(testX, batch_size=32))\n",
        "\n",
        "# average the probabilities across all model predictions\n",
        "predictions = np.average(predictions, axis=0)\n",
        "\n",
        "\n",
        "# show a classification report\n",
        "print(classification_report(testY, predictions.argmax(axis=1)))"
      ],
      "metadata": {
        "colab": {
          "base_uri": "https://localhost:8080/"
        },
        "id": "p8b8EOcGAsH1",
        "outputId": "1fea7b29-22c2-4490-c485-97dfe0a27d20"
      },
      "execution_count": 24,
      "outputs": [
        {
          "output_type": "stream",
          "name": "stdout",
          "text": [
            "Evaluating ensemble...\n",
            "197/197 [==============================] - 7s 36ms/step\n",
            "197/197 [==============================] - 4s 18ms/step\n",
            "              precision    recall  f1-score   support\n",
            "\n",
            "           0       0.82      0.89      0.85       140\n",
            "           1       0.49      0.89      0.63       132\n",
            "           2       0.80      0.74      0.77       145\n",
            "           3       0.82      0.60      0.69       149\n",
            "           4       0.72      0.91      0.81       141\n",
            "           5       0.96      0.83      0.89       133\n",
            "           6       0.96      0.94      0.95       149\n",
            "           7       0.66      0.55      0.60       152\n",
            "           8       0.96      0.85      0.90       126\n",
            "           9       0.94      0.91      0.93       137\n",
            "          10       0.86      0.46      0.60       151\n",
            "          11       0.46      0.89      0.60       140\n",
            "          12       0.86      0.83      0.84       143\n",
            "          13       0.81      0.95      0.87       131\n",
            "          14       0.49      0.81      0.61       128\n",
            "          15       0.95      0.73      0.82       121\n",
            "          16       0.65      0.80      0.72       133\n",
            "          17       0.85      0.95      0.90       122\n",
            "          18       0.82      0.60      0.70       124\n",
            "          19       0.94      0.75      0.84       132\n",
            "          20       0.80      0.88      0.84       137\n",
            "          21       0.86      0.88      0.87       137\n",
            "          22       0.88      0.82      0.85       141\n",
            "          23       0.78      0.48      0.59       151\n",
            "          24       0.96      0.68      0.79       159\n",
            "          25       0.90      0.62      0.74       130\n",
            "          26       0.83      0.80      0.82       131\n",
            "          27       0.45      0.47      0.46       140\n",
            "          28       0.89      0.85      0.87       144\n",
            "          29       0.83      0.50      0.62       137\n",
            "          30       0.61      0.80      0.69       146\n",
            "          31       0.87      0.88      0.87       147\n",
            "          32       0.75      0.79      0.77       131\n",
            "          33       0.69      0.96      0.80       134\n",
            "          34       0.90      0.67      0.77       140\n",
            "          35       0.98      0.91      0.95       152\n",
            "          36       0.84      0.77      0.80       146\n",
            "          37       0.92      0.96      0.94       138\n",
            "          38       0.84      0.89      0.87       152\n",
            "          39       0.83      0.70      0.76       144\n",
            "          40       0.96      0.78      0.86       147\n",
            "          41       0.63      0.63      0.63       163\n",
            "          42       0.83      0.90      0.86       164\n",
            "          43       0.64      0.76      0.69       123\n",
            "          44       0.81      0.73      0.77       137\n",
            "\n",
            "    accuracy                           0.78      6300\n",
            "   macro avg       0.80      0.78      0.78      6300\n",
            "weighted avg       0.80      0.78      0.78      6300\n",
            "\n"
          ]
        }
      ]
    },
    {
      "cell_type": "markdown",
      "metadata": {
        "id": "l-W6wxSu4Kw3"
      },
      "source": [
        "## Model Testing"
      ]
    },
    {
      "cell_type": "code",
      "execution_count": 25,
      "metadata": {
        "colab": {
          "base_uri": "https://localhost:8080/",
          "height": 1000
        },
        "id": "FdX3F1-S4Pt4",
        "outputId": "4badb3ec-a180-4c4a-f7d1-8633978d1cc4"
      },
      "outputs": [
        {
          "output_type": "stream",
          "name": "stdout",
          "text": [
            "197/197 [==============================] - 4s 18ms/step\n",
            "\n",
            "Testing Classification Report:\n",
            "\n",
            "                        precision    recall  f1-score   support\n",
            "\n",
            "             airplane       0.81      0.86      0.83       140\n",
            "              airport       0.48      0.89      0.62       132\n",
            "     baseball_diamond       0.78      0.74      0.76       145\n",
            "     basketball_court       0.80      0.60      0.69       149\n",
            "                beach       0.72      0.93      0.81       141\n",
            "               bridge       0.96      0.79      0.87       133\n",
            "            chaparral       0.95      0.94      0.95       149\n",
            "               church       0.66      0.54      0.59       152\n",
            "    circular_farmland       0.97      0.85      0.91       126\n",
            "                cloud       0.93      0.91      0.92       137\n",
            "      commercial_area       0.87      0.44      0.58       151\n",
            "    dense_residential       0.43      0.89      0.58       140\n",
            "               desert       0.86      0.79      0.82       143\n",
            "               forest       0.81      0.95      0.87       131\n",
            "              freeway       0.47      0.80      0.59       128\n",
            "          golf_course       0.94      0.68      0.79       121\n",
            "   ground_track_field       0.66      0.79      0.72       133\n",
            "               harbor       0.82      0.93      0.87       122\n",
            "      industrial_area       0.82      0.60      0.69       124\n",
            "         intersection       0.96      0.73      0.83       132\n",
            "               island       0.76      0.88      0.82       137\n",
            "                 lake       0.87      0.86      0.86       137\n",
            "               meadow       0.88      0.81      0.84       141\n",
            "   medium_residential       0.81      0.44      0.57       151\n",
            "     mobile_home_park       0.95      0.64      0.77       159\n",
            "             mountain       0.91      0.61      0.73       130\n",
            "             overpass       0.84      0.79      0.81       131\n",
            "               palace       0.44      0.46      0.45       140\n",
            "          parking_lot       0.89      0.83      0.86       144\n",
            "              railway       0.83      0.49      0.61       137\n",
            "      railway_station       0.61      0.80      0.69       146\n",
            " rectangular_farmland       0.87      0.87      0.87       147\n",
            "                river       0.74      0.79      0.76       131\n",
            "           roundabout       0.68      0.96      0.80       134\n",
            "               runway       0.88      0.66      0.76       140\n",
            "              sea_ice       0.99      0.90      0.94       152\n",
            "                 ship       0.82      0.76      0.79       146\n",
            "             snowberg       0.91      0.96      0.93       138\n",
            "   sparse_residential       0.84      0.88      0.86       152\n",
            "              stadium       0.81      0.69      0.75       144\n",
            "         storage_tank       0.96      0.77      0.85       147\n",
            "         tennis_court       0.60      0.63      0.61       163\n",
            "              terrace       0.82      0.90      0.86       164\n",
            "thermal_power_station       0.63      0.76      0.69       123\n",
            "              wetland       0.78      0.72      0.75       137\n",
            "\n",
            "             accuracy                           0.76      6300\n",
            "            macro avg       0.80      0.77      0.77      6300\n",
            "         weighted avg       0.80      0.76      0.77      6300\n",
            "\n",
            "\n",
            "Testing Confusion Matrix:\n",
            "\n"
          ]
        },
        {
          "output_type": "execute_result",
          "data": {
            "text/plain": [
              "<Figure size 432x288 with 0 Axes>"
            ]
          },
          "metadata": {},
          "execution_count": 25
        },
        {
          "output_type": "display_data",
          "data": {
            "text/plain": [
              "<Figure size 432x288 with 2 Axes>"
            ],
            "image/png": "[encoded data removed]"
          },
          "metadata": {}
        },
        {
          "output_type": "display_data",
          "data": {
            "text/plain": [
              "<Figure size 432x288 with 0 Axes>"
            ]
          },
          "metadata": {}
        }
      ],
      "source": [
        "from seaborn import heatmap\n",
        "from sklearn.metrics import classification_report\n",
        "from sklearn.metrics import confusion_matrix\n",
        "\n",
        "import matplotlib.pyplot as plt\n",
        "\n",
        "# predict the labels of the test set\n",
        "predictedY = model.predict(testX)\n",
        "\n",
        "\n",
        "# print quality metricsl\n",
        "print('\\nTesting Classification Report:\\n\\n', classification_report(testY, predictedY.argmax(axis=1), target_names=feats))\n",
        "\n",
        "# predict the labels of the test set\n",
        "#predictedY = model.predict(testX)\n",
        "\n",
        "print('\\nTesting Confusion Matrix:\\n')\n",
        "\n",
        "heatmap(confusion_matrix(testY, predictedY.argmax(axis = 1)))\n",
        "plt.figure()"
      ]
    },
    {
      "cell_type": "markdown",
      "metadata": {
        "id": "yhmQYxkO4MX2"
      },
      "source": [
        "## Conclusions"
      ]
    },
    {
      "cell_type": "markdown",
      "source": [
        "The RESCISC-45 dataset consisted of 45 classes of satellite images with 700 images in each class. A convolutional neural network was required to efficiently train a model to classify the images.\n",
        "\n",
        "The simple ShallowNet only included a single 2D convolution layer that implemented a ReLu activation function and a fully-connected layer at the end with a Softmax classifier to predict the classification outputs. This model did not perform very well since it had a very basic convolutional structure, with about a 10% accuracy.\n",
        "\n",
        "However, more complicated models do not always produce the best accuracies either. For instance, the deeper neural networks, such as MiniGoogLeNet and ResNet, had fairly high accuracies at the beginning of their training, but their accuracy leveled off within a few epochs or even slightly decreased. **Note: The implementation of these blocks remained unmodified when the data loading technique was changed due to the long runtimes.\n",
        "\n",
        "The semi-deep models such as AlexNet, LeNet, and the SandwichCNN did not learn as quickly as the deeper networks, but with a larger epoch number, these models (LeNet in particular) were able to reach the same level of accuracy as the deeper ones with fewer oscillations in loss and accuracy.\n",
        "\n",
        "Transfer learning was especially helpful throughout this homework. Since the models were pretrainined on ImageNet, they were ensured to perform well on image classification problems. The second transfer learning run, MobileNetSmallV3, perfomed especially well on this dataset and resulted in a 75% accuracy on the validation set.\n",
        "\n",
        "When implementing ensemble learning between different models, or multiple runs of the same model, the validation/test accuracy always increased compared to those of the individual models. Since ensemble models essentially vote on the best model result, the accuracies ought to be higher than the individual ones.\n",
        "\n",
        "The final test performance was at 76% accuracy with an ensemble model including LeNet and MobileNetSmallV3."
      ],
      "metadata": {
        "id": "WxxIYVGMSRuv"
      }
    }
  ],
  "metadata": {
    "accelerator": "GPU",
    "colab": {
      "machine_shape": "hm",
      "provenance": []
    },
    "gpuClass": "premium",
    "kernelspec": {
      "display_name": "Python 3",
      "name": "python3"
    },
    "language_info": {
      "name": "python"
    }
  },
  "nbformat": 4,
  "nbformat_minor": 0
}