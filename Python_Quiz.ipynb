{
 "cells": [
  {
   "cell_type": "code",
   "execution_count": 7,
   "metadata": {
    "tags": []
   },
   "outputs": [],
   "source": [
    "#Question 1, Part a. I decided to convert the input to a string, if it is a string or integer."
   ]
  },
  {
   "cell_type": "code",
   "execution_count": 17,
   "metadata": {},
   "outputs": [],
   "source": [
    "#inp is input that can either be string or integer\n",
    "def isPalindrome(inp):\n",
    "    if type(inp) == type('') or type(inp) == type(1): \n",
    "        #so I couldn't figure out how to compare datatypes so I compared it so a random known type\n",
    "        #sets default boolean value\n",
    "        isPal = False\n",
    "        #converts to string, because it is easier to reverse\n",
    "        txt1 = str(inp)\n",
    "        #this essentially reverses the string, and then compares it to the original\n",
    "        txt2 = txt1[::-1]\n",
    "        if txt1 == txt2:\n",
    "            isPal = True\n",
    "            return isPal\n",
    "        else:\n",
    "            return isPal\n",
    "    else:\n",
    "        #again, converting to strings to makes coding easier for palindromes\n",
    "        print('Input of ' + str(inp) + ' had datatype of ' + str(type(inp)) + ' , so the function was not run.')\n",
    "        \n",
    "        "
   ]
  },
  {
   "cell_type": "code",
   "execution_count": 18,
   "metadata": {},
   "outputs": [],
   "source": [
    "#Question 1, Part B. I am running examples of strings and integers that are and are not palindromes to test the function."
   ]
  },
  {
   "cell_type": "code",
   "execution_count": 21,
   "metadata": {},
   "outputs": [
    {
     "name": "stdout",
     "output_type": "stream",
     "text": [
      "racecar has a datatype of <class 'str'> and is a palindrome.\n",
      "noon has a datatype of <class 'str'> and is a palindrome.\n",
      "computer has a datatype of <class 'str'> and is not a palindrome.\n",
      "515 has a datatype of <class 'int'> and is a palindrome.\n",
      "712 has a datatype of <class 'int'> and is not a palindrome.\n",
      "11 has a datatype of <class 'int'> and is a palindrome.\n",
      "Input of 5.5 had datatype of <class 'float'> , so the function was not run.\n",
      "Input of 10.6 had datatype of <class 'float'> , so the function was not run.\n",
      "Input of True had datatype of <class 'bool'> , so the function was not run.\n",
      "Input of False had datatype of <class 'bool'> , so the function was not run.\n"
     ]
    }
   ],
   "source": [
    "#creating list of strings, integers, floats, and booleans to test isPalindrome function\n",
    "values = ['racecar', 'noon', 'computer', 515, 712, 11, 5.5, 10.6, True, False]\n",
    "#iterating through the list and running the function on each item\n",
    "for item in values:\n",
    "    palin = isPalindrome(item)\n",
    "    if palin == True:\n",
    "        #I have to convert everything to strings to make it easier to concatenate.\n",
    "        print(str(item) + ' has a datatype of ' + str(type(item)) + ' and is a palindrome.')\n",
    "    elif palin == False:\n",
    "        print(str(item) + ' has a datatype of ' + str(type(item)) + ' and is not a palindrome.')\n",
    "    \n"
   ]
  },
  {
   "cell_type": "code",
   "execution_count": 11,
   "metadata": {},
   "outputs": [],
   "source": [
    "#Question 1, Part C, I copied and pasted the text from the website into a text document and read the file."
   ]
  },
  {
   "cell_type": "code",
   "execution_count": 36,
   "metadata": {},
   "outputs": [
    {
     "name": "stdout",
     "output_type": "stream",
     "text": [
      "['wow', 'refer', 'level', 'sees', '7', 'did', '8', 'huh', 'stats', 'a', 'mm', 'i', '11', 'D', 'mhm', 'C', 'B', 'A', 'yay', 'I', 'xx', 'U']\n",
      "There are 22 unique palindromes in the text.\n"
     ]
    }
   ],
   "source": [
    "text_file = open(\"q1.txt\", \"r\")\n",
    "\n",
    "#reading text file\n",
    "lines = text_file.read()\n",
    "\n",
    "#removing punctuation in the text by replacing the punctuation with an empty space\n",
    "lines2 = lines.replace('.', ' ')\n",
    "lines3 = lines2.replace(',', '  ')\n",
    "lines4 = lines3.replace(':', ' ')\n",
    "lines5 = lines4.replace('[', ' ')\n",
    "lines6 = lines5.replace('_', ' ')\n",
    "lines7 = lines6.replace('?', ' ')\n",
    "lines8 = lines7.replace(']', ' ')\n",
    "lines9 = lines8.replace('(', ' ')\n",
    "lines10 = lines9.replace('?', ' ')\n",
    "lines11 = lines10.replace(')', ' ')\n",
    "lines12 = lines11.replace('/', ' ')\n",
    "lines13 = lines12.replace('>', ' ')\n",
    "\n",
    "#using the split function of the text to obtain only the words\n",
    "lines_split = lines13.split()\n",
    "\n",
    "#creating empty list to store palindromes\n",
    "palindromes = []\n",
    "\n",
    "#iterating through words to check for palindrome and adding palindromes to a list\n",
    "#I defined palindromes as a string (regardless of length) that is equal backwards and forwards\n",
    "for word in lines_split:\n",
    "    if isPalindrome(word) == True:\n",
    "        palindromes.append(word)\n",
    "\n",
    "#converting list to set to create unique palindromes and converting back to list\n",
    "pal_set = set(palindromes) \n",
    "palindromes_unique = (list(pal_set))\n",
    "     \n",
    "print(palindromes_unique)    \n",
    "print('There are ' + str(len(palindromes_unique)) + ' unique palindromes in the text.')"
   ]
  },
  {
   "cell_type": "code",
   "execution_count": null,
   "metadata": {},
   "outputs": [],
   "source": [
    "#Question 2, Part A - I took the model from class and edited it to take in a plot of data as the intial guess and changed the gradientDescent function to account for two input variables"
   ]
  },
  {
   "cell_type": "code",
   "execution_count": 1,
   "metadata": {},
   "outputs": [
    {
     "name": "stdout",
     "output_type": "stream",
     "text": [
      "B Value:  4\n",
      "Global minimum  -6.52865611234413  found at ( 0.5 -2.25 )\n"
     ]
    },
    {
     "data": {
      "image/png": "[encoded data removed]",
      "text/plain": [
       "<pyolite.display.Image at 0x44b24e0>"
      ]
     },
     "metadata": {},
     "output_type": "display_data"
    },
    {
     "name": "stdout",
     "output_type": "stream",
     "text": [
      "B Value:  5\n",
      "Global minimum  -0.442306198516173  found at ( -0.5999999999999996 -2.8 )\n"
     ]
    },
    {
     "data": {
      "image/png": "[encoded data removed]",
      "text/plain": [
       "<pyolite.display.Image at 0x44b6150>"
      ]
     },
     "metadata": {},
     "output_type": "display_data"
    },
    {
     "name": "stdout",
     "output_type": "stream",
     "text": [
      "B Value:  10\n",
      "Global minimum  -5.71621781549603  found at ( 0.5000000000000004 -1.6999999999999997 )\n"
     ]
    },
    {
     "data": {
      "image/png": "[encoded data removed]",
      "text/plain": [
       "<pyolite.display.Image at 0x3fa62e0>"
      ]
     },
     "metadata": {},
     "output_type": "display_data"
    }
   ],
   "source": [
    "import numpy as np\n",
    "from sympy import *\n",
    "import matplotlib.pyplot as plt\n",
    "\n",
    "x, y = symbols('x y')    \n",
    "\n",
    "# Define a function.  I used sympy to calculate the partial derivatives symbolically so that the notebook\n",
    "# could be used for any function, rather than calculating partial derivatives by hand - which would limit\n",
    "# to a single function\n",
    "def generate_function():\n",
    "    expr = 3*((1-x)**2)*(exp((-x**2)-(y+1)**2)) - 10*(x/5 - x**3 - y**5)*(exp(-x**2-y**2)) - 1/3*exp(-(x+1)**2-y**2)\n",
    "    return expr\n",
    "    \n",
    "# Determine gradient of function, return array with x and y coordinates.  Using sympy to symbolically\n",
    "# differtiate, then calculating the values of x and y from the partial derivatives.\n",
    "def generate_grad_function(expr, x0, y0):\n",
    "    expr_diffX = Derivative(expr, x)\n",
    "    dx = expr_diffX.doit()\n",
    "    expr_diffY = Derivative(expr, y)\n",
    "    dy = expr_diffY.doit()\n",
    "    dxVal = dx.evalf(subs={x:x0, y:y0})\n",
    "    dyVal = dy.evalf(subs={x:x0, y:y0})\n",
    "    newPt = np.array([dxVal,dyVal], dtype=float)\n",
    "    return newPt\n",
    "\n",
    "# Calculate a gradient descent in two variables, using the sympy expression and the sympy partial\n",
    "# deriviatives.  The gradient repeates until norm of the input point array is greater than the specified\n",
    "# tolerance, and finishes at maximum number of iterations if tolerance is never reached.\n",
    "def gradientDescent(x0, y0, expr, alpha, tolerance, maxIterations):\n",
    "    grad = None\n",
    "    gradPt = []\n",
    "    counter = 0\n",
    "    p = np.array([x0,y0], dtype=float)\n",
    "    while grad is None or np.linalg.norm(p) > tolerance and counter < maxIterations:\n",
    "        grad = generate_grad_function(expr, x0, y0) # p[0], p[1])\n",
    "        p -= grad * alpha\n",
    "        counter += 1\n",
    "    return p\n",
    "              \n",
    "# Creating the grid and return a array of x and y values from [-c to +c] in b steps.\n",
    "# Note: It will take an extra point with respect to b.\n",
    "def gdVariant(c, b):\n",
    "    x = []\n",
    "    y = []\n",
    "    x1 = -c\n",
    "    y1 = -c\n",
    "    increment = ((2 * c) + 1) / b #to make even steps for b points within range [-c,c]\n",
    "    for i in range(b):\n",
    "        x.append(x1)\n",
    "        x1 += increment\n",
    "    for j in range(b):\n",
    "        y.append(y1)\n",
    "        y1 += increment\n",
    "    Variants = []\n",
    "    Variants.append(x)\n",
    "    Variants.append(y)\n",
    "    return Variants\n",
    "\n",
    "# Main function\n",
    "\n",
    "# Define an expression using sympy and return the symbolic expression\n",
    "\n",
    "expr = generate_function()\n",
    "\n",
    "# Generate a range of b values to test, and iterate over the b values\n",
    "\n",
    "bVals = [4, 5, 10]\n",
    "c = 5\n",
    "for b in bVals:\n",
    "    globalMin = 1000000000 # Define globalMin to be a large number\n",
    "    Results = [] # Define an array for results points\n",
    "    ResultsGrid = [] # Capture results in a grid for heatmap\n",
    "    GridInputs = gdVariant(c, b) # Generate the grid of inputs\n",
    "    for yV in GridInputs[1]:\n",
    "        ResultsRow = [] # Create an array with row value of results\n",
    "        for xV in GridInputs[0]:\n",
    "            # Run gradient descent for each grid point, passing the expression as an argument, which will be\n",
    "            # symbolically evaluated\n",
    "            gdResults = gradientDescent(xV, yV, expr, alpha = 0.01, tolerance = 0.001, maxIterations = 10)        \n",
    "            # Evaluate the expressions returned for the partial derivatives with respect to x and y to\n",
    "            # determine minimum\n",
    "            g = expr.evalf(subs={x:gdResults[0], y:gdResults[1]})\n",
    "            # If minimum is less than previous global minimum, save minimum value and coordinates\n",
    "            if (g < globalMin):\n",
    "                globalMin = g\n",
    "                xMin = xV\n",
    "                yMin = yV\n",
    "            ResultsRow.append(g)\n",
    "        ResultsGrid.append(ResultsRow) # Append the row results to the matrix\n",
    "\n",
    "    # Print global minimum value and coordinates, and plot heat map of values\n",
    "\n",
    "    print(\"B Value: \", b)\n",
    "    print(\"Global minimum \", globalMin, \" found at (\", xMin, yMin, \")\")\n",
    "    rgHeatMap = np.array(ResultsGrid, dtype=float) # Convert the results matrix to a NumPy array\n",
    "    plt.imshow(rgHeatMap, cmap='YlGnBu', interpolation='nearest')\n",
    "    plt.show()"
   ]
  },
  {
   "cell_type": "code",
   "execution_count": null,
   "metadata": {},
   "outputs": [],
   "source": [
    "# Part d) As the value of b increasing, the size of the matrix considerably increases, thus creating a larger \n",
    "#grid of points that are tested in the function. Both the x and y coordinates, as well as the global minimum,\n",
    "# vary when the value of b changes."
   ]
  }
 ],
 "metadata": {
  "kernelspec": {
   "display_name": "Python 3 (ipykernel)",
   "language": "python",
   "name": "python3"
  },
  "language_info": {
   "codemirror_mode": {
    "name": "ipython",
    "version": 3
   },
   "file_extension": ".py",
   "mimetype": "text/x-python",
   "name": "python",
   "nbconvert_exporter": "python",
   "pygments_lexer": "ipython3",
   "version": "3.8.13"
  }
 },
 "nbformat": 4,
 "nbformat_minor": 4
}
