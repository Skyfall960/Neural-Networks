{
 "cells": [
  {
   "cell_type": "markdown",
   "id": "330e1f90",
   "metadata": {},
   "source": [
    "# Homework 5"
   ]
  },
  {
   "cell_type": "markdown",
   "id": "3dfe5975",
   "metadata": {},
   "source": [
    "## Importing and Preprocessing Data"
   ]
  },
  {
   "cell_type": "code",
   "execution_count": 1,
   "id": "bd6ca6ca",
   "metadata": {},
   "outputs": [],
   "source": [
    "import json\n",
    "import pandas as pd\n",
    "data_file = open(\"Downloads/yelp_academic_dataset_review.json\")\n",
    "data = []\n",
    "for line in data_file:\n",
    "    data.append(json.loads(line))\n",
    "checkin_df = pd.DataFrame(data)\n",
    "data_file.close()\n",
    "\n",
    "yelp_stars = checkin_df.stars.to_numpy()\n",
    "yelp_text = checkin_df.text.to_numpy()"
   ]
  },
  {
   "cell_type": "code",
   "execution_count": 2,
   "id": "1414a4c4",
   "metadata": {},
   "outputs": [],
   "source": [
    "# subset of the data\n",
    "yelpStars = yelp_stars[0:40000]"
   ]
  },
  {
   "cell_type": "code",
   "execution_count": 3,
   "id": "7e89e74e",
   "metadata": {},
   "outputs": [],
   "source": [
    "# subset of the data\n",
    "yelpReviews = yelp_text[0:40000]"
   ]
  },
  {
   "cell_type": "code",
   "execution_count": null,
   "id": "0bb96e36",
   "metadata": {},
   "outputs": [],
   "source": [
    "from tensorflow.keras import Input\n",
    "from tensorflow.keras.layers import Activation\n",
    "from tensorflow.keras.layers import Bidirectional\n",
    "from tensorflow.keras.layers import Conv1D\n",
    "from tensorflow.keras.layers import Dense\n",
    "from tensorflow.keras.layers import Dropout\n",
    "from tensorflow.keras.layers import Embedding\n",
    "from tensorflow.keras.layers import InputLayer\n",
    "from tensorflow.keras.layers import LSTM\n",
    "from tensorflow.keras.layers import GRU\n",
    "from tensorflow.keras.layers import MaxPooling1D\n",
    "from tensorflow.keras.layers import SimpleRNN\n",
    "from tensorflow.keras.layers.experimental.preprocessing import TextVectorization\n",
    "from tensorflow.keras.models import Sequential\n",
    "from tensorflow.keras.preprocessing import text_dataset_from_directory\n",
    "from tensorflow.strings import regex_replace\n",
    "\n",
    "import matplotlib.pyplot as plt\n",
    "import numpy as np\n",
    "import os\n",
    "import shutil"
   ]
  },
  {
   "cell_type": "code",
   "execution_count": 5,
   "id": "340725e3-e718-421b-973d-65ff85845548",
   "metadata": {},
   "outputs": [],
   "source": [
    "# since stars is from range 1 - 5, needs to be transformed from 0-4\n",
    "for i in range(len(yelpStars)):\n",
    "    yelpStars[i] = yelpStars[i] - 1"
   ]
  },
  {
   "cell_type": "code",
   "execution_count": 6,
   "id": "04855c35",
   "metadata": {},
   "outputs": [],
   "source": [
    "# removing unnecessary characters from reviews\n",
    "for i in range(len(yelpReviews)):\n",
    "    new_string = yelpReviews[i].replace(\"\\n\", \"\")\n",
    "    new_string1 = new_string.replace(\"\\\"\",\" \")\n",
    "    yelpReviews[i] = new_string"
   ]
  },
  {
   "cell_type": "code",
   "execution_count": 7,
   "id": "1aafd0b9",
   "metadata": {},
   "outputs": [],
   "source": [
    "from sklearn.model_selection import train_test_split\n",
    "from sklearn.metrics import classification_report"
   ]
  },
  {
   "cell_type": "code",
   "execution_count": 8,
   "id": "8da25c81",
   "metadata": {},
   "outputs": [],
   "source": [
    "# splitting dataset into test, train, and validation\n",
    "train_val_X, testX, train_val_Y, testY = train_test_split(yelpReviews, yelpStars, train_size=0.8, random_state=1)\n",
    "trainX, valX, trainY, valY = train_test_split(train_val_X, train_val_Y, train_size=0.5, random_state=1)"
   ]
  },
  {
   "cell_type": "markdown",
   "id": "fcfc8ecc",
   "metadata": {},
   "source": [
    "## Bidirectional RNN"
   ]
  },
  {
   "cell_type": "code",
   "execution_count": 9,
   "id": "c400bc98",
   "metadata": {},
   "outputs": [
    {
     "name": "stderr",
     "output_type": "stream",
     "text": [
      "2022-12-09 20:24:03.097548: I tensorflow/core/common_runtime/pluggable_device/pluggable_device_factory.cc:306] Could not identify NUMA node of platform GPU ID 0, defaulting to 0. Your kernel may not have been built with NUMA support.\n",
      "2022-12-09 20:24:03.098256: I tensorflow/core/common_runtime/pluggable_device/pluggable_device_factory.cc:272] Created TensorFlow device (/job:localhost/replica:0/task:0/device:GPU:0 with 0 MB memory) -> physical PluggableDevice (device: 0, name: METAL, pci bus id: <undefined>)\n",
      "2022-12-09 20:24:03.266379: W tensorflow/core/platform/profile_utils/cpu_utils.cc:128] Failed to get CPU frequency: 0 Hz\n"
     ]
    },
    {
     "name": "stdout",
     "output_type": "stream",
     "text": [
      "Metal device set to: Apple M2\n"
     ]
    },
    {
     "name": "stderr",
     "output_type": "stream",
     "text": [
      "2022-12-09 20:24:03.392398: I tensorflow/core/grappler/optimizers/custom_graph_optimizer_registry.cc:114] Plugin optimizer for device_type GPU is enabled.\n"
     ]
    }
   ],
   "source": [
    "# create a TextVectorization layer to turn input string into a sequence of integers,\n",
    "# each representing one token\n",
    "maxTokens = 500\n",
    "vectorizeLayer = TextVectorization(max_tokens = maxTokens,\n",
    "                                   output_mode = 'int',\n",
    "                                   output_sequence_length = 100)\n",
    "\n",
    "vectorizeLayer.adapt(trainX)\n",
    "\n",
    "model = Sequential()\n",
    "\n",
    "model.add(Input(shape=(1,), dtype = 'string'))\n",
    "\n",
    "# add layer to the model\n",
    "model.add(vectorizeLayer)\n",
    "\n",
    "# add an embedding layer to turn integers into fixed-length vectors\n",
    "model.add(Embedding(maxTokens + 1, 128))\n",
    "\n",
    "# add a fully-connected recurrent layer\n",
    "model.add(Bidirectional(SimpleRNN(64)))\n",
    "\n",
    "# add a dense layer\n",
    "model.add(Dense(64, activation = 'relu'))\n",
    "\n",
    "# add softmax classifier\n",
    "model.add(Dense(5, activation = 'softmax'))\n"
   ]
  },
  {
   "cell_type": "code",
   "execution_count": 10,
   "id": "e19f6f8d",
   "metadata": {},
   "outputs": [
    {
     "name": "stdout",
     "output_type": "stream",
     "text": [
      "Model: \"sequential\"\n",
      "_________________________________________________________________\n",
      " Layer (type)                Output Shape              Param #   \n",
      "=================================================================\n",
      " text_vectorization (TextVec  (None, 100)              0         \n",
      " torization)                                                     \n",
      "                                                                 \n",
      " embedding (Embedding)       (None, 100, 128)          64128     \n",
      "                                                                 \n",
      " bidirectional (Bidirectiona  (None, 128)              24704     \n",
      " l)                                                              \n",
      "                                                                 \n",
      " dense (Dense)               (None, 64)                8256      \n",
      "                                                                 \n",
      " dense_1 (Dense)             (None, 5)                 325       \n",
      "                                                                 \n",
      "=================================================================\n",
      "Total params: 97,413\n",
      "Trainable params: 97,413\n",
      "Non-trainable params: 0\n",
      "_________________________________________________________________\n"
     ]
    }
   ],
   "source": [
    "model.compile(optimizer = 'adam', loss = 'sparse_categorical_crossentropy', metrics = ['accuracy'])\n",
    "model.summary()"
   ]
  },
  {
   "cell_type": "code",
   "execution_count": 11,
   "id": "51248767",
   "metadata": {},
   "outputs": [
    {
     "name": "stdout",
     "output_type": "stream",
     "text": [
      "Epoch 1/3\n"
     ]
    },
    {
     "name": "stderr",
     "output_type": "stream",
     "text": [
      "2022-12-09 20:24:38.624123: I tensorflow/core/grappler/optimizers/custom_graph_optimizer_registry.cc:114] Plugin optimizer for device_type GPU is enabled.\n"
     ]
    },
    {
     "name": "stdout",
     "output_type": "stream",
     "text": [
      "250/250 [==============================] - ETA: 0s - loss: 1.3300 - accuracy: 0.4441"
     ]
    },
    {
     "name": "stderr",
     "output_type": "stream",
     "text": [
      "2022-12-09 21:02:31.232453: I tensorflow/core/grappler/optimizers/custom_graph_optimizer_registry.cc:114] Plugin optimizer for device_type GPU is enabled.\n"
     ]
    },
    {
     "name": "stdout",
     "output_type": "stream",
     "text": [
      "250/250 [==============================] - 2432s 10s/step - loss: 1.3300 - accuracy: 0.4441 - val_loss: 1.1897 - val_accuracy: 0.4849\n",
      "Epoch 2/3\n",
      "250/250 [==============================] - 2224s 9s/step - loss: 1.1401 - accuracy: 0.5162 - val_loss: 1.1287 - val_accuracy: 0.5104\n",
      "Epoch 3/3\n",
      "250/250 [==============================] - 2231s 9s/step - loss: 1.0404 - accuracy: 0.5631 - val_loss: 1.1150 - val_accuracy: 0.5130\n"
     ]
    },
    {
     "data": {
      "text/plain": [
       "<matplotlib.legend.Legend at 0x5fcf3aee0>"
      ]
     },
     "execution_count": 11,
     "metadata": {},
     "output_type": "execute_result"
    },
    {
     "data": {
      "image/png": "[encoded data removed]",
      "text/plain": [
       "<Figure size 640x480 with 1 Axes>"
      ]
     },
     "metadata": {},
     "output_type": "display_data"
    }
   ],
   "source": [
    "epochs = 3\n",
    "\n",
    "H = model.fit(trainX, trainY, validation_data = (valX, valY), epochs = epochs, batch_size = 64)\n",
    "\n",
    "plt.style.use('ggplot')\n",
    "plt.figure()\n",
    "plt.plot(np.arange(0, epochs), H.history['loss'], label = 'train_loss')\n",
    "plt.plot(np.arange(0, epochs), H.history['val_loss'], label = 'val_loss')\n",
    "plt.plot(np.arange(0, epochs), H.history['accuracy'], label = 'train_acc')\n",
    "plt.plot(np.arange(0, epochs), H.history['val_accuracy'], label = 'val_acc')\n",
    "    \n",
    "# add labels and legend\n",
    "plt.title('Training Loss and Accuracy')\n",
    "plt.xlabel('Epoch #')\n",
    "plt.ylabel('Loss/Accuracy')\n",
    "plt.legend()"
   ]
  },
  {
   "cell_type": "code",
   "execution_count": 13,
   "id": "41cd2ead",
   "metadata": {},
   "outputs": [
    {
     "name": "stderr",
     "output_type": "stream",
     "text": [
      "2022-12-09 22:23:37.322258: I tensorflow/core/grappler/optimizers/custom_graph_optimizer_registry.cc:114] Plugin optimizer for device_type GPU is enabled.\n"
     ]
    },
    {
     "name": "stdout",
     "output_type": "stream",
     "text": [
      "250/250 [==============================] - 149s 595ms/step - loss: 1.1131 - accuracy: 0.5166\n"
     ]
    },
    {
     "data": {
      "text/plain": [
       "[1.113105058670044, 0.5166250467300415]"
      ]
     },
     "execution_count": 13,
     "metadata": {},
     "output_type": "execute_result"
    }
   ],
   "source": [
    "#testing model\n",
    "model.evaluate(testX, testY)"
   ]
  },
  {
   "cell_type": "markdown",
   "id": "518052b3",
   "metadata": {},
   "source": [
    "### Evaluatation of Written Review"
   ]
  },
  {
   "cell_type": "code",
   "execution_count": 16,
   "id": "a0ec5036",
   "metadata": {
    "scrolled": true
   },
   "outputs": [
    {
     "name": "stdout",
     "output_type": "stream",
     "text": [
      "1/1 [==============================] - 1s 608ms/step\n",
      "[[0.00774914 0.02588726 0.160317   0.575653   0.2303936 ]]\n"
     ]
    }
   ],
   "source": [
    "print(model.predict(['While this movie series is usually great, I really disliked this sequel']))\n",
    "# This review has 1 star"
   ]
  },
  {
   "cell_type": "markdown",
   "id": "84ef7c72",
   "metadata": {},
   "source": [
    "The model predicted the greatest possiblity of a 4-star rating while the actual rating was 1-star."
   ]
  },
  {
   "cell_type": "code",
   "execution_count": 17,
   "id": "6b59c06b",
   "metadata": {},
   "outputs": [
    {
     "name": "stdout",
     "output_type": "stream",
     "text": [
      "1/1 [==============================] - 1s 588ms/step\n",
      "[[0.03256047 0.0281984  0.0908957  0.3949108  0.4534346 ]]\n"
     ]
    }
   ],
   "source": [
    "print(model.predict(['This movie was spectular! I loved the characters and the plot was so well thought out!']))\n",
    "## This is a 5-star review"
   ]
  },
  {
   "cell_type": "markdown",
   "id": "ffd591c0",
   "metadata": {},
   "source": [
    "For this noticeably 5-star review, the model was able to correct predict the star rating on this particlar reviewl."
   ]
  },
  {
   "cell_type": "markdown",
   "id": "6a5f4dae",
   "metadata": {},
   "source": [
    "## Bidirectional GRU Network"
   ]
  },
  {
   "cell_type": "code",
   "execution_count": 34,
   "id": "dbf8aae3",
   "metadata": {},
   "outputs": [
    {
     "name": "stderr",
     "output_type": "stream",
     "text": [
      "2022-12-09 22:56:24.606786: I tensorflow/core/grappler/optimizers/custom_graph_optimizer_registry.cc:114] Plugin optimizer for device_type GPU is enabled.\n"
     ]
    }
   ],
   "source": [
    "maxTokens = 500\n",
    "vectorizeLayer = TextVectorization(max_tokens = maxTokens,\n",
    "                                   output_mode = 'int',\n",
    "                                   output_sequence_length = 100)\n",
    "\n",
    "\n",
    "vectorizeLayer.adapt(trainX)\n",
    "\n",
    "model = Sequential()\n",
    "\n",
    "model.add(Input(shape=(1,), dtype = 'string'))\n",
    "\n",
    "# add layer to the model\n",
    "model.add(vectorizeLayer)\n",
    "\n",
    "# add an embedding layer to turn integers into fixed-length vectors\n",
    "model.add(Embedding(maxTokens + 1, 128))\n",
    "\n",
    "# add a fully-connected recurrent layer\n",
    "model.add(GRU(64))\n",
    "\n",
    "# add a dense layer\n",
    "model.add(Dense(64, activation = 'relu'))\n",
    "model.add(Dropout(0.5))\n",
    "\n",
    "# add softmax classifier\n",
    "model.add(Dense(5, activation = 'softmax'))"
   ]
  },
  {
   "cell_type": "code",
   "execution_count": 35,
   "id": "9e8d3243",
   "metadata": {},
   "outputs": [
    {
     "name": "stdout",
     "output_type": "stream",
     "text": [
      "Model: \"sequential_8\"\n",
      "_________________________________________________________________\n",
      " Layer (type)                Output Shape              Param #   \n",
      "=================================================================\n",
      " text_vectorization_8 (TextV  (None, 100)              0         \n",
      " ectorization)                                                   \n",
      "                                                                 \n",
      " embedding_8 (Embedding)     (None, 100, 128)          64128     \n",
      "                                                                 \n",
      " gru_3 (GRU)                 (None, 64)                37248     \n",
      "                                                                 \n",
      " dense_10 (Dense)            (None, 64)                4160      \n",
      "                                                                 \n",
      " dropout_4 (Dropout)         (None, 64)                0         \n",
      "                                                                 \n",
      " dense_11 (Dense)            (None, 5)                 325       \n",
      "                                                                 \n",
      "=================================================================\n",
      "Total params: 105,861\n",
      "Trainable params: 105,861\n",
      "Non-trainable params: 0\n",
      "_________________________________________________________________\n"
     ]
    }
   ],
   "source": [
    "model.compile(optimizer = 'adam', loss = 'sparse_categorical_crossentropy', metrics = ['accuracy'])\n",
    "model.summary()"
   ]
  },
  {
   "cell_type": "code",
   "execution_count": 36,
   "id": "ad25c326",
   "metadata": {},
   "outputs": [
    {
     "name": "stdout",
     "output_type": "stream",
     "text": [
      "Epoch 1/20\n"
     ]
    },
    {
     "name": "stderr",
     "output_type": "stream",
     "text": [
      "2022-12-09 22:56:26.999150: I tensorflow/core/grappler/optimizers/custom_graph_optimizer_registry.cc:114] Plugin optimizer for device_type GPU is enabled.\n",
      "2022-12-09 22:56:27.085421: I tensorflow/core/grappler/optimizers/custom_graph_optimizer_registry.cc:114] Plugin optimizer for device_type GPU is enabled.\n",
      "2022-12-09 22:56:27.354548: I tensorflow/core/grappler/optimizers/custom_graph_optimizer_registry.cc:114] Plugin optimizer for device_type GPU is enabled.\n"
     ]
    },
    {
     "name": "stdout",
     "output_type": "stream",
     "text": [
      "499/500 [============================>.] - ETA: 0s - loss: 1.4117 - accuracy: 0.4383"
     ]
    },
    {
     "name": "stderr",
     "output_type": "stream",
     "text": [
      "2022-12-09 22:56:48.189277: I tensorflow/core/grappler/optimizers/custom_graph_optimizer_registry.cc:114] Plugin optimizer for device_type GPU is enabled.\n",
      "2022-12-09 22:56:48.275806: I tensorflow/core/grappler/optimizers/custom_graph_optimizer_registry.cc:114] Plugin optimizer for device_type GPU is enabled.\n"
     ]
    },
    {
     "name": "stdout",
     "output_type": "stream",
     "text": [
      "500/500 [==============================] - 28s 54ms/step - loss: 1.4113 - accuracy: 0.4386 - val_loss: 1.3719 - val_accuracy: 0.4488\n",
      "Epoch 2/20\n",
      "500/500 [==============================] - 20s 40ms/step - loss: 1.3906 - accuracy: 0.4413 - val_loss: 1.3402 - val_accuracy: 0.4557\n",
      "Epoch 3/20\n",
      "500/500 [==============================] - 20s 40ms/step - loss: 1.3767 - accuracy: 0.4377 - val_loss: 1.5105 - val_accuracy: 0.4462\n",
      "Epoch 4/20\n",
      "500/500 [==============================] - 20s 40ms/step - loss: 1.3887 - accuracy: 0.4447 - val_loss: 1.3489 - val_accuracy: 0.4510\n",
      "Epoch 5/20\n",
      "500/500 [==============================] - 20s 41ms/step - loss: 1.3225 - accuracy: 0.4537 - val_loss: 1.2295 - val_accuracy: 0.4818\n",
      "Epoch 6/20\n",
      "500/500 [==============================] - 20s 40ms/step - loss: 1.2046 - accuracy: 0.4943 - val_loss: 1.1774 - val_accuracy: 0.4899\n",
      "Epoch 7/20\n",
      "500/500 [==============================] - 20s 40ms/step - loss: 1.1834 - accuracy: 0.4921 - val_loss: 1.1413 - val_accuracy: 0.5046\n",
      "Epoch 8/20\n",
      "500/500 [==============================] - 20s 41ms/step - loss: 1.1346 - accuracy: 0.5073 - val_loss: 1.1265 - val_accuracy: 0.5052\n",
      "Epoch 9/20\n",
      "500/500 [==============================] - 20s 41ms/step - loss: 1.1174 - accuracy: 0.5141 - val_loss: 1.1029 - val_accuracy: 0.5116\n",
      "Epoch 10/20\n",
      "500/500 [==============================] - 20s 40ms/step - loss: 1.0919 - accuracy: 0.5264 - val_loss: 1.0736 - val_accuracy: 0.5344\n",
      "Epoch 11/20\n",
      "500/500 [==============================] - 20s 40ms/step - loss: 1.0566 - accuracy: 0.5478 - val_loss: 1.0658 - val_accuracy: 0.5418\n",
      "Epoch 12/20\n",
      "500/500 [==============================] - 20s 40ms/step - loss: 1.0308 - accuracy: 0.5658 - val_loss: 1.0357 - val_accuracy: 0.5574\n",
      "Epoch 13/20\n",
      "500/500 [==============================] - 20s 41ms/step - loss: 1.0048 - accuracy: 0.5706 - val_loss: 1.0325 - val_accuracy: 0.5606\n",
      "Epoch 14/20\n",
      "500/500 [==============================] - 20s 40ms/step - loss: 0.9955 - accuracy: 0.5806 - val_loss: 1.0168 - val_accuracy: 0.5682\n",
      "Epoch 15/20\n",
      "500/500 [==============================] - 20s 41ms/step - loss: 0.9769 - accuracy: 0.5855 - val_loss: 1.0224 - val_accuracy: 0.5584\n",
      "Epoch 16/20\n",
      "500/500 [==============================] - 20s 41ms/step - loss: 0.9716 - accuracy: 0.5881 - val_loss: 1.0042 - val_accuracy: 0.5733\n",
      "Epoch 17/20\n",
      "500/500 [==============================] - 20s 41ms/step - loss: 0.9610 - accuracy: 0.5941 - val_loss: 1.0186 - val_accuracy: 0.5726\n",
      "Epoch 18/20\n",
      "500/500 [==============================] - 20s 41ms/step - loss: 0.9568 - accuracy: 0.5959 - val_loss: 1.0030 - val_accuracy: 0.5705\n",
      "Epoch 19/20\n",
      "500/500 [==============================] - 20s 41ms/step - loss: 0.9506 - accuracy: 0.5959 - val_loss: 1.0012 - val_accuracy: 0.5709\n",
      "Epoch 20/20\n",
      "500/500 [==============================] - 20s 41ms/step - loss: 0.9427 - accuracy: 0.6023 - val_loss: 1.0057 - val_accuracy: 0.5735\n"
     ]
    },
    {
     "data": {
      "text/plain": [
       "<matplotlib.legend.Legend at 0x6b9532430>"
      ]
     },
     "execution_count": 36,
     "metadata": {},
     "output_type": "execute_result"
    },
    {
     "data": {
      "image/png": "[encoded data removed]",
      "text/plain": [
       "<Figure size 640x480 with 1 Axes>"
      ]
     },
     "metadata": {},
     "output_type": "display_data"
    }
   ],
   "source": [
    "epochs = 20\n",
    "\n",
    "H = model.fit(trainX, trainY, validation_data = (valX, valY), epochs = epochs)\n",
    "\n",
    "plt.style.use('ggplot')\n",
    "plt.figure()\n",
    "plt.plot(np.arange(0, epochs), H.history['loss'], label = 'train_loss')\n",
    "plt.plot(np.arange(0, epochs), H.history['val_loss'], label = 'val_loss')\n",
    "plt.plot(np.arange(0, epochs), H.history['accuracy'], label = 'train_acc')\n",
    "plt.plot(np.arange(0, epochs), H.history['val_accuracy'], label = 'val_acc')\n",
    "    \n",
    "# add labels and legend\n",
    "plt.title('Training Loss and Accuracy')\n",
    "plt.xlabel('Epoch #')\n",
    "plt.ylabel('Loss/Accuracy')\n",
    "plt.legend()"
   ]
  },
  {
   "cell_type": "code",
   "execution_count": 37,
   "id": "b135379f",
   "metadata": {},
   "outputs": [
    {
     "name": "stdout",
     "output_type": "stream",
     "text": [
      "250/250 [==============================] - 3s 13ms/step - loss: 0.9907 - accuracy: 0.5769\n"
     ]
    },
    {
     "data": {
      "text/plain": [
       "[0.9907362461090088, 0.5768750309944153]"
      ]
     },
     "execution_count": 37,
     "metadata": {},
     "output_type": "execute_result"
    }
   ],
   "source": [
    "# testing model\n",
    "model.evaluate(testX, testY)"
   ]
  },
  {
   "cell_type": "markdown",
   "id": "f402e073",
   "metadata": {},
   "source": [
    "### Evaluatation of Written Review"
   ]
  },
  {
   "cell_type": "code",
   "execution_count": 45,
   "id": "7fa268a9",
   "metadata": {},
   "outputs": [
    {
     "name": "stdout",
     "output_type": "stream",
     "text": [
      "1/1 [==============================] - 0s 32ms/step\n",
      "[[0.00713622 0.01750159 0.07414225 0.38782534 0.5133946 ]]\n"
     ]
    }
   ],
   "source": [
    "print(model.predict(['While this movie series is usually great, I really disliked this sequel.']))\n",
    "# This review has 1 star"
   ]
  },
  {
   "cell_type": "code",
   "execution_count": 44,
   "id": "c2cb9b5c",
   "metadata": {},
   "outputs": [
    {
     "name": "stdout",
     "output_type": "stream",
     "text": [
      "1/1 [==============================] - 0s 34ms/step\n",
      "[[0.13702829 0.08474537 0.08986074 0.24565709 0.4427085 ]]\n"
     ]
    }
   ],
   "source": [
    "print(model.predict(['This movie was spectular! I loved the characters and the plot was so well thought out!']))\n",
    "## This is a 5-star review"
   ]
  },
  {
   "cell_type": "markdown",
   "id": "71bbdde7",
   "metadata": {},
   "source": [
    "Even though this model had a better accuracy on the test data than the bidirectional recurrent network, the previous model still slighlty outperformed the GRU model when the reviews were designed to trick and test the model. For the trick review, both models predicted the accurate star rating about 7% of the time, but for the 5-star review, the previous model predicted 5 stars at 45% while this one predicted is at 44%."
   ]
  },
  {
   "cell_type": "markdown",
   "id": "6a769528",
   "metadata": {},
   "source": [
    "## Explanation"
   ]
  },
  {
   "cell_type": "markdown",
   "id": "a622a96f",
   "metadata": {},
   "source": [
    "I chose to use a bidirectional GRU network over a bidirectional LSTM network because LSTM models process activations by previous activations; they have a very short memory. This is not too beneficial in natural langage processing because the meaning of a word depends on the rest of the sentence, not immediately the preceding word. By forgetting details that are not adjacent to the original word, its sentiment analysis would have trouble predicting accurately. However, GRUs are designed to reset and update based on previous activations, not necessarily the preceding one. This allows the model to remember details from previous activation and updating itself when a new one is added. This is beneficial for natural language processing because the model will remember previous words and make connections within the sentence and will be better able to understand the sentiment of the text."
   ]
  },
  {
   "cell_type": "markdown",
   "id": "884951a6",
   "metadata": {},
   "source": [
    "## Pretrained Transformer (BERT)"
   ]
  },
  {
   "cell_type": "code",
   "execution_count": 80,
   "id": "165473e4",
   "metadata": {},
   "outputs": [],
   "source": [
    "import tensorflow_hub as hub\n",
    "\n",
    "## loading bert from tensorhub\n",
    "module_url = \"https://tfhub.dev/tensorflow/small_bert/bert_en_uncased_L-4_H-512_A-8/1\"\n",
    "bert_model = hub.KerasLayer(module_url, trainable=False)"
   ]
  },
  {
   "cell_type": "code",
   "execution_count": 83,
   "id": "5cb60f72",
   "metadata": {},
   "outputs": [],
   "source": [
    "def build_classifier_model():\n",
    "    text_input = tf.keras.layers.Input(shape=(), dtype=tf.string, name='text')\n",
    "    preprocessing_layer = hub.KerasLayer(tfhub_handle_preprocess, name='preprocessing')\n",
    "    encoder_inputs = preprocessing_layer(text_input)\n",
    "    encoder = hub.KerasLayer(tfhub_handle_encoder, trainable=True, name='BERT_encoder')  \n",
    "    outputs = encoder(encoder_inputs)\n",
    "    net = outputs['pooled_output']\n",
    "    net = tf.keras.layers.Dropout(0.1)(net)\n",
    "    net = tf.keras.layers.Dense(1, activation=None, name='classifier')(net)\n",
    "    return tf.keras.Model(text_input, net)"
   ]
  },
  {
   "cell_type": "code",
   "execution_count": null,
   "id": "f3de9049",
   "metadata": {},
   "outputs": [],
   "source": [
    "import tensorflow as tf\n",
    "\n",
    "model = build_classifier_model()\n",
    "model.compile(optimizer = 'adam', loss = 'sparse_categorical_crossentropy', metrics = ['accuracy'])\n",
    "model.summary()\n"
   ]
  },
  {
   "cell_type": "markdown",
   "id": "e67599b1",
   "metadata": {},
   "source": [
    "As seen above, I wasn't able to get BERT working properly, or at all. I checked all the dependencies and everything seemed fine, but the model was not able to be properly set up."
   ]
  },
  {
   "cell_type": "markdown",
   "id": "44f9dea7",
   "metadata": {},
   "source": [
    "## Modifications"
   ]
  },
  {
   "cell_type": "markdown",
   "id": "7712a6c8",
   "metadata": {},
   "source": [
    "If I were to change how I trained the models, I would have tested a variety of architectures with RNN layers, GRU layers, and LSTM layers rather than one of amidst other dense layers. Tuning learning rates on the optimizers might also prove helpful. I feel like the data preprocessing was fine as well; the training could definitely be improved."
   ]
  },
  {
   "cell_type": "markdown",
   "id": "e40c19d0",
   "metadata": {},
   "source": [
    "## Conclusions"
   ]
  },
  {
   "cell_type": "markdown",
   "id": "8b1a2851",
   "metadata": {},
   "source": [
    "The first difference I immediately discovered between the various models was the time its training time. For instance, the simple RNN model took about 35 minutes on average to train a single epoch. Due to this long runtime, I only ran 3 epochs for this model to save time. The bidirectional GRU model only took about 25 seconds were epoch, so I was able to run many more epochs with a smaller time price.\n",
    "\n",
    "As mentioned previously, it was found that while the RNN had a lower accuracy (51% compared to 57%), it still perfromed slighly better than the GRU netowrk on the reviews designed to trick or test the model.\n",
    "\n",
    "I was unable to get BERT working, so I have no results to analyze for it."
   ]
  }
 ],
 "metadata": {
  "kernelspec": {
   "display_name": "Python 3 (ipykernel)",
   "language": "python",
   "name": "python3"
  },
  "language_info": {
   "codemirror_mode": {
    "name": "ipython",
    "version": 3
   },
   "file_extension": ".py",
   "mimetype": "text/x-python",
   "name": "python",
   "nbconvert_exporter": "python",
   "pygments_lexer": "ipython3",
   "version": "3.9.12"
  }
 },
 "nbformat": 4,
 "nbformat_minor": 5
}
