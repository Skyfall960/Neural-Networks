{
 "cells": [
  {
   "cell_type": "markdown",
   "metadata": {
    "id": "mhFvmDYLgbZN"
   },
   "source": [
    "# Project 2"
   ]
  },
  {
   "cell_type": "markdown",
   "metadata": {
    "id": "DPpW98aPgfMZ"
   },
   "source": [
    "## Introduction"
   ]
  },
  {
   "cell_type": "markdown",
   "metadata": {
    "id": "93x9mrwigkcL"
   },
   "source": [
    "The dataset chosen contains 1125 weather images of 4 different weather categories of similar size: cloudy, rain, shine, sunrise. Here is the specific breakdown of each category of weather pattern:\n",
    "300 cloudy images, 215 rain images, 253 shine, and 357 sunrise images – total of 1125 weather images.\n",
    "\n",
    "Since the dataset is comprised of images, a matrix will have to be manually created for an output matrix as labels for each of the various weather classification patterns. Each of the 4 weather patterns has a specific number of images contained in 1125 images, given in a specific order. A for-loop will be implemented to create an output matrix with the exact values for each weather picture. An input matrix will also be created, containing all 1125 weather images to result in both an input and output matrix to utilize for the train/test/split function. This function will randomize the order of the images in the various sets.\n",
    "\n",
    "In terms of preprocessing, data augmentation will be implemented to the train set after splitting the images into train, test, and validation sets in order to artificially add more datapoints to increase the accuracy of the neural networks.\n",
    "\n",
    "For tuning hyperparameters for a convolutional neural network, various architectures will be tested, included different convolution layers, pooling layers, activations, and possibly a fully connected layer with the softmax activation function.\n",
    "\n",
    "Hyperparameters such as optimizers, activation functions, etc. will not be tested as extensively because they do not apply to the extent for convolutional neural networks as they did for fully connected neural networks.\n"
   ]
  },
  {
   "cell_type": "markdown",
   "metadata": {
    "id": "UcaAp0bjVPZ4"
   },
   "source": [
    "### Mounting and Importing Libraries"
   ]
  },
  {
   "cell_type": "code",
   "execution_count": 2,
   "metadata": {
    "colab": {
     "base_uri": "https://localhost:8080/"
    },
    "id": "cB-Mec8LnQ-r",
    "outputId": "8cc15dea-a1f3-4dbd-892f-1ed7d95279fb"
   },
   "outputs": [
    {
     "name": "stdout",
     "output_type": "stream",
     "text": [
      "Mounted at /content/drive\n"
     ]
    }
   ],
   "source": [
    "# mounting google drive\n",
    "from google.colab import drive\n",
    "drive.mount('/content/drive')"
   ]
  },
  {
   "cell_type": "code",
   "execution_count": 3,
   "metadata": {
    "id": "19-NyegXmTd3"
   },
   "outputs": [],
   "source": [
    "import tensorflow as tf\n",
    "from tensorflow import keras\n",
    "from tensorflow.python.client import device_lib\n",
    "import tensorflow_datasets.public_api as tfds\n",
    "\n",
    "# keras layers\n",
    "from tensorflow.keras import layers\n",
    "from tensorflow.keras.layers import add\n",
    "from tensorflow.keras.layers import Activation\n",
    "from tensorflow.keras.layers import BatchNormalization\n",
    "from tensorflow.keras.layers import Conv2D\n",
    "from tensorflow.keras.layers import Dense\n",
    "from tensorflow.keras.layers import Dropout\n",
    "from tensorflow.keras.layers import Input\n",
    "from tensorflow.keras.layers import Flatten\n",
    "from tensorflow.keras.layers import InputLayer\n",
    "from tensorflow.keras.layers import concatenate\n",
    "from tensorflow.keras.layers import MaxPooling2D\n",
    "from tensorflow.keras.layers import Rescaling\n",
    "from tensorflow.keras.layers import RandomFlip\n",
    "from tensorflow.keras.layers import RandomRotation\n",
    "from tensorflow.keras.layers import RandomTranslation\n",
    "from tensorflow.keras.layers import RandomZoom\n",
    "\n",
    "from tensorflow.keras.applications import MobileNetV3Small\n",
    "from tensorflow.keras.callbacks import ModelCheckpoint\n",
    "\n",
    "# keras models\n",
    "from tensorflow.keras.models import load_model\n",
    "\n",
    "from tensorflow.keras.callbacks import LearningRateScheduler\n",
    "from tensorflow.keras.datasets import mnist\n",
    "from tensorflow.keras.layers import AveragePooling2D\n",
    "from tensorflow.keras.datasets import cifar10\n",
    "from tensorflow.keras.models import Sequential\n",
    "from tensorflow.keras.models import Model\n",
    "\n",
    "from tensorflow.keras import backend\n",
    "\n",
    "from tensorflow.keras.optimizers import SGD\n",
    "from tensorflow.keras.optimizers import Adam\n",
    "from tensorflow.keras.regularizers import l2\n",
    "from tensorflow.keras.utils import to_categorical\n",
    "from tensorflow.keras.utils import image_dataset_from_directory\n",
    "\n",
    "from tensorflow.keras.preprocessing.image import ImageDataGenerator\n",
    "\n",
    "\n",
    "import matplotlib.pyplot as plt\n",
    "import numpy as np\n",
    "import os\n",
    "import shutil\n",
    "\n",
    "# sklearn\n",
    "from sklearn.model_selection import train_test_split\n",
    "from sklearn.metrics import classification_report\n",
    "from sklearn.preprocessing import LabelEncoder\n",
    "\n",
    "import glob\n",
    "from PIL import Image"
   ]
  },
  {
   "cell_type": "markdown",
   "metadata": {
    "id": "5DN9rroHgyX0"
   },
   "source": [
    "### Data Preparation"
   ]
  },
  {
   "cell_type": "markdown",
   "metadata": {
    "id": "fgmhJ-qxVzZ7"
   },
   "source": [
    "The Weather Data images were downloaded onto the PC, and then was uploading to Google Drive. The glob library was used to read the WeatherData folder from Google Drive into Google Colab and then sorted it alphabetically. This would allow the labels to be manually created since the number of images in each category. The images were originally different sizes, so they had to all be rescaled to 300 x 300 pixels while preserving their RGB channels. Both the input and output lists were converted to arrays. The arrays then were split into test, train, and validation sets. Finally, ImageDataGenerator was used to create artifical images of the training dataset to improve the accuracy of the neural networks. "
   ]
  },
  {
   "cell_type": "code",
   "execution_count": 4,
   "metadata": {
    "id": "Ekn66PCspKNj"
   },
   "outputs": [],
   "source": [
    "# importing WeatherData image folders from Google Drive\n",
    "img = glob.glob(\"drive/My Drive/WeatherData/*.jpg\")\n",
    "\n",
    "# sorting the images alphabetically to make easier to manually label iamges\n",
    "images = sorted(img)"
   ]
  },
  {
   "cell_type": "code",
   "execution_count": 5,
   "metadata": {
    "id": "fDXFtm6V14BR"
   },
   "outputs": [],
   "source": [
    "# resizing all images to 300 x 300 while keeping RGB channels\n",
    "for i in range(len(images)):\n",
    "  img = Image.open(images[i])\n",
    "  img = img.convert(\"RGB\")\n",
    "  newImg = img.resize((300,300))\n",
    "  images[i] = np.array(newImg)"
   ]
  },
  {
   "cell_type": "code",
   "execution_count": 6,
   "metadata": {
    "id": "VvNoePvcTt7e"
   },
   "outputs": [],
   "source": [
    "# converting to array\n",
    "X = np.array(images)"
   ]
  },
  {
   "cell_type": "code",
   "execution_count": 7,
   "metadata": {
    "id": "CA4tPytX9FnQ"
   },
   "outputs": [],
   "source": [
    "# manually creating labels based on exact number of images\n",
    "label_names = [\"cloudy\", \"rain\", \"shine\", \"sunrise\"]\n",
    "y = []\n",
    "\n",
    "for i in range(300):\n",
    "  y.append(0)\n",
    "for i in range(215):\n",
    "  y.append(1)\n",
    "for i in range(253):\n",
    "  y.append(2)\n",
    "for i in range(357):\n",
    "  y.append(3)\n"
   ]
  },
  {
   "cell_type": "code",
   "execution_count": 8,
   "metadata": {
    "id": "Hx5gZUbG_Dp3"
   },
   "outputs": [],
   "source": [
    "# converting to array\n",
    "y = np.array(y)"
   ]
  },
  {
   "cell_type": "code",
   "execution_count": 9,
   "metadata": {
    "id": "qB9jIWSt-PK_"
   },
   "outputs": [],
   "source": [
    "# splitting dataset into test, train, and validation\n",
    "train_val_X, testX, train_val_Y, testY = train_test_split(X, y, train_size=0.75, random_state=1)\n",
    "trainX, valX, trainY, valY = train_test_split(train_val_X, train_val_Y, train_size=0.5, random_state=1)"
   ]
  },
  {
   "cell_type": "code",
   "execution_count": 10,
   "metadata": {
    "id": "Si4SoejkZ8zM"
   },
   "outputs": [],
   "source": [
    "# converting to one-hot\n",
    "trainY = to_categorical(trainY)\n",
    "valY = to_categorical(valY)\n",
    "testY = to_categorical(testY)"
   ]
  },
  {
   "cell_type": "code",
   "execution_count": 11,
   "metadata": {
    "id": "6QdRh3huPqTl"
   },
   "outputs": [],
   "source": [
    "# data augmentation\n",
    "aug = ImageDataGenerator(width_shift_range = 0.2, height_shift_range = 0.2, horizontal_flip = True, fill_mode=\"nearest\",\n",
    "                         vertical_flip=True, rotation_range = 30)"
   ]
  },
  {
   "cell_type": "markdown",
   "metadata": {
    "id": "oyfvkXqrgXLi"
   },
   "source": [
    "## Benchmark Run"
   ]
  },
  {
   "cell_type": "markdown",
   "metadata": {
    "id": "0npv_yzOcqCV"
   },
   "source": [
    "For the benchmark run, the model was a simple convolutional neural network with a singular 2x2 convolutional layer with a ReLu activation function. This was then followed by a fully connected layer with a Softmax classifier. This model resulted in 52% accuracy."
   ]
  },
  {
   "cell_type": "markdown",
   "metadata": {
    "id": "WTNC83hNhc0Y"
   },
   "source": [
    "### ShallowNet V1"
   ]
  },
  {
   "cell_type": "code",
   "execution_count": 11,
   "metadata": {
    "id": "Cgyd3EkdAUp9"
   },
   "outputs": [],
   "source": [
    "class ShallowNet:\n",
    "    # create the architecture\n",
    "    def build(height, width, depth, numFilters, classes):\n",
    "        # create a feedforward neural net\n",
    "        model = Sequential()\n",
    "        \n",
    "        # add a convolutional layer with numFilters number of 3x3 filters\n",
    "        model.add(Conv2D(numFilters, (3, 3), padding='same', input_shape = (height, width, depth)))\n",
    "        model.add(Activation('relu'))\n",
    "        \n",
    "        # add a softmax classifier\n",
    "        model.add(Flatten())\n",
    "        model.add(Dense(classes))\n",
    "        model.add(Activation('softmax'))\n",
    "        \n",
    "        return model"
   ]
  },
  {
   "cell_type": "code",
   "execution_count": null,
   "metadata": {
    "colab": {
     "base_uri": "https://localhost:8080/",
     "height": 1000
    },
    "id": "oFlzM6eY-dxQ",
    "outputId": "e7f689ad-0753-4d62-e3ec-e686f6acc8f6"
   },
   "outputs": [
    {
     "name": "stdout",
     "output_type": "stream",
     "text": [
      "Model: \"sequential\"\n",
      "_________________________________________________________________\n",
      " Layer (type)                Output Shape              Param #   \n",
      "=================================================================\n",
      " conv2d_5 (Conv2D)           (None, 300, 300, 5)       140       \n",
      "                                                                 \n",
      " activation_8 (Activation)   (None, 300, 300, 5)       0         \n",
      "                                                                 \n",
      " flatten_1 (Flatten)         (None, 450000)            0         \n",
      "                                                                 \n",
      " dense_3 (Dense)             (None, 4)                 1800004   \n",
      "                                                                 \n",
      " activation_9 (Activation)   (None, 4)                 0         \n",
      "                                                                 \n",
      "=================================================================\n",
      "Total params: 1,800,144\n",
      "Trainable params: 1,800,144\n",
      "Non-trainable params: 0\n",
      "_________________________________________________________________\n",
      "Epoch 1/10\n",
      "14/14 [==============================] - 7s 464ms/step - loss: 5119.8682 - accuracy: 0.2898 - val_loss: 1227.5878 - val_accuracy: 0.3910\n",
      "Epoch 2/10\n",
      "14/14 [==============================] - 7s 495ms/step - loss: 1330.9437 - accuracy: 0.3468 - val_loss: 782.8555 - val_accuracy: 0.4265\n",
      "Epoch 3/10\n",
      "14/14 [==============================] - 7s 479ms/step - loss: 581.3287 - accuracy: 0.4513 - val_loss: 409.0081 - val_accuracy: 0.4668\n",
      "Epoch 4/10\n",
      "14/14 [==============================] - 7s 479ms/step - loss: 324.5753 - accuracy: 0.4822 - val_loss: 271.9905 - val_accuracy: 0.4882\n",
      "Epoch 5/10\n",
      "14/14 [==============================] - 7s 484ms/step - loss: 147.7868 - accuracy: 0.5059 - val_loss: 179.2421 - val_accuracy: 0.5592\n",
      "Epoch 6/10\n",
      "14/14 [==============================] - 7s 482ms/step - loss: 159.0258 - accuracy: 0.5439 - val_loss: 119.5209 - val_accuracy: 0.5687\n",
      "Epoch 7/10\n",
      "14/14 [==============================] - 7s 516ms/step - loss: 87.6129 - accuracy: 0.5867 - val_loss: 74.5768 - val_accuracy: 0.5592\n",
      "Epoch 8/10\n",
      "14/14 [==============================] - 7s 482ms/step - loss: 62.6952 - accuracy: 0.5273 - val_loss: 59.3636 - val_accuracy: 0.5687\n",
      "Epoch 9/10\n",
      "14/14 [==============================] - 7s 497ms/step - loss: 65.6997 - accuracy: 0.6105 - val_loss: 52.7840 - val_accuracy: 0.5924\n",
      "Epoch 10/10\n",
      "14/14 [==============================] - 7s 484ms/step - loss: 51.1993 - accuracy: 0.5724 - val_loss: 49.0154 - val_accuracy: 0.5403\n",
      "Test accuracy\n",
      "9/9 [==============================] - 0s 17ms/step\n",
      "              precision    recall  f1-score   support\n",
      "\n",
      "      cloudy       0.42      0.53      0.47        81\n",
      "        rain       0.50      0.40      0.44        48\n",
      "       shine       0.47      0.29      0.36        62\n",
      "     sunrise       0.65      0.74      0.69        91\n",
      "\n",
      "    accuracy                           0.52       282\n",
      "   macro avg       0.51      0.49      0.49       282\n",
      "weighted avg       0.52      0.52      0.51       282\n",
      "\n"
     ]
    },
    {
     "data": {
      "text/plain": [
       "<matplotlib.legend.Legend at 0x7fb4933904d0>"
      ]
     },
     "execution_count": 15,
     "metadata": {},
     "output_type": "execute_result"
    },
    {
     "data": {
      "image/png": "[encoded data removed]",
      "text/plain": [
       "<Figure size 432x288 with 1 Axes>"
      ]
     },
     "metadata": {},
     "output_type": "display_data"
    }
   ],
   "source": [
    "# compile the model by choosing how the optimizer works\n",
    "model = ShallowNet.build(300,300,3,5,4)\n",
    "model.compile(loss = 'categorical_crossentropy', optimizer = Adam(), metrics = ['accuracy'])\n",
    "\n",
    "# print a summary of the model\n",
    "model.summary()\n",
    "\n",
    "# fit the model to the training data\n",
    "maxEpoch = 10\n",
    "H = model.fit(aug.flow(trainX, trainY, batch_size = 32), validation_data = (valX, valY), epochs = maxEpoch)\n",
    "\n",
    "print('Test accuracy')\n",
    "\n",
    "# predict posterior probability distribution for labels of the test set\n",
    "predictedY = model.predict(testX)\n",
    "\n",
    "# convert posterior probabilities to labels\n",
    "predictedY = predictedY.argmax(axis = 1)\n",
    "realY = testY.argmax(axis = 1)\n",
    "\n",
    "# print classification report\n",
    "print(classification_report(realY, predictedY, target_names = label_names))\n",
    "\n",
    "# plot the loss and accuracy through training\n",
    "plt.style.use('ggplot')\n",
    "plt.figure()\n",
    "\n",
    "plt.plot(range(maxEpoch), H.history['loss'], label = 'training loss')\n",
    "plt.plot(range(maxEpoch), H.history['val_loss'], label = 'validation loss')\n",
    "plt.plot(range(maxEpoch), H.history['accuracy'], label = 'training accuracy')\n",
    "plt.plot(range(maxEpoch), H.history['val_accuracy'], label = 'validation accuracy')\n",
    "\n",
    "plt.title('Loss and Accuracy')\n",
    "plt.xlabel('Epoch #')\n",
    "plt.ylabel('Loss/Accuracy')\n",
    "plt.legend()"
   ]
  },
  {
   "cell_type": "markdown",
   "metadata": {
    "id": "mjJaBt1QgRaN"
   },
   "source": [
    "## Benchmark V2"
   ]
  },
  {
   "cell_type": "markdown",
   "metadata": {
    "id": "NFuB3TargXFo"
   },
   "source": [
    "Since the previous model resulted in about a 52% accuracy, this next model is deeper than the previous one, utilizing two convolutional layers with maxPooling at the end of reach module. This model resulted in a 63% accuracy, an improvement over the simple ShallowNet."
   ]
  },
  {
   "cell_type": "markdown",
   "metadata": {
    "id": "S2tsvCzghk7Y"
   },
   "source": [
    "### ShallowNetV2"
   ]
  },
  {
   "cell_type": "code",
   "execution_count": 14,
   "metadata": {
    "id": "X9Hpz-zKea_8"
   },
   "outputs": [],
   "source": [
    "class ShallowNetV2:\n",
    "\n",
    "    # create the architecture\n",
    "    def build(height, width, depth, classes):\n",
    "        # create a feedforward neural net\n",
    "        model = Sequential()\n",
    "  \n",
    "        # adding a second convolutional layer as well as including maxPooling\n",
    "        model.add(Conv2D(5, (3, 3), padding = 'same', input_shape = (300, 300, 3)))\n",
    "        model.add(Activation('relu'))\n",
    "        model.add(MaxPooling2D(pool_size = (2, 2), strides = (2, 2)))\n",
    "\n",
    "        model.add(Conv2D(5, (3, 3), padding = 'same', input_shape = (300, 300, 3)))\n",
    "        model.add(Activation('relu'))\n",
    "        model.add(MaxPooling2D(pool_size = (2, 2), strides = (2, 2)))\n",
    "        \n",
    "        # add a softmax classifier\n",
    "        model.add(Flatten())\n",
    "        model.add(Dense(4))\n",
    "        model.add(Activation('softmax'))\n",
    "\n",
    "        return model"
   ]
  },
  {
   "cell_type": "code",
   "execution_count": 17,
   "metadata": {
    "colab": {
     "base_uri": "https://localhost:8080/",
     "height": 889
    },
    "id": "V1T72Bg2fQJF",
    "outputId": "560b6241-047e-4f91-f3e4-c915ca333d85"
   },
   "outputs": [
    {
     "name": "stdout",
     "output_type": "stream",
     "text": [
      "Epoch 1/10\n",
      "14/14 [==============================] - 7s 503ms/step - loss: 12.1603 - accuracy: 0.4964 - val_loss: 7.6267 - val_accuracy: 0.5498\n",
      "Epoch 2/10\n",
      "14/14 [==============================] - 7s 518ms/step - loss: 3.4340 - accuracy: 0.5534 - val_loss: 3.3956 - val_accuracy: 0.4976\n",
      "Epoch 3/10\n",
      "14/14 [==============================] - 7s 483ms/step - loss: 1.9599 - accuracy: 0.5226 - val_loss: 1.9707 - val_accuracy: 0.5877\n",
      "Epoch 4/10\n",
      "14/14 [==============================] - 7s 485ms/step - loss: 1.6417 - accuracy: 0.5701 - val_loss: 1.7833 - val_accuracy: 0.6066\n",
      "Epoch 5/10\n",
      "14/14 [==============================] - 7s 481ms/step - loss: 1.3992 - accuracy: 0.5416 - val_loss: 1.9254 - val_accuracy: 0.5948\n",
      "Epoch 6/10\n",
      "14/14 [==============================] - 7s 487ms/step - loss: 1.4185 - accuracy: 0.5796 - val_loss: 1.7141 - val_accuracy: 0.6137\n",
      "Epoch 7/10\n",
      "14/14 [==============================] - 7s 491ms/step - loss: 1.3823 - accuracy: 0.6057 - val_loss: 2.0679 - val_accuracy: 0.6066\n",
      "Epoch 8/10\n",
      "14/14 [==============================] - 7s 523ms/step - loss: 1.4845 - accuracy: 0.5558 - val_loss: 1.6212 - val_accuracy: 0.6280\n",
      "Epoch 9/10\n",
      "14/14 [==============================] - 7s 485ms/step - loss: 1.1643 - accuracy: 0.6461 - val_loss: 1.6676 - val_accuracy: 0.6327\n",
      "Epoch 10/10\n",
      "14/14 [==============================] - 7s 484ms/step - loss: 1.0872 - accuracy: 0.6413 - val_loss: 1.5375 - val_accuracy: 0.6611\n",
      "Test accuracy\n",
      "9/9 [==============================] - 0s 10ms/step\n",
      "              precision    recall  f1-score   support\n",
      "\n",
      "      cloudy       0.78      0.36      0.49        81\n",
      "        rain       0.54      0.71      0.61        48\n",
      "       shine       0.38      0.50      0.43        62\n",
      "     sunrise       0.83      0.92      0.87        91\n",
      "\n",
      "    accuracy                           0.63       282\n",
      "   macro avg       0.63      0.62      0.60       282\n",
      "weighted avg       0.67      0.63      0.62       282\n",
      "\n"
     ]
    },
    {
     "data": {
      "text/plain": [
       "<matplotlib.legend.Legend at 0x7f9962b4c3d0>"
      ]
     },
     "execution_count": 17,
     "metadata": {},
     "output_type": "execute_result"
    },
    {
     "data": {
      "image/png": "[encoded data removed]",
      "text/plain": [
       "<Figure size 432x288 with 1 Axes>"
      ]
     },
     "metadata": {},
     "output_type": "display_data"
    }
   ],
   "source": [
    "# create model and build ShallowNetV2\n",
    "model = ShallowNetV2.build(300,300,3,4)\n",
    "\n",
    "# compiling model\n",
    "model.compile(loss = 'categorical_crossentropy', optimizer = Adam(), metrics = ['accuracy'])\n",
    "\n",
    "# fit the model to the training data\n",
    "maxEpoch = 10\n",
    "H = model.fit(aug.flow(trainX, trainY, batch_size = 32), validation_data = (valX, valY), epochs = maxEpoch)\n",
    "\n",
    "print('Test accuracy')\n",
    "\n",
    "# predict posterior probability distribution for labels of the test set\n",
    "predictedY = model.predict(testX)\n",
    "\n",
    "# convert posterior probabilities to labels\n",
    "predictedY = predictedY.argmax(axis = 1)\n",
    "realY = testY.argmax(axis = 1)\n",
    "\n",
    "# print classification report\n",
    "print(classification_report(realY, predictedY, target_names = label_names))\n",
    "\n",
    "# plot the loss and accuracy through training\n",
    "plt.style.use('ggplot')\n",
    "plt.figure()\n",
    "\n",
    "plt.plot(range(maxEpoch), H.history['loss'], label = 'training loss')\n",
    "plt.plot(range(maxEpoch), H.history['val_loss'], label = 'validation loss')\n",
    "plt.plot(range(maxEpoch), H.history['accuracy'], label = 'training accuracy')\n",
    "plt.plot(range(maxEpoch), H.history['val_accuracy'], label = 'validation accuracy')\n",
    "\n",
    "plt.title('Loss and Accuracy')\n",
    "plt.xlabel('Epoch #')\n",
    "plt.ylabel('Loss/Accuracy')\n",
    "plt.legend()"
   ]
  },
  {
   "cell_type": "markdown",
   "metadata": {
    "id": "PmSwotdEicfX"
   },
   "source": [
    "## Model Architecture Testing"
   ]
  },
  {
   "cell_type": "markdown",
   "metadata": {
    "id": "3cd0EV5TkClV"
   },
   "source": [
    "### MiniVGGNet"
   ]
  },
  {
   "cell_type": "code",
   "execution_count": 36,
   "metadata": {
    "id": "UxX9FeGH8_8l"
   },
   "outputs": [],
   "source": [
    "class MiniVGGNet:\n",
    "  def build(height, width, depth, classes):\n",
    "    model = Sequential(name = 'MiniVGGNet')\n",
    "\n",
    "    # rescaling layer to change image shape\n",
    "    model.add(Rescaling(1./255, input_shape = (height, width, depth)))\n",
    "\n",
    "    # data augmentation\n",
    "    model.add(RandomFlip())\n",
    "    model.add(RandomRotation(0.1))\n",
    "    model.add(RandomZoom(0.1))\n",
    "    \n",
    "    # various convolutional layers\n",
    "    model.add(Conv2D(32, (3, 3), padding = 'same', input_shape = (height, width, depth)))\n",
    "    model.add(Activation('relu'))\n",
    "    model.add(BatchNormalization())\n",
    "\n",
    "    model.add(Conv2D(32, (3, 3), padding = 'same'))\n",
    "    model.add(Activation('relu'))\n",
    "    model.add(BatchNormalization())\n",
    "   \n",
    "    model.add(MaxPooling2D(pool_size = (2, 2), strides = (2, 2)))\n",
    "    model.add(Dropout(0.25))\n",
    "\n",
    "    model.add(Conv2D(64, (3, 3), padding = 'same'))\n",
    "    model.add(Activation('relu'))\n",
    "    model.add(BatchNormalization())\n",
    "\n",
    "    model.add(Conv2D(64, (3, 3), padding = 'same'))\n",
    "    model.add(Activation('relu'))\n",
    "    model.add(BatchNormalization())\n",
    "\n",
    "    model.add(MaxPooling2D(pool_size = (2, 2), strides = (2, 2)))\n",
    "    model.add(Dropout(0.25))\n",
    "\n",
    "    model.add(Flatten())\n",
    "\n",
    "    model.add(Dense(512))\n",
    "    model.add(Activation('relu'))\n",
    "    model.add(BatchNormalization())\n",
    "    model.add(Dropout(0.5))\n",
    "\n",
    "    model.add(Dense(classes))\n",
    "    model.add(Activation('softmax'))\n",
    "\n",
    "    return model"
   ]
  },
  {
   "cell_type": "code",
   "execution_count": 37,
   "metadata": {
    "colab": {
     "base_uri": "https://localhost:8080/",
     "height": 1000
    },
    "id": "vHA8-Mbj9A_x",
    "outputId": "db251d42-f942-4fce-c204-e6089419f80b"
   },
   "outputs": [
    {
     "name": "stdout",
     "output_type": "stream",
     "text": [
      "Model: \"MiniVGGNet\"\n",
      "_________________________________________________________________\n",
      " Layer (type)                Output Shape              Param #   \n",
      "=================================================================\n",
      " rescaling_3 (Rescaling)     (None, 300, 300, 3)       0         \n",
      "                                                                 \n",
      " random_flip_1 (RandomFlip)  (None, 300, 300, 3)       0         \n",
      "                                                                 \n",
      " random_rotation_1 (RandomRo  (None, 300, 300, 3)      0         \n",
      " tation)                                                         \n",
      "                                                                 \n",
      " random_zoom_1 (RandomZoom)  (None, 300, 300, 3)       0         \n",
      "                                                                 \n",
      " conv2d_3 (Conv2D)           (None, 300, 300, 32)      896       \n",
      "                                                                 \n",
      " activation_7 (Activation)   (None, 300, 300, 32)      0         \n",
      "                                                                 \n",
      " batch_normalization (BatchN  (None, 300, 300, 32)     128       \n",
      " ormalization)                                                   \n",
      "                                                                 \n",
      " conv2d_4 (Conv2D)           (None, 300, 300, 32)      9248      \n",
      "                                                                 \n",
      " activation_8 (Activation)   (None, 300, 300, 32)      0         \n",
      "                                                                 \n",
      " batch_normalization_1 (Batc  (None, 300, 300, 32)     128       \n",
      " hNormalization)                                                 \n",
      "                                                                 \n",
      " max_pooling2d_2 (MaxPooling  (None, 150, 150, 32)     0         \n",
      " 2D)                                                             \n",
      "                                                                 \n",
      " dropout (Dropout)           (None, 150, 150, 32)      0         \n",
      "                                                                 \n",
      " conv2d_5 (Conv2D)           (None, 150, 150, 64)      18496     \n",
      "                                                                 \n",
      " activation_9 (Activation)   (None, 150, 150, 64)      0         \n",
      "                                                                 \n",
      " batch_normalization_2 (Batc  (None, 150, 150, 64)     256       \n",
      " hNormalization)                                                 \n",
      "                                                                 \n",
      " conv2d_6 (Conv2D)           (None, 150, 150, 64)      36928     \n",
      "                                                                 \n",
      " activation_10 (Activation)  (None, 150, 150, 64)      0         \n",
      "                                                                 \n",
      " batch_normalization_3 (Batc  (None, 150, 150, 64)     256       \n",
      " hNormalization)                                                 \n",
      "                                                                 \n",
      " max_pooling2d_3 (MaxPooling  (None, 75, 75, 64)       0         \n",
      " 2D)                                                             \n",
      "                                                                 \n",
      " dropout_1 (Dropout)         (None, 75, 75, 64)        0         \n",
      "                                                                 \n",
      " flatten_3 (Flatten)         (None, 360000)            0         \n",
      "                                                                 \n",
      " dense_4 (Dense)             (None, 512)               184320512 \n",
      "                                                                 \n",
      " activation_11 (Activation)  (None, 512)               0         \n",
      "                                                                 \n",
      " batch_normalization_4 (Batc  (None, 512)              2048      \n",
      " hNormalization)                                                 \n",
      "                                                                 \n",
      " dropout_2 (Dropout)         (None, 512)               0         \n",
      "                                                                 \n",
      " dense_5 (Dense)             (None, 4)                 2052      \n",
      "                                                                 \n",
      " activation_12 (Activation)  (None, 4)                 0         \n",
      "                                                                 \n",
      "=================================================================\n",
      "Total params: 184,390,948\n",
      "Trainable params: 184,389,540\n",
      "Non-trainable params: 1,408\n",
      "_________________________________________________________________\n",
      "Epoch 1/10\n",
      "53/53 [==============================] - 12s 181ms/step - loss: 1.6474 - accuracy: 0.5534 - val_loss: 4.6631 - val_accuracy: 0.3223\n",
      "Epoch 2/10\n",
      "53/53 [==============================] - 8s 152ms/step - loss: 1.1175 - accuracy: 0.6247 - val_loss: 2.2381 - val_accuracy: 0.3957\n",
      "Epoch 3/10\n",
      "53/53 [==============================] - 8s 153ms/step - loss: 1.0755 - accuracy: 0.6081 - val_loss: 1.4377 - val_accuracy: 0.4360\n",
      "Epoch 4/10\n",
      "53/53 [==============================] - 8s 151ms/step - loss: 1.1703 - accuracy: 0.6057 - val_loss: 1.7317 - val_accuracy: 0.4408\n",
      "Epoch 5/10\n",
      "53/53 [==============================] - 8s 152ms/step - loss: 1.0327 - accuracy: 0.5938 - val_loss: 1.7886 - val_accuracy: 0.5545\n",
      "Epoch 6/10\n",
      "53/53 [==============================] - 8s 152ms/step - loss: 0.7277 - accuracy: 0.7173 - val_loss: 1.4269 - val_accuracy: 0.5782\n",
      "Epoch 7/10\n",
      "53/53 [==============================] - 8s 151ms/step - loss: 0.7670 - accuracy: 0.7245 - val_loss: 1.2430 - val_accuracy: 0.6090\n",
      "Epoch 8/10\n",
      "53/53 [==============================] - 8s 153ms/step - loss: 0.8428 - accuracy: 0.7031 - val_loss: 0.9830 - val_accuracy: 0.5403\n",
      "Epoch 9/10\n",
      "53/53 [==============================] - 8s 153ms/step - loss: 0.7173 - accuracy: 0.7530 - val_loss: 0.4815 - val_accuracy: 0.8223\n",
      "Epoch 10/10\n",
      "53/53 [==============================] - 8s 152ms/step - loss: 0.7569 - accuracy: 0.7340 - val_loss: 0.5500 - val_accuracy: 0.7844\n",
      "Test accuracy\n",
      "9/9 [==============================] - 1s 58ms/step\n",
      "              precision    recall  f1-score   support\n",
      "\n",
      "      cloudy       0.64      0.77      0.70        81\n",
      "        rain       0.88      0.73      0.80        48\n",
      "       shine       1.00      0.45      0.62        62\n",
      "     sunrise       0.77      0.99      0.87        91\n",
      "\n",
      "    accuracy                           0.76       282\n",
      "   macro avg       0.82      0.73      0.74       282\n",
      "weighted avg       0.80      0.76      0.75       282\n",
      "\n"
     ]
    },
    {
     "data": {
      "text/plain": [
       "<matplotlib.legend.Legend at 0x7f0a42a09750>"
      ]
     },
     "execution_count": 37,
     "metadata": {},
     "output_type": "execute_result"
    },
    {
     "data": {
      "image/png": "[encoded data removed]",
      "text/plain": [
       "<Figure size 432x288 with 1 Axes>"
      ]
     },
     "metadata": {},
     "output_type": "display_data"
    }
   ],
   "source": [
    "# compile the model by choosing 300how the optimizer works\n",
    "model = MiniVGGNet.build(300,300,3,4)\n",
    "model.compile(loss = 'categorical_crossentropy', optimizer = Adam(), metrics = ['accuracy'])\n",
    "\n",
    "# print a summary of the model\n",
    "model.summary()\n",
    "\n",
    "# fit the model to the training data\n",
    "maxEpoch = 10\n",
    "H = model.fit(aug.flow(trainX, trainY, batch_size = 8), validation_data = (valX, valY), epochs = maxEpoch)\n",
    "\n",
    "print('Test accuracy')\n",
    "\n",
    "# predict posterior probability distribution for labels of the test set\n",
    "predictedY = model.predict(testX)\n",
    "\n",
    "# convert posterior probabilities to labels\n",
    "predictedY = predictedY.argmax(axis = 1)\n",
    "realY = testY.argmax(axis = 1)\n",
    "\n",
    "# print classification report\n",
    "print(classification_report(realY, predictedY, target_names = label_names))\n",
    "\n",
    "# plot the loss and accuracy through training\n",
    "plt.style.use('ggplot')\n",
    "plt.figure()\n",
    "\n",
    "plt.plot(range(maxEpoch), H.history['loss'], label = 'training loss')\n",
    "plt.plot(range(maxEpoch), H.history['val_loss'], label = 'validation loss')\n",
    "plt.plot(range(maxEpoch), H.history['accuracy'], label = 'training accuracy')\n",
    "plt.plot(range(maxEpoch), H.history['val_accuracy'], label = 'validation accuracy')\n",
    "\n",
    "plt.title('Loss and Accuracy')\n",
    "plt.xlabel('Epoch #')\n",
    "plt.ylabel('Loss/Accuracy')\n",
    "plt.legend()"
   ]
  },
  {
   "cell_type": "markdown",
   "metadata": {
    "id": "8e7socnlkJPn"
   },
   "source": [
    "### LeNet"
   ]
  },
  {
   "cell_type": "code",
   "execution_count": 12,
   "metadata": {
    "id": "haGy2gPDAcSb"
   },
   "outputs": [],
   "source": [
    "class LeNet:\n",
    "    # create the architecture\n",
    "    def build(height, width, depth, classes):\n",
    "        # create a feedforward neural net\n",
    "        model = Sequential()\n",
    "\n",
    "        #rescaling layer to change image shape\n",
    "        model.add(Rescaling(1./255, input_shape = (height, width, depth)))\n",
    "\n",
    "        #data augmentation\n",
    "        model.add(RandomFlip(\"horizontal\"))\n",
    "        model.add(RandomRotation(0.1))\n",
    "        model.add(RandomZoom(0.1))\n",
    "        \n",
    "        # add a convolutional layer with 20 5x5 filters and a 2x2 max pooling layer\n",
    "        model.add(Conv2D(32, (5, 5), padding = 'same', input_shape = (height, width, depth)))\n",
    "        model.add(Activation('relu'))\n",
    "        model.add(MaxPooling2D(pool_size = (2, 2), strides = (2, 2)))\n",
    "        \n",
    "        # add another convolutional layer with 50 5x5 filters and a 2x2 max pooling layer\n",
    "        model.add(Conv2D(64, (5, 5), padding= 'same'))\n",
    "        model.add(Activation('relu'))\n",
    "        model.add(MaxPooling2D(pool_size = (2, 2), strides = (2, 2)))\n",
    "        \n",
    "        # add another convolutional layer\n",
    "        model.add(Conv2D(128, (5, 5), padding = 'same'))\n",
    "        model.add(Activation('relu'))\n",
    "        \n",
    "        # add a fully-connected layer\n",
    "        model.add(Flatten())\n",
    "        model.add(Dense(500))\n",
    "        model.add(Activation('relu'))\n",
    "        \n",
    "        # add a softmax classifier\n",
    "        model.add(Dense(classes))\n",
    "        model.add(Activation('softmax'))\n",
    "        \n",
    "        # return the constructed model\n",
    "        return model"
   ]
  },
  {
   "cell_type": "code",
   "execution_count": 13,
   "metadata": {
    "colab": {
     "base_uri": "https://localhost:8080/",
     "height": 1000
    },
    "id": "CzZpgtTiAkbX",
    "outputId": "037b83b7-2f87-4417-83d9-28f3cb854976"
   },
   "outputs": [
    {
     "name": "stdout",
     "output_type": "stream",
     "text": [
      "Model: \"sequential\"\n",
      "_________________________________________________________________\n",
      " Layer (type)                Output Shape              Param #   \n",
      "=================================================================\n",
      " rescaling (Rescaling)       (None, 300, 300, 3)       0         \n",
      "                                                                 \n",
      " random_flip (RandomFlip)    (None, 300, 300, 3)       0         \n",
      "                                                                 \n",
      " random_rotation (RandomRota  (None, 300, 300, 3)      0         \n",
      " tion)                                                           \n",
      "                                                                 \n",
      " random_zoom (RandomZoom)    (None, 300, 300, 3)       0         \n",
      "                                                                 \n",
      " conv2d (Conv2D)             (None, 300, 300, 32)      2432      \n",
      "                                                                 \n",
      " activation (Activation)     (None, 300, 300, 32)      0         \n",
      "                                                                 \n",
      " max_pooling2d (MaxPooling2D  (None, 150, 150, 32)     0         \n",
      " )                                                               \n",
      "                                                                 \n",
      " conv2d_1 (Conv2D)           (None, 150, 150, 64)      51264     \n",
      "                                                                 \n",
      " activation_1 (Activation)   (None, 150, 150, 64)      0         \n",
      "                                                                 \n",
      " max_pooling2d_1 (MaxPooling  (None, 75, 75, 64)       0         \n",
      " 2D)                                                             \n",
      "                                                                 \n",
      " conv2d_2 (Conv2D)           (None, 75, 75, 128)       204928    \n",
      "                                                                 \n",
      " activation_2 (Activation)   (None, 75, 75, 128)       0         \n",
      "                                                                 \n",
      " flatten (Flatten)           (None, 720000)            0         \n",
      "                                                                 \n",
      " dense (Dense)               (None, 500)               360000500 \n",
      "                                                                 \n",
      " activation_3 (Activation)   (None, 500)               0         \n",
      "                                                                 \n",
      " dense_1 (Dense)             (None, 4)                 2004      \n",
      "                                                                 \n",
      " activation_4 (Activation)   (None, 4)                 0         \n",
      "                                                                 \n",
      "=================================================================\n",
      "Total params: 360,261,128\n",
      "Trainable params: 360,261,128\n",
      "Non-trainable params: 0\n",
      "_________________________________________________________________\n",
      "Epoch 1/10\n",
      "14/14 [==============================] - 18s 578ms/step - loss: 31.0019 - accuracy: 0.4133 - val_loss: 0.8738 - val_accuracy: 0.5095\n",
      "Epoch 2/10\n",
      "14/14 [==============================] - 8s 587ms/step - loss: 0.9366 - accuracy: 0.5986 - val_loss: 0.7576 - val_accuracy: 0.6611\n",
      "Epoch 3/10\n",
      "14/14 [==============================] - 8s 589ms/step - loss: 0.7682 - accuracy: 0.6580 - val_loss: 0.6330 - val_accuracy: 0.7062\n",
      "Epoch 4/10\n",
      "14/14 [==============================] - 8s 548ms/step - loss: 0.6665 - accuracy: 0.7078 - val_loss: 0.5602 - val_accuracy: 0.7891\n",
      "Epoch 5/10\n",
      "14/14 [==============================] - 8s 560ms/step - loss: 0.6508 - accuracy: 0.7268 - val_loss: 0.5542 - val_accuracy: 0.8223\n",
      "Epoch 6/10\n",
      "14/14 [==============================] - 8s 586ms/step - loss: 0.5817 - accuracy: 0.7530 - val_loss: 0.5796 - val_accuracy: 0.7678\n",
      "Epoch 7/10\n",
      "14/14 [==============================] - 8s 556ms/step - loss: 0.5831 - accuracy: 0.7601 - val_loss: 0.5664 - val_accuracy: 0.7299\n",
      "Epoch 8/10\n",
      "14/14 [==============================] - 8s 554ms/step - loss: 0.5922 - accuracy: 0.7292 - val_loss: 0.7214 - val_accuracy: 0.6730\n",
      "Epoch 9/10\n",
      "14/14 [==============================] - 8s 550ms/step - loss: 0.6045 - accuracy: 0.7126 - val_loss: 0.5282 - val_accuracy: 0.7820\n",
      "Epoch 10/10\n",
      "14/14 [==============================] - 8s 551ms/step - loss: 0.5157 - accuracy: 0.7957 - val_loss: 0.5144 - val_accuracy: 0.7536\n",
      "Test accuracy\n",
      "9/9 [==============================] - 1s 128ms/step\n",
      "              precision    recall  f1-score   support\n",
      "\n",
      "      cloudy       0.61      0.89      0.72        81\n",
      "        rain       0.89      0.50      0.64        48\n",
      "       shine       0.82      0.60      0.69        62\n",
      "     sunrise       0.98      0.99      0.98        91\n",
      "\n",
      "    accuracy                           0.79       282\n",
      "   macro avg       0.82      0.74      0.76       282\n",
      "weighted avg       0.82      0.79      0.79       282\n",
      "\n"
     ]
    },
    {
     "data": {
      "text/plain": [
       "<matplotlib.legend.Legend at 0x7f133c57a350>"
      ]
     },
     "execution_count": 13,
     "metadata": {},
     "output_type": "execute_result"
    },
    {
     "data": {
      "image/png": "[encoded data removed]",
      "text/plain": [
       "<Figure size 432x288 with 1 Axes>"
      ]
     },
     "metadata": {},
     "output_type": "display_data"
    }
   ],
   "source": [
    "# compile the model by choosing how the optimizer works\n",
    "model = LeNet.build(300,300,3,4)\n",
    "model.compile(loss = 'categorical_crossentropy', optimizer = Adam(), metrics = ['accuracy'])\n",
    "\n",
    "# print a summary of the model\n",
    "model.summary()\n",
    "\n",
    "# fit the model to the training data\n",
    "maxEpoch = 10\n",
    "H = model.fit(aug.flow(trainX, trainY, batch_size = 32), validation_data = (valX, valY), epochs = maxEpoch)\n",
    "\n",
    "print('Test accuracy')\n",
    "\n",
    "# predict posterior probability distribution for labels of the test set\n",
    "predictedY = model.predict(testX)\n",
    "\n",
    "# convert posterior probabilities to labels\n",
    "predictedY = predictedY.argmax(axis = 1)\n",
    "realY = testY.argmax(axis = 1)\n",
    "\n",
    "# print classification report\n",
    "print(classification_report(realY, predictedY, target_names = label_names))\n",
    "\n",
    "# plot the loss and accuracy through training\n",
    "plt.style.use('ggplot')\n",
    "plt.figure()\n",
    "\n",
    "plt.plot(range(maxEpoch), H.history['loss'], label = 'training loss')\n",
    "plt.plot(range(maxEpoch), H.history['val_loss'], label = 'validation loss')\n",
    "plt.plot(range(maxEpoch), H.history['accuracy'], label = 'training accuracy')\n",
    "plt.plot(range(maxEpoch), H.history['val_accuracy'], label = 'validation accuracy')\n",
    "\n",
    "plt.title('Loss and Accuracy')\n",
    "plt.xlabel('Epoch #')\n",
    "plt.ylabel('Loss/Accuracy')\n",
    "plt.legend()"
   ]
  },
  {
   "cell_type": "code",
   "execution_count": 14,
   "metadata": {
    "colab": {
     "base_uri": "https://localhost:8080/"
    },
    "id": "X6_-tPFhv-Vh",
    "outputId": "4dd2fdbc-25e3-470c-e7c3-2db00f40f705"
   },
   "outputs": [
    {
     "name": "stderr",
     "output_type": "stream",
     "text": [
      "WARNING:absl:Found untraced functions such as _jit_compiled_convolution_op, _jit_compiled_convolution_op, _jit_compiled_convolution_op while saving (showing 3 of 3). These functions will not be directly callable after loading.\n"
     ]
    }
   ],
   "source": [
    "# saving model\n",
    "model.save(\"model1\")"
   ]
  },
  {
   "cell_type": "markdown",
   "metadata": {
    "id": "U4vv3PFikMkc"
   },
   "source": [
    "### AlexNet"
   ]
  },
  {
   "cell_type": "code",
   "execution_count": null,
   "metadata": {
    "id": "KUZTM1wYf6Au"
   },
   "outputs": [],
   "source": [
    "class AlexNet:\n",
    "    def build(height, width, depth, classes, lambda2 = 0.0002):\n",
    "        model = Sequential(name = 'AlexNet')\n",
    "\n",
    "        #rescaling layer to change image shape\n",
    "        model.add(Rescaling(1./255, input_shape = (height, width, depth)))\n",
    "\n",
    "        #data augmentation\n",
    "        model.add(RandomFlip())\n",
    "        model.add(RandomRotation(0.1))\n",
    "        model.add(RandomZoom(0.1))\n",
    "        \n",
    "        # various convolutional layers\n",
    "        model.add(Conv2D(96, (11, 11), strides = (4, 4), input_shape = (height, width, depth),\n",
    "                         padding='same', kernel_regularizer = l2(lambda2)))\n",
    "        model.add(Activation('relu'))\n",
    "        model.add(BatchNormalization())\n",
    "        model.add(MaxPooling2D(pool_size = (3,3), strides = (2,2)))\n",
    "        model.add(Dropout(0.25))\n",
    "        \n",
    "        model.add(Conv2D(256, (5, 5), padding = 'same', kernel_regularizer = l2(lambda2)))\n",
    "        model.add(Activation('relu'))\n",
    "        model.add(BatchNormalization())\n",
    "        model.add(MaxPooling2D(pool_size = (3, 3), strides = (2, 2)))\n",
    "        model.add(Dropout(0.25))\n",
    "        \n",
    "        model.add(Conv2D(384, (3, 3), padding = 'same', kernel_regularizer = l2(lambda2)))\n",
    "        model.add(Activation('relu'))\n",
    "        model.add(BatchNormalization())\n",
    "        \n",
    "        model.add(Conv2D(384, (3, 3), padding = 'same', kernel_regularizer = l2(lambda2)))\n",
    "        model.add(Activation('relu'))\n",
    "        model.add(BatchNormalization())\n",
    "        \n",
    "        model.add(Conv2D(256, (3, 3), padding = 'same', kernel_regularizer = l2(lambda2)))\n",
    "        model.add(Activation('relu'))\n",
    "        model.add(BatchNormalization())\n",
    "        model.add(MaxPooling2D(pool_size = (3, 3), strides = (2, 2)))\n",
    "        model.add(Dropout(0.25))\n",
    "        \n",
    "        model.add(Flatten())\n",
    "        \n",
    "        model.add(Dense(4096, kernel_regularizer = l2(lambda2)))\n",
    "        model.add(Activation('relu'))\n",
    "        model.add(BatchNormalization())\n",
    "        model.add(Dropout(0.5))\n",
    "        \n",
    "        model.add(Dense(4096, kernel_regularizer = l2(lambda2)))\n",
    "        model.add(Activation('relu'))\n",
    "        model.add(BatchNormalization())\n",
    "        model.add(Dropout(0.5))\n",
    "        \n",
    "        model.add(Dense(classes, kernel_regularizer = l2(lambda2)))\n",
    "        model.add(Activation('softmax'))\n",
    "        \n",
    "        return model"
   ]
  },
  {
   "cell_type": "code",
   "execution_count": null,
   "metadata": {
    "colab": {
     "base_uri": "https://localhost:8080/",
     "height": 1000
    },
    "id": "lhEefKRbZ-MW",
    "outputId": "2dd13d24-9174-4926-98fc-296c758ae619"
   },
   "outputs": [
    {
     "name": "stdout",
     "output_type": "stream",
     "text": [
      "Model: \"AlexNet\"\n",
      "_________________________________________________________________\n",
      " Layer (type)                Output Shape              Param #   \n",
      "=================================================================\n",
      " rescaling (Rescaling)       (None, 300, 300, 3)       0         \n",
      "                                                                 \n",
      " random_flip (RandomFlip)    (None, 300, 300, 3)       0         \n",
      "                                                                 \n",
      " random_rotation (RandomRota  (None, 300, 300, 3)      0         \n",
      " tion)                                                           \n",
      "                                                                 \n",
      " random_zoom (RandomZoom)    (None, 300, 300, 3)       0         \n",
      "                                                                 \n",
      " conv2d (Conv2D)             (None, 75, 75, 96)        34944     \n",
      "                                                                 \n",
      " activation (Activation)     (None, 75, 75, 96)        0         \n",
      "                                                                 \n",
      " batch_normalization (BatchN  (None, 75, 75, 96)       384       \n",
      " ormalization)                                                   \n",
      "                                                                 \n",
      " max_pooling2d (MaxPooling2D  (None, 37, 37, 96)       0         \n",
      " )                                                               \n",
      "                                                                 \n",
      " dropout (Dropout)           (None, 37, 37, 96)        0         \n",
      "                                                                 \n",
      " conv2d_1 (Conv2D)           (None, 37, 37, 256)       614656    \n",
      "                                                                 \n",
      " activation_1 (Activation)   (None, 37, 37, 256)       0         \n",
      "                                                                 \n",
      " batch_normalization_1 (Batc  (None, 37, 37, 256)      1024      \n",
      " hNormalization)                                                 \n",
      "                                                                 \n",
      " max_pooling2d_1 (MaxPooling  (None, 18, 18, 256)      0         \n",
      " 2D)                                                             \n",
      "                                                                 \n",
      " dropout_1 (Dropout)         (None, 18, 18, 256)       0         \n",
      "                                                                 \n",
      " conv2d_2 (Conv2D)           (None, 18, 18, 384)       885120    \n",
      "                                                                 \n",
      " activation_2 (Activation)   (None, 18, 18, 384)       0         \n",
      "                                                                 \n",
      " batch_normalization_2 (Batc  (None, 18, 18, 384)      1536      \n",
      " hNormalization)                                                 \n",
      "                                                                 \n",
      " conv2d_3 (Conv2D)           (None, 18, 18, 384)       1327488   \n",
      "                                                                 \n",
      " activation_3 (Activation)   (None, 18, 18, 384)       0         \n",
      "                                                                 \n",
      " batch_normalization_3 (Batc  (None, 18, 18, 384)      1536      \n",
      " hNormalization)                                                 \n",
      "                                                                 \n",
      " conv2d_4 (Conv2D)           (None, 18, 18, 256)       884992    \n",
      "                                                                 \n",
      " activation_4 (Activation)   (None, 18, 18, 256)       0         \n",
      "                                                                 \n",
      " batch_normalization_4 (Batc  (None, 18, 18, 256)      1024      \n",
      " hNormalization)                                                 \n",
      "                                                                 \n",
      " max_pooling2d_2 (MaxPooling  (None, 8, 8, 256)        0         \n",
      " 2D)                                                             \n",
      "                                                                 \n",
      " dropout_2 (Dropout)         (None, 8, 8, 256)         0         \n",
      "                                                                 \n",
      " flatten (Flatten)           (None, 16384)             0         \n",
      "                                                                 \n",
      " dense (Dense)               (None, 4096)              67112960  \n",
      "                                                                 \n",
      " activation_5 (Activation)   (None, 4096)              0         \n",
      "                                                                 \n",
      " batch_normalization_5 (Batc  (None, 4096)             16384     \n",
      " hNormalization)                                                 \n",
      "                                                                 \n",
      " dropout_3 (Dropout)         (None, 4096)              0         \n",
      "                                                                 \n",
      " dense_1 (Dense)             (None, 4096)              16781312  \n",
      "                                                                 \n",
      " activation_6 (Activation)   (None, 4096)              0         \n",
      "                                                                 \n",
      " batch_normalization_6 (Batc  (None, 4096)             16384     \n",
      " hNormalization)                                                 \n",
      "                                                                 \n",
      " dropout_4 (Dropout)         (None, 4096)              0         \n",
      "                                                                 \n",
      " dense_2 (Dense)             (None, 4)                 16388     \n",
      "                                                                 \n",
      " activation_7 (Activation)   (None, 4)                 0         \n",
      "                                                                 \n",
      "=================================================================\n",
      "Total params: 87,696,132\n",
      "Trainable params: 87,676,996\n",
      "Non-trainable params: 19,136\n",
      "_________________________________________________________________\n",
      "Epoch 1/10\n",
      "14/14 [==============================] - 20s 647ms/step - loss: 5.5046 - accuracy: 0.6105 - val_loss: 210.6576 - val_accuracy: 0.3033\n",
      "Epoch 2/10\n",
      "14/14 [==============================] - 7s 554ms/step - loss: 4.6205 - accuracy: 0.7031 - val_loss: 592.8170 - val_accuracy: 0.2299\n",
      "Epoch 3/10\n",
      "14/14 [==============================] - 7s 505ms/step - loss: 4.5767 - accuracy: 0.7031 - val_loss: 233.1022 - val_accuracy: 0.3934\n",
      "Epoch 4/10\n",
      "14/14 [==============================] - 7s 497ms/step - loss: 4.0893 - accuracy: 0.7126 - val_loss: 69.3195 - val_accuracy: 0.3152\n",
      "Epoch 5/10\n",
      "14/14 [==============================] - 7s 499ms/step - loss: 4.3164 - accuracy: 0.7268 - val_loss: 32.6111 - val_accuracy: 0.3531\n",
      "Epoch 6/10\n",
      "14/14 [==============================] - 8s 594ms/step - loss: 3.9583 - accuracy: 0.7553 - val_loss: 11.3123 - val_accuracy: 0.5427\n",
      "Epoch 7/10\n",
      "14/14 [==============================] - 7s 507ms/step - loss: 3.9162 - accuracy: 0.7458 - val_loss: 9.6760 - val_accuracy: 0.5758\n",
      "Epoch 8/10\n",
      "14/14 [==============================] - 7s 498ms/step - loss: 4.0266 - accuracy: 0.7173 - val_loss: 5.4175 - val_accuracy: 0.6682\n",
      "Epoch 9/10\n",
      "14/14 [==============================] - 7s 498ms/step - loss: 3.7837 - accuracy: 0.7672 - val_loss: 6.1892 - val_accuracy: 0.5853\n",
      "Epoch 10/10\n",
      "14/14 [==============================] - 7s 511ms/step - loss: 3.7946 - accuracy: 0.7435 - val_loss: 4.8553 - val_accuracy: 0.6825\n",
      "Test accuracy\n",
      "9/9 [==============================] - 1s 134ms/step\n",
      "              precision    recall  f1-score   support\n",
      "\n",
      "      cloudy       0.57      0.26      0.36        81\n",
      "        rain       0.65      0.35      0.46        48\n",
      "       shine       0.47      0.98      0.64        62\n",
      "     sunrise       0.99      0.97      0.98        91\n",
      "\n",
      "    accuracy                           0.66       282\n",
      "   macro avg       0.67      0.64      0.61       282\n",
      "weighted avg       0.70      0.66      0.64       282\n",
      "\n"
     ]
    },
    {
     "data": {
      "text/plain": [
       "<matplotlib.legend.Legend at 0x7fb4f028de90>"
      ]
     },
     "execution_count": 12,
     "metadata": {},
     "output_type": "execute_result"
    },
    {
     "data": {
      "image/png": "[encoded data removed]",
      "text/plain": [
       "<Figure size 432x288 with 1 Axes>"
      ]
     },
     "metadata": {},
     "output_type": "display_data"
    }
   ],
   "source": [
    "# compile the model by choosing how the optimizer works\n",
    "model = AlexNet.build(300,300,3,4)\n",
    "model.compile(loss = 'categorical_crossentropy', optimizer = Adam(), metrics = ['accuracy'])\n",
    "\n",
    "# print a summary of the model\n",
    "model.summary()\n",
    "\n",
    "# fit the model to the training data\n",
    "maxEpoch = 10\n",
    "H = model.fit(aug.flow(trainX, trainY, batch_size = 32), validation_data = (valX, valY), epochs = maxEpoch)\n",
    "\n",
    "print('Test accuracy')\n",
    "\n",
    "# predict posterior probability distribution for labels of the test set\n",
    "predictedY = model.predict(testX)\n",
    "\n",
    "# convert posterior probabilities to labels\n",
    "predictedY = predictedY.argmax(axis = 1)\n",
    "realY = testY.argmax(axis = 1)\n",
    "\n",
    "# print classification report\n",
    "print(classification_report(realY, predictedY, target_names = label_names))\n",
    "\n",
    "# plot the loss and accuracy through training\n",
    "plt.style.use('ggplot')\n",
    "plt.figure()\n",
    "\n",
    "plt.plot(range(maxEpoch), H.history['loss'], label = 'training loss')\n",
    "plt.plot(range(maxEpoch), H.history['val_loss'], label = 'validation loss')\n",
    "plt.plot(range(maxEpoch), H.history['accuracy'], label = 'training accuracy')\n",
    "plt.plot(range(maxEpoch), H.history['val_accuracy'], label = 'validation accuracy')\n",
    "\n",
    "plt.title('Loss and Accuracy')\n",
    "plt.xlabel('Epoch #')\n",
    "plt.ylabel('Loss/Accuracy')\n",
    "plt.legend()"
   ]
  },
  {
   "cell_type": "markdown",
   "metadata": {
    "id": "0Rh69hKbfnEr"
   },
   "source": [
    "### MobileNetV3Small"
   ]
  },
  {
   "cell_type": "code",
   "execution_count": 15,
   "metadata": {
    "colab": {
     "base_uri": "https://localhost:8080/"
    },
    "id": "bmZZSBvibLwg",
    "outputId": "7511a581-1c25-4e11-8bc6-9642684a0f96"
   },
   "outputs": [
    {
     "name": "stderr",
     "output_type": "stream",
     "text": [
      "WARNING:tensorflow:`input_shape` is undefined or non-square, or `rows` is not 224. Weights for input shape (224, 224) will be loaded as the default.\n"
     ]
    },
    {
     "name": "stdout",
     "output_type": "stream",
     "text": [
      "Downloading data from https://storage.googleapis.com/tensorflow/keras-applications/mobilenet_v3/weights_mobilenet_v3_small_224_1.0_float_no_top_v2.h5\n",
      "4334752/4334752 [==============================] - 0s 0us/step\n"
     ]
    }
   ],
   "source": [
    "# loading model from Keras model zoo\n",
    "base_model = keras.applications.MobileNetV3Small(\n",
    "    weights='imagenet',  # Load weights pre-trained on ImageNet.\n",
    "    input_shape=(300, 300, 3),\n",
    "    include_top=False)"
   ]
  },
  {
   "cell_type": "code",
   "execution_count": 16,
   "metadata": {
    "id": "poR7YsjubQ9p"
   },
   "outputs": [],
   "source": [
    "base_model.trainable = False"
   ]
  },
  {
   "cell_type": "code",
   "execution_count": 17,
   "metadata": {
    "id": "iZrp3rQmbUf7"
   },
   "outputs": [],
   "source": [
    "inputs = keras.Input(shape=(300, 300, 3))\n",
    "\n",
    "x = base_model(inputs, training=False)\n",
    "\n",
    "# softmax classifier\n",
    "x = Flatten()(x)\n",
    "x = Dense(4)(x)\n",
    "x = Activation('softmax')(x)\n",
    "        \n",
    "# create the model\n",
    "model = Model(inputs, x)"
   ]
  },
  {
   "cell_type": "code",
   "execution_count": 18,
   "metadata": {
    "colab": {
     "base_uri": "https://localhost:8080/"
    },
    "id": "GE4NgoUTbeW8",
    "outputId": "8020c4ff-ef57-4c09-9635-d3a803c2d9c6"
   },
   "outputs": [
    {
     "name": "stdout",
     "output_type": "stream",
     "text": [
      "Model: \"model\"\n",
      "_________________________________________________________________\n",
      " Layer (type)                Output Shape              Param #   \n",
      "=================================================================\n",
      " input_2 (InputLayer)        [(None, 300, 300, 3)]     0         \n",
      "                                                                 \n",
      " MobilenetV3small (Functiona  (None, 10, 10, 576)      939120    \n",
      " l)                                                              \n",
      "                                                                 \n",
      " flatten_1 (Flatten)         (None, 57600)             0         \n",
      "                                                                 \n",
      " dense_2 (Dense)             (None, 4)                 230404    \n",
      "                                                                 \n",
      " activation_5 (Activation)   (None, 4)                 0         \n",
      "                                                                 \n",
      "=================================================================\n",
      "Total params: 1,169,524\n",
      "Trainable params: 230,404\n",
      "Non-trainable params: 939,120\n",
      "_________________________________________________________________\n",
      "Epoch 1/10\n",
      "14/14 [==============================] - 13s 701ms/step - loss: 3.6882 - accuracy: 0.6152 - val_loss: 0.8895 - val_accuracy: 0.8886\n",
      "Epoch 2/10\n",
      "14/14 [==============================] - 7s 511ms/step - loss: 1.3781 - accuracy: 0.8646 - val_loss: 0.6274 - val_accuracy: 0.9313\n",
      "Epoch 3/10\n",
      "14/14 [==============================] - 7s 544ms/step - loss: 0.7021 - accuracy: 0.9216 - val_loss: 0.8226 - val_accuracy: 0.9123\n",
      "Epoch 4/10\n",
      "14/14 [==============================] - 7s 511ms/step - loss: 0.5370 - accuracy: 0.9311 - val_loss: 0.6671 - val_accuracy: 0.9218\n",
      "Epoch 5/10\n",
      "14/14 [==============================] - 7s 516ms/step - loss: 0.5904 - accuracy: 0.9074 - val_loss: 0.8053 - val_accuracy: 0.9100\n",
      "Epoch 6/10\n",
      "14/14 [==============================] - 7s 511ms/step - loss: 0.6978 - accuracy: 0.9074 - val_loss: 0.9531 - val_accuracy: 0.9171\n",
      "Epoch 7/10\n",
      "14/14 [==============================] - 7s 516ms/step - loss: 0.6182 - accuracy: 0.9382 - val_loss: 0.5950 - val_accuracy: 0.9455\n",
      "Epoch 8/10\n",
      "14/14 [==============================] - 7s 525ms/step - loss: 0.5622 - accuracy: 0.9549 - val_loss: 0.4853 - val_accuracy: 0.9431\n",
      "Epoch 9/10\n",
      "14/14 [==============================] - 7s 520ms/step - loss: 0.4964 - accuracy: 0.9596 - val_loss: 0.5350 - val_accuracy: 0.9455\n",
      "Epoch 10/10\n",
      "14/14 [==============================] - 7s 523ms/step - loss: 0.4053 - accuracy: 0.9596 - val_loss: 0.6359 - val_accuracy: 0.9242\n",
      "Test accuracy\n",
      "9/9 [==============================] - 1s 67ms/step\n",
      "              precision    recall  f1-score   support\n",
      "\n",
      "      cloudy       0.96      0.81      0.88        81\n",
      "        rain       1.00      1.00      1.00        48\n",
      "       shine       0.91      0.79      0.84        62\n",
      "     sunrise       0.82      1.00      0.90        91\n",
      "\n",
      "    accuracy                           0.90       282\n",
      "   macro avg       0.92      0.90      0.91       282\n",
      "weighted avg       0.91      0.90      0.90       282\n",
      "\n"
     ]
    }
   ],
   "source": [
    "model.compile(loss = 'categorical_crossentropy', optimizer = Adam(), metrics = ['accuracy'])\n",
    "\n",
    "# print a summary of the model\n",
    "model.summary()\n",
    "\n",
    "# fit the model to the training data\n",
    "maxEpoch = 10\n",
    "H = model.fit(aug.flow(trainX, trainY, batch_size = 32), validation_data = (valX, valY), epochs = maxEpoch)\n",
    "\n",
    "print('Test accuracy')\n",
    "\n",
    "# predict posterior probability distribution for labels of the test set\n",
    "predictedY = model.predict(testX)\n",
    "\n",
    "# convert posterior probabilities to labels\n",
    "predictedY = predictedY.argmax(axis = 1)\n",
    "realY = testY.argmax(axis = 1)\n",
    "\n",
    "# print classification report\n",
    "print(classification_report(realY, predictedY, target_names = label_names))\n"
   ]
  },
  {
   "cell_type": "code",
   "execution_count": 19,
   "metadata": {
    "colab": {
     "base_uri": "https://localhost:8080/"
    },
    "id": "-3B0MtfpxiPj",
    "outputId": "cbce499e-8c49-494d-d22f-a1b4bd1d46d0"
   },
   "outputs": [
    {
     "name": "stderr",
     "output_type": "stream",
     "text": [
      "WARNING:absl:Found untraced functions such as _jit_compiled_convolution_op, _jit_compiled_convolution_op, _jit_compiled_convolution_op, _jit_compiled_convolution_op, _jit_compiled_convolution_op while saving (showing 5 of 52). These functions will not be directly callable after loading.\n"
     ]
    }
   ],
   "source": [
    "# saving model\n",
    "model.save(\"model2\")"
   ]
  },
  {
   "cell_type": "markdown",
   "metadata": {
    "id": "2jOj0z-EfhxY"
   },
   "source": [
    "### EfficientNetB1"
   ]
  },
  {
   "cell_type": "code",
   "execution_count": 20,
   "metadata": {
    "colab": {
     "base_uri": "https://localhost:8080/"
    },
    "id": "oCaWmpLXcGKW",
    "outputId": "39babae1-53af-4787-ff98-1ee877eb0dda"
   },
   "outputs": [
    {
     "name": "stdout",
     "output_type": "stream",
     "text": [
      "Downloading data from https://storage.googleapis.com/keras-applications/efficientnetb1_notop.h5\n",
      "27018416/27018416 [==============================] - 2s 0us/step\n"
     ]
    }
   ],
   "source": [
    "# loading model from Keras zoo\n",
    "base_model = keras.applications.EfficientNetB1(\n",
    "    weights='imagenet',  # Load weights pre-trained on ImageNet.\n",
    "    input_shape=(300, 300, 3),\n",
    "    include_top=False)"
   ]
  },
  {
   "cell_type": "code",
   "execution_count": 21,
   "metadata": {
    "id": "nU9dGI5_cVe2"
   },
   "outputs": [],
   "source": [
    "base_model.trainable = False"
   ]
  },
  {
   "cell_type": "code",
   "execution_count": 22,
   "metadata": {
    "id": "5GXI5NtAcZmI"
   },
   "outputs": [],
   "source": [
    "inputs = keras.Input(shape=(300, 300, 3))\n",
    "\n",
    "x = base_model(inputs, training=False)\n",
    "# softmax classifier\n",
    "x = Flatten()(x)\n",
    "x = Dense(4)(x)\n",
    "x = Activation('softmax')(x)\n",
    "        \n",
    "# create the model\n",
    "model = Model(inputs, x)"
   ]
  },
  {
   "cell_type": "code",
   "execution_count": 23,
   "metadata": {
    "colab": {
     "base_uri": "https://localhost:8080/",
     "height": 1000
    },
    "id": "rsWkSw6Ecp8H",
    "outputId": "f08d76e4-e930-4f21-988a-26ff784dfcac"
   },
   "outputs": [
    {
     "name": "stdout",
     "output_type": "stream",
     "text": [
      "Model: \"model_1\"\n",
      "_________________________________________________________________\n",
      " Layer (type)                Output Shape              Param #   \n",
      "=================================================================\n",
      " input_4 (InputLayer)        [(None, 300, 300, 3)]     0         \n",
      "                                                                 \n",
      " efficientnetb1 (Functional)  (None, 10, 10, 1280)     6575239   \n",
      "                                                                 \n",
      " flatten_2 (Flatten)         (None, 128000)            0         \n",
      "                                                                 \n",
      " dense_3 (Dense)             (None, 4)                 512004    \n",
      "                                                                 \n",
      " activation_6 (Activation)   (None, 4)                 0         \n",
      "                                                                 \n",
      "=================================================================\n",
      "Total params: 7,087,243\n",
      "Trainable params: 512,004\n",
      "Non-trainable params: 6,575,239\n",
      "_________________________________________________________________\n",
      "Epoch 1/10\n",
      "14/14 [==============================] - 20s 847ms/step - loss: 2.0702 - accuracy: 0.7363 - val_loss: 2.1339 - val_accuracy: 0.8365\n",
      "Epoch 2/10\n",
      "14/14 [==============================] - 9s 640ms/step - loss: 1.3074 - accuracy: 0.8884 - val_loss: 0.8205 - val_accuracy: 0.9265\n",
      "Epoch 3/10\n",
      "14/14 [==============================] - 9s 635ms/step - loss: 0.7899 - accuracy: 0.9430 - val_loss: 0.7682 - val_accuracy: 0.9336\n",
      "Epoch 4/10\n",
      "14/14 [==============================] - 9s 683ms/step - loss: 0.8547 - accuracy: 0.9382 - val_loss: 0.7477 - val_accuracy: 0.9384\n",
      "Epoch 5/10\n",
      "14/14 [==============================] - 9s 643ms/step - loss: 1.3124 - accuracy: 0.8955 - val_loss: 1.9471 - val_accuracy: 0.8863\n",
      "Epoch 6/10\n",
      "14/14 [==============================] - 9s 635ms/step - loss: 0.7422 - accuracy: 0.9382 - val_loss: 1.0883 - val_accuracy: 0.9265\n",
      "Epoch 7/10\n",
      "14/14 [==============================] - 9s 642ms/step - loss: 0.5339 - accuracy: 0.9525 - val_loss: 1.4608 - val_accuracy: 0.9028\n",
      "Epoch 8/10\n",
      "14/14 [==============================] - 9s 646ms/step - loss: 0.7728 - accuracy: 0.9454 - val_loss: 0.9594 - val_accuracy: 0.9336\n",
      "Epoch 9/10\n",
      "14/14 [==============================] - 9s 635ms/step - loss: 0.6469 - accuracy: 0.9501 - val_loss: 1.9692 - val_accuracy: 0.8626\n",
      "Epoch 10/10\n",
      "14/14 [==============================] - 9s 677ms/step - loss: 0.7337 - accuracy: 0.9501 - val_loss: 0.9391 - val_accuracy: 0.9573\n",
      "Test accuracy\n",
      "9/9 [==============================] - 4s 275ms/step\n",
      "              precision    recall  f1-score   support\n",
      "\n",
      "      cloudy       0.93      0.95      0.94        81\n",
      "        rain       0.96      1.00      0.98        48\n",
      "       shine       0.95      0.87      0.91        62\n",
      "     sunrise       0.96      0.97      0.96        91\n",
      "\n",
      "    accuracy                           0.95       282\n",
      "   macro avg       0.95      0.95      0.95       282\n",
      "weighted avg       0.95      0.95      0.95       282\n",
      "\n"
     ]
    },
    {
     "data": {
      "text/plain": [
       "<matplotlib.legend.Legend at 0x7f10d8f633d0>"
      ]
     },
     "execution_count": 23,
     "metadata": {},
     "output_type": "execute_result"
    },
    {
     "data": {
      "image/png": "[encoded data removed]",
      "text/plain": [
       "<Figure size 432x288 with 1 Axes>"
      ]
     },
     "metadata": {},
     "output_type": "display_data"
    }
   ],
   "source": [
    "model.compile(loss = 'categorical_crossentropy', optimizer = Adam(), metrics = ['accuracy'])\n",
    "\n",
    "# print a summary of the model\n",
    "model.summary()\n",
    "\n",
    "# fit the model to the training data\n",
    "maxEpoch = 10\n",
    "H = model.fit(aug.flow(trainX, trainY, batch_size = 32), validation_data = (valX, valY), epochs = maxEpoch)\n",
    "\n",
    "print('Test accuracy')\n",
    "\n",
    "# predict posterior probability distribution for labels of the test set\n",
    "predictedY = model.predict(testX)\n",
    "\n",
    "# convert posterior probabilities to labels\n",
    "predictedY = predictedY.argmax(axis = 1)\n",
    "realY = testY.argmax(axis = 1)\n",
    "\n",
    "# print classification report\n",
    "print(classification_report(realY, predictedY, target_names = label_names))\n",
    "\n",
    "# plot the loss and accuracy through training\n",
    "plt.style.use('ggplot')\n",
    "plt.figure()\n",
    "\n",
    "plt.plot(range(maxEpoch), H.history['loss'], label = 'training loss')\n",
    "plt.plot(range(maxEpoch), H.history['val_loss'], label = 'validation loss')\n",
    "plt.plot(range(maxEpoch), H.history['accuracy'], label = 'training accuracy')\n",
    "plt.plot(range(maxEpoch), H.history['val_accuracy'], label = 'validation accuracy')\n",
    "\n",
    "plt.title('Loss and Accuracy')\n",
    "plt.xlabel('Epoch #')\n",
    "plt.ylabel('Loss/Accuracy')\n",
    "plt.legend()"
   ]
  },
  {
   "cell_type": "code",
   "execution_count": 24,
   "metadata": {
    "colab": {
     "base_uri": "https://localhost:8080/"
    },
    "id": "BgYJzFNfy609",
    "outputId": "e0098bc6-622b-45a3-d156-a468ed695530"
   },
   "outputs": [
    {
     "name": "stderr",
     "output_type": "stream",
     "text": [
      "WARNING:absl:Found untraced functions such as _jit_compiled_convolution_op, _jit_compiled_convolution_op, _jit_compiled_convolution_op, _jit_compiled_convolution_op, _jit_compiled_convolution_op while saving (showing 5 of 115). These functions will not be directly callable after loading.\n"
     ]
    }
   ],
   "source": [
    "# saving model\n",
    "model.save(\"model3\")"
   ]
  },
  {
   "cell_type": "markdown",
   "metadata": {
    "id": "nxvLdn1ZkTAt"
   },
   "source": [
    "### **Best Run**\n",
    "\n",
    "### Ensemble with 3 Best Results: LeNet, MobileNetV3Small, and EfficientNetB1"
   ]
  },
  {
   "cell_type": "markdown",
   "metadata": {
    "id": "GLHZRWVZ2cIN"
   },
   "source": [
    "After all the previous preliminary runs, the models that had the highest accuracy were:\n",
    "\n",
    "*LeNet*: 79%\n",
    "\n",
    "*MobileNetV3Small*: 90%\n",
    "\n",
    "*EfficientNetB1*: 95%\n",
    "\n",
    "Next, the models were ensembled to produce the highest possible accuracy between these three networks.\n",
    "\n",
    "After ensembling, the final accuracy for classifying these particular weather images was 96% accuracy."
   ]
  },
  {
   "cell_type": "code",
   "execution_count": 34,
   "metadata": {
    "colab": {
     "base_uri": "https://localhost:8080/"
    },
    "id": "qlYEFCRbtB6K",
    "outputId": "41f0b079-2284-46cf-951e-c71ad1371930"
   },
   "outputs": [
    {
     "name": "stderr",
     "output_type": "stream",
     "text": [
      "WARNING:tensorflow:Detecting that an object or model or tf.train.Checkpoint is being deleted with unrestored values. See the following logs for the specific values in question. To silence these warnings, use `status.expect_partial()`. See https://www.tensorflow.org/api_docs/python/tf/train/Checkpoint#restorefor details about the status object returned by the restore function.\n",
      "WARNING:tensorflow:Value in checkpoint could not be found in the restored object: (root).layer-1._random_generator._generator._state_var\n",
      "WARNING:tensorflow:Value in checkpoint could not be found in the restored object: (root).layer-2._random_generator._generator._state_var\n",
      "WARNING:tensorflow:Value in checkpoint could not be found in the restored object: (root).layer-3._random_generator._generator._state_var\n"
     ]
    },
    {
     "name": "stdout",
     "output_type": "stream",
     "text": [
      "Evaluating ensemble...\n",
      "9/9 [==============================] - 1s 55ms/step\n",
      "9/9 [==============================] - 1s 25ms/step\n",
      "9/9 [==============================] - 4s 141ms/step\n"
     ]
    }
   ],
   "source": [
    "# loading models\n",
    "models = []\n",
    "model1 = keras.models.load_model(\"model1\")\n",
    "model2 = keras.models.load_model(\"model2\")\n",
    "model3 = keras.models.load_model(\"model3\")\n",
    "models.append(model1)\n",
    "models.append(model2)\n",
    "models.append(model3)\n",
    "\n",
    "# initialize the list of predictions\n",
    "print('Evaluating ensemble...')\n",
    "predictions = []\n",
    "\n",
    "# loop over the models\n",
    "for model in models:\n",
    "    # use the current model to make predictions on the testing data, then store these predictions in the aggregate predictions list\n",
    "    predictions.append(model.predict(testX, batch_size=32))"
   ]
  },
  {
   "cell_type": "code",
   "execution_count": 39,
   "metadata": {
    "colab": {
     "base_uri": "https://localhost:8080/"
    },
    "id": "Mj3OKavB2-wR",
    "outputId": "37f37455-34f1-482f-8fa9-8ea47f3636ed"
   },
   "outputs": [
    {
     "name": "stdout",
     "output_type": "stream",
     "text": [
      "              precision    recall  f1-score   support\n",
      "\n",
      "           0       0.95      0.94      0.94        81\n",
      "           1       0.98      1.00      0.99        48\n",
      "           2       0.95      0.92      0.93        62\n",
      "           3       0.98      1.00      0.99        91\n",
      "\n",
      "    accuracy                           0.96       282\n",
      "   macro avg       0.96      0.96      0.96       282\n",
      "weighted avg       0.96      0.96      0.96       282\n",
      "\n"
     ]
    }
   ],
   "source": [
    "# average the probabilities across all model predictions\n",
    "predictions = np.average(predictions, axis=0)\n",
    "\n",
    "\n",
    "# show a classification report\n",
    "print(classification_report(testY, predictions.argmax(axis=1)))"
   ]
  },
  {
   "cell_type": "markdown",
   "metadata": {
    "id": "vKMCl9IHTB47"
   },
   "source": [
    "## Conclusion"
   ]
  },
  {
   "cell_type": "markdown",
   "metadata": {
    "id": "h6tnBZdTG-3D"
   },
   "source": [
    "The dataset chosen contained 1125 images of various weather patterns as followed:\n",
    "\n",
    "1. Cloudy - 300 images\n",
    "2. Rain - 215 images\n",
    "3. Shine - 253 images\n",
    "4. Sunrise - 357 images\n",
    "\n",
    "The input and output arrays were manually created by reshaping images and creating the output arrays based on the fixed number of each image type.\n",
    "\n",
    "Various convolutional neural architectures were tested. The baseline run consisted of a simple network with a singular convolutional layer and a classifier at the end. This model ended with about 52% accuracy.\n",
    "\n",
    "\n",
    "Next, a second, slightly more advanced benchmark, utilized two convolution layers that implemented a maxPooling layer at the end of convolutional module. This architecture increased the accuracy of the network from 52% accuracy to 63% accuracy.\n",
    "\n",
    "\n",
    "The other tested neural architecture included:\n",
    "\n",
    "\n",
    "*   MiniVGGNet: 76%\n",
    "*   LeNet: 79%\n",
    "*   AlexNet: 66%\n",
    "*   MobileNetV3Small (Transfer Learning): 90%\n",
    "*   EfficientNetB1 (Transfer Learning): 95%\n",
    "\n",
    "*Deeper networks such as ResNet and MiniGoogLeNet were attemped, but Colab was unable to allocate the memory for such large networks.\n",
    "\n",
    "\n",
    "For the final run, the three networks with the highest accuracies (LeNet, MobileSmallV3, and EfficientNetB1) were ensembled together. Ensembling essentially averages the predictions of the input models, so they can \"vote\" on predictions. This technique almost guarantees a higher accuracy than those of the individual accuracies of the input models.\n",
    "\n",
    "\n",
    "This resulted in a 96% accuracy for the final run.\n",
    "\n",
    "\n",
    "\n",
    "\n",
    "\n",
    "\n"
   ]
  }
 ],
 "metadata": {
  "accelerator": "GPU",
  "colab": {
   "machine_shape": "hm",
   "provenance": []
  },
  "gpuClass": "standard",
  "kernelspec": {
   "display_name": "Python 3 (ipykernel)",
   "language": "python",
   "name": "python3"
  },
  "language_info": {
   "codemirror_mode": {
    "name": "ipython",
    "version": 3
   },
   "file_extension": ".py",
   "mimetype": "text/x-python",
   "name": "python",
   "nbconvert_exporter": "python",
   "pygments_lexer": "ipython3",
   "version": "3.8.13"
  }
 },
 "nbformat": 4,
 "nbformat_minor": 4
}
